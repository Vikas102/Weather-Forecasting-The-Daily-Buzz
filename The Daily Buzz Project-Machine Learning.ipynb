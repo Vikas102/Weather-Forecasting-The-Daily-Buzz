{
 "cells": [
  {
   "cell_type": "markdown",
   "id": "481490e6",
   "metadata": {},
   "source": [
    "### Check for the execustion time for this notebook in bottom of the page\n",
    "#### 300.0128333568573 seconds approx"
   ]
  },
  {
   "cell_type": "code",
   "execution_count": 215,
   "id": "714dfcbd",
   "metadata": {},
   "outputs": [],
   "source": [
    "import time  # import time \n",
    "# start time \n",
    "start_time = time.time()"
   ]
  },
  {
   "cell_type": "markdown",
   "id": "66712f5e",
   "metadata": {},
   "source": [
    "## 1. Your views about the problem statement?\n",
    "\n",
    "The problem statement is essentially a weather forecasting problem that involves predicting whether it will rain tomorrow (\"RainTomorrow\") in Sydney using the provided data. The dataset includes the following columns: Date, Location, MinTemp, MaxTemp, Rainfall, Evaporation, Sunshine, Humidity9am, Humidity3pm, Pressure9am, Pressure3pm, Cloud9am, Cloud3pm, Temp9am, Temp3pm, RainToday, and RainTomorrow (which is the target column). \n",
    "\n",
    "The Daily Buzz wants to add column of \"Weather Oracle\" by using machine learning techniques to train a data-driven decision model for predicting \"RainTomorrow\" to ensure accurate weather forecasts for rain in Sydney. \n",
    "\n",
    "The target problem is a categorical variable, which means it's a logistic regression problem where we need to predict \"RainTomorrow\" as either \"Yes\" or \"No\" for upcoming days."
   ]
  },
  {
   "cell_type": "markdown",
   "id": "3ff0b72f",
   "metadata": {},
   "source": [
    "## 2. What will be your approach to solving this task?\n",
    "**2.1. Data Understanding and Tidying:-** First, to understand the given dataframe \"sydney_rain prediction\" which contain whether datas for sydney.\n",
    "\n",
    "**2.2. Data Cleaning and Preprocessing:-** Perform the EDD (Extended Data Dictionary) process to check for missing values and Explore relationships between features and the target variable. As target variable is categorical so best preferal plot to cehck for outliers is box-plot and count-plots to identify the number for categories.\n",
    "\n",
    "**2.3. Exploratory Data Analysis (EDA):-** EDD treatment for missing values and outliers, if required and also to create dummies values for categorical variables and splitting into dependent and independent variables, and train-test split. \n",
    "\n",
    "**2.4. Model Selection:-** As the problem involves predicting a categorical target variable, selecting models such as Logistic Regression, Linear Discriminant Analysis, and K-Nearest Neighbors is suitable.\n",
    "\n",
    "**&rightarrow; Ensemble methods as-Bagging, Random Forest classification, Gradient Boosting, AdaBoost, and XGBoost can handle both categorical and continuous target variables. Therefore, I will also use these above mentioned models to train and predict the RainTomorrow for upcoming days.**\n",
    "\n",
    "**2.5. Model Evaluation:-** After training with the selected model, check for performance evaluation metrics like Mean Squared Error (MSE), Mean Absolute Error (MAE),confusion matrix,  accuracy_score, and check for overfitting, and will select the best-performing model among them.\n",
    "\n",
    "**2.6. Prediction and conclusion:-** Based on the above step will find the best-fit model for the problem statement and also conclude with the accuracy of model fitting."
   ]
  },
  {
   "cell_type": "markdown",
   "id": "dcc213a3",
   "metadata": {},
   "source": [
    "### 2.1. Data Understanding and Tidying\n",
    "##### 2.1.1 Importing Numpy, Pandas, Seaborn, and matplot libraries for data intrepretation and visualization"
   ]
  },
  {
   "cell_type": "code",
   "execution_count": 216,
   "id": "503204cc",
   "metadata": {},
   "outputs": [],
   "source": [
    "import numpy as np     # Importing Numpy library \n",
    "import pandas as pd    # Importing Pandas library \n",
    "import seaborn as sns  # Importing Seaborn library \n",
    "import matplotlib.pyplot as plt  # Importing Matplot library "
   ]
  },
  {
   "cell_type": "markdown",
   "id": "38ee7588",
   "metadata": {},
   "source": [
    "##### 2.1.2 Loading and printing sydney_rain prediction dataframe using pandas library\n",
    "**&rightarrow; Note:-Change the path location for all the three files**"
   ]
  },
  {
   "cell_type": "code",
   "execution_count": 217,
   "id": "b0aa4f9d",
   "metadata": {},
   "outputs": [
    {
     "name": "stdout",
     "output_type": "stream",
     "text": [
      "\u001b[1m sydney_rain \u001b[0m \n",
      "            Date Location  MinTemp  MaxTemp  Rainfall  Evaporation  Sunshine  \\\n",
      "0    2008-02-01   Sydney     19.5     22.4      15.6          6.2       0.0   \n",
      "1    2008-02-02   Sydney     19.5     25.6       6.0          3.4       2.7   \n",
      "2    2008-02-03   Sydney     21.6     24.5       6.6          2.4       0.1   \n",
      "3    2008-02-04   Sydney     20.2     22.8      18.8          2.2       0.0   \n",
      "4    2008-02-05   Sydney     19.7     25.7      77.4          NaN       0.0   \n",
      "...         ...      ...      ...      ...       ...          ...       ...   \n",
      "3332 2017-06-21   Sydney      8.6     19.6       0.0          2.0       7.8   \n",
      "3333 2017-06-22   Sydney      9.3     19.2       0.0          2.0       9.2   \n",
      "3334 2017-06-23   Sydney      9.4     17.7       0.0          2.4       2.7   \n",
      "3335 2017-06-24   Sydney     10.1     19.3       0.0          1.4       9.3   \n",
      "3336 2017-06-25   Sydney      7.6     19.3       0.0          3.4       9.4   \n",
      "\n",
      "      Humidity9am  Humidity3pm  Pressure9am  Pressure3pm  Cloud9am  Cloud3pm  \\\n",
      "0            92.0         84.0       1017.6       1017.4       8.0       8.0   \n",
      "1            83.0         73.0       1017.9       1016.4       7.0       7.0   \n",
      "2            88.0         86.0       1016.7       1015.6       7.0       8.0   \n",
      "3            83.0         90.0       1014.2       1011.8       8.0       8.0   \n",
      "4            88.0         74.0       1008.3       1004.8       8.0       8.0   \n",
      "...           ...          ...          ...          ...       ...       ...   \n",
      "3332         73.0         52.0       1025.9       1025.3       2.0       2.0   \n",
      "3333         78.0         53.0       1028.5       1024.6       2.0       2.0   \n",
      "3334         85.0         56.0       1020.8       1015.0       6.0       6.0   \n",
      "3335         56.0         35.0       1017.3       1015.1       5.0       2.0   \n",
      "3336         73.0         32.0       1018.6       1015.4       1.0       1.0   \n",
      "\n",
      "      Temp9am  Temp3pm RainToday RainTomorrow  \n",
      "0        20.7     20.9       Yes          Yes  \n",
      "1        22.4     24.8       Yes          Yes  \n",
      "2        23.5     23.0       Yes          Yes  \n",
      "3        21.4     20.9       Yes          Yes  \n",
      "4        22.5     25.5       Yes          Yes  \n",
      "...       ...      ...       ...          ...  \n",
      "3332     10.5     17.9        No           No  \n",
      "3333     11.0     18.7        No           No  \n",
      "3334     10.2     17.3        No           No  \n",
      "3335     12.4     19.0        No           No  \n",
      "3336      9.4     18.8        No           No  \n",
      "\n",
      "[3337 rows x 17 columns] \n",
      "\n"
     ]
    }
   ],
   "source": [
    "# Loading and printing cities dataset excel file\n",
    "sydney_rain = pd.read_excel('E:/PHD ADMISSION/Om Namah Shivay/Data Science/Interview Preparation/Final project/sydney_rain prediction.xlsx', header=0)\n",
    "print((\"\\033[1m sydney_rain \\033[0m\"), \"\\n\", sydney_rain, \"\\n\")"
   ]
  },
  {
   "cell_type": "markdown",
   "id": "27cf65c3",
   "metadata": {},
   "source": [
    "### 2.2. Data Cleaning and Preprocessing\n",
    "##### 2.2.1 EDD (Extended Data Dictionary) process to check for missing values"
   ]
  },
  {
   "cell_type": "code",
   "execution_count": 218,
   "id": "43f04c23",
   "metadata": {},
   "outputs": [
    {
     "name": "stdout",
     "output_type": "stream",
     "text": [
      "<class 'pandas.core.frame.DataFrame'>\n",
      "RangeIndex: 3337 entries, 0 to 3336\n",
      "Data columns (total 17 columns):\n",
      " #   Column        Non-Null Count  Dtype         \n",
      "---  ------        --------------  -----         \n",
      " 0   Date          3337 non-null   datetime64[ns]\n",
      " 1   Location      3337 non-null   object        \n",
      " 2   MinTemp       3334 non-null   float64       \n",
      " 3   MaxTemp       3335 non-null   float64       \n",
      " 4   Rainfall      3331 non-null   float64       \n",
      " 5   Evaporation   3286 non-null   float64       \n",
      " 6   Sunshine      3321 non-null   float64       \n",
      " 7   Humidity9am   3323 non-null   float64       \n",
      " 8   Humidity3pm   3324 non-null   float64       \n",
      " 9   Pressure9am   3317 non-null   float64       \n",
      " 10  Pressure3pm   3318 non-null   float64       \n",
      " 11  Cloud9am      2771 non-null   float64       \n",
      " 12  Cloud3pm      2776 non-null   float64       \n",
      " 13  Temp9am       3333 non-null   float64       \n",
      " 14  Temp3pm       3333 non-null   float64       \n",
      " 15  RainToday     3331 non-null   object        \n",
      " 16  RainTomorrow  3337 non-null   object        \n",
      "dtypes: datetime64[ns](1), float64(13), object(3)\n",
      "memory usage: 443.3+ KB\n"
     ]
    }
   ],
   "source": [
    "# To get the information about the \"sydney_rain\" dataframe, including data types, non-null counts, and memory usage\n",
    "sydney_rain.info()"
   ]
  },
  {
   "cell_type": "code",
   "execution_count": 219,
   "id": "8bbc2fc3",
   "metadata": {},
   "outputs": [
    {
     "data": {
      "text/html": [
       "<div>\n",
       "<style scoped>\n",
       "    .dataframe tbody tr th:only-of-type {\n",
       "        vertical-align: middle;\n",
       "    }\n",
       "\n",
       "    .dataframe tbody tr th {\n",
       "        vertical-align: top;\n",
       "    }\n",
       "\n",
       "    .dataframe thead th {\n",
       "        text-align: right;\n",
       "    }\n",
       "</style>\n",
       "<table border=\"1\" class=\"dataframe\">\n",
       "  <thead>\n",
       "    <tr style=\"text-align: right;\">\n",
       "      <th></th>\n",
       "      <th>Date</th>\n",
       "      <th>MinTemp</th>\n",
       "      <th>MaxTemp</th>\n",
       "      <th>Rainfall</th>\n",
       "      <th>Evaporation</th>\n",
       "      <th>Sunshine</th>\n",
       "      <th>Humidity9am</th>\n",
       "      <th>Humidity3pm</th>\n",
       "      <th>Pressure9am</th>\n",
       "      <th>Pressure3pm</th>\n",
       "      <th>Cloud9am</th>\n",
       "      <th>Cloud3pm</th>\n",
       "      <th>Temp9am</th>\n",
       "      <th>Temp3pm</th>\n",
       "    </tr>\n",
       "  </thead>\n",
       "  <tbody>\n",
       "    <tr>\n",
       "      <th>count</th>\n",
       "      <td>3337</td>\n",
       "      <td>3334.000000</td>\n",
       "      <td>3335.000000</td>\n",
       "      <td>3331.000000</td>\n",
       "      <td>3286.000000</td>\n",
       "      <td>3321.000000</td>\n",
       "      <td>3323.000000</td>\n",
       "      <td>3324.000000</td>\n",
       "      <td>3317.000000</td>\n",
       "      <td>3318.000000</td>\n",
       "      <td>2771.000000</td>\n",
       "      <td>2776.000000</td>\n",
       "      <td>3333.000000</td>\n",
       "      <td>3333.000000</td>\n",
       "    </tr>\n",
       "    <tr>\n",
       "      <th>mean</th>\n",
       "      <td>2012-10-16 01:24:34.737788672</td>\n",
       "      <td>14.865057</td>\n",
       "      <td>23.002339</td>\n",
       "      <td>3.330231</td>\n",
       "      <td>5.187432</td>\n",
       "      <td>7.179374</td>\n",
       "      <td>68.229010</td>\n",
       "      <td>54.699158</td>\n",
       "      <td>1018.346156</td>\n",
       "      <td>1016.018774</td>\n",
       "      <td>4.181523</td>\n",
       "      <td>4.218660</td>\n",
       "      <td>17.819742</td>\n",
       "      <td>21.533333</td>\n",
       "    </tr>\n",
       "    <tr>\n",
       "      <th>min</th>\n",
       "      <td>2008-02-01 00:00:00</td>\n",
       "      <td>4.300000</td>\n",
       "      <td>11.700000</td>\n",
       "      <td>0.000000</td>\n",
       "      <td>0.000000</td>\n",
       "      <td>0.000000</td>\n",
       "      <td>19.000000</td>\n",
       "      <td>10.000000</td>\n",
       "      <td>986.700000</td>\n",
       "      <td>989.800000</td>\n",
       "      <td>0.000000</td>\n",
       "      <td>0.000000</td>\n",
       "      <td>6.400000</td>\n",
       "      <td>10.200000</td>\n",
       "    </tr>\n",
       "    <tr>\n",
       "      <th>25%</th>\n",
       "      <td>2010-05-15 00:00:00</td>\n",
       "      <td>11.000000</td>\n",
       "      <td>19.600000</td>\n",
       "      <td>0.000000</td>\n",
       "      <td>3.200000</td>\n",
       "      <td>4.300000</td>\n",
       "      <td>58.000000</td>\n",
       "      <td>44.000000</td>\n",
       "      <td>1013.700000</td>\n",
       "      <td>1011.300000</td>\n",
       "      <td>1.000000</td>\n",
       "      <td>1.000000</td>\n",
       "      <td>13.800000</td>\n",
       "      <td>18.400000</td>\n",
       "    </tr>\n",
       "    <tr>\n",
       "      <th>50%</th>\n",
       "      <td>2012-09-28 00:00:00</td>\n",
       "      <td>14.900000</td>\n",
       "      <td>22.800000</td>\n",
       "      <td>0.000000</td>\n",
       "      <td>4.800000</td>\n",
       "      <td>8.300000</td>\n",
       "      <td>69.000000</td>\n",
       "      <td>56.000000</td>\n",
       "      <td>1018.600000</td>\n",
       "      <td>1016.300000</td>\n",
       "      <td>5.000000</td>\n",
       "      <td>4.000000</td>\n",
       "      <td>18.200000</td>\n",
       "      <td>21.300000</td>\n",
       "    </tr>\n",
       "    <tr>\n",
       "      <th>75%</th>\n",
       "      <td>2015-03-14 00:00:00</td>\n",
       "      <td>18.700000</td>\n",
       "      <td>26.000000</td>\n",
       "      <td>1.400000</td>\n",
       "      <td>7.000000</td>\n",
       "      <td>10.200000</td>\n",
       "      <td>80.000000</td>\n",
       "      <td>65.000000</td>\n",
       "      <td>1023.100000</td>\n",
       "      <td>1020.800000</td>\n",
       "      <td>7.000000</td>\n",
       "      <td>7.000000</td>\n",
       "      <td>21.700000</td>\n",
       "      <td>24.500000</td>\n",
       "    </tr>\n",
       "    <tr>\n",
       "      <th>max</th>\n",
       "      <td>2017-06-25 00:00:00</td>\n",
       "      <td>27.600000</td>\n",
       "      <td>45.800000</td>\n",
       "      <td>119.400000</td>\n",
       "      <td>18.400000</td>\n",
       "      <td>13.600000</td>\n",
       "      <td>100.000000</td>\n",
       "      <td>99.000000</td>\n",
       "      <td>1039.000000</td>\n",
       "      <td>1036.700000</td>\n",
       "      <td>9.000000</td>\n",
       "      <td>8.000000</td>\n",
       "      <td>36.500000</td>\n",
       "      <td>44.700000</td>\n",
       "    </tr>\n",
       "    <tr>\n",
       "      <th>std</th>\n",
       "      <td>NaN</td>\n",
       "      <td>4.553641</td>\n",
       "      <td>4.494638</td>\n",
       "      <td>9.895172</td>\n",
       "      <td>2.777407</td>\n",
       "      <td>3.810886</td>\n",
       "      <td>15.085355</td>\n",
       "      <td>16.293530</td>\n",
       "      <td>7.021571</td>\n",
       "      <td>7.032211</td>\n",
       "      <td>2.749578</td>\n",
       "      <td>2.641885</td>\n",
       "      <td>4.897177</td>\n",
       "      <td>4.303737</td>\n",
       "    </tr>\n",
       "  </tbody>\n",
       "</table>\n",
       "</div>"
      ],
      "text/plain": [
       "                                Date      MinTemp      MaxTemp     Rainfall  \\\n",
       "count                           3337  3334.000000  3335.000000  3331.000000   \n",
       "mean   2012-10-16 01:24:34.737788672    14.865057    23.002339     3.330231   \n",
       "min              2008-02-01 00:00:00     4.300000    11.700000     0.000000   \n",
       "25%              2010-05-15 00:00:00    11.000000    19.600000     0.000000   \n",
       "50%              2012-09-28 00:00:00    14.900000    22.800000     0.000000   \n",
       "75%              2015-03-14 00:00:00    18.700000    26.000000     1.400000   \n",
       "max              2017-06-25 00:00:00    27.600000    45.800000   119.400000   \n",
       "std                              NaN     4.553641     4.494638     9.895172   \n",
       "\n",
       "       Evaporation     Sunshine  Humidity9am  Humidity3pm  Pressure9am  \\\n",
       "count  3286.000000  3321.000000  3323.000000  3324.000000  3317.000000   \n",
       "mean      5.187432     7.179374    68.229010    54.699158  1018.346156   \n",
       "min       0.000000     0.000000    19.000000    10.000000   986.700000   \n",
       "25%       3.200000     4.300000    58.000000    44.000000  1013.700000   \n",
       "50%       4.800000     8.300000    69.000000    56.000000  1018.600000   \n",
       "75%       7.000000    10.200000    80.000000    65.000000  1023.100000   \n",
       "max      18.400000    13.600000   100.000000    99.000000  1039.000000   \n",
       "std       2.777407     3.810886    15.085355    16.293530     7.021571   \n",
       "\n",
       "       Pressure3pm     Cloud9am     Cloud3pm      Temp9am      Temp3pm  \n",
       "count  3318.000000  2771.000000  2776.000000  3333.000000  3333.000000  \n",
       "mean   1016.018774     4.181523     4.218660    17.819742    21.533333  \n",
       "min     989.800000     0.000000     0.000000     6.400000    10.200000  \n",
       "25%    1011.300000     1.000000     1.000000    13.800000    18.400000  \n",
       "50%    1016.300000     5.000000     4.000000    18.200000    21.300000  \n",
       "75%    1020.800000     7.000000     7.000000    21.700000    24.500000  \n",
       "max    1036.700000     9.000000     8.000000    36.500000    44.700000  \n",
       "std       7.032211     2.749578     2.641885     4.897177     4.303737  "
      ]
     },
     "execution_count": 219,
     "metadata": {},
     "output_type": "execute_result"
    }
   ],
   "source": [
    "# To get the descriptive statistics of the \"sydney_rain\" numeric columns\n",
    "sydney_rain.describe()"
   ]
  },
  {
   "cell_type": "markdown",
   "id": "2eaaefdc",
   "metadata": {},
   "source": [
    "##### 2.2.2  By using box-plot we can able to check for outliers for continous variables"
   ]
  },
  {
   "cell_type": "code",
   "execution_count": 220,
   "id": "0476ca02",
   "metadata": {},
   "outputs": [
    {
     "data": {
      "image/png": "[encoded data removed]",
      "text/plain": [
       "<Figure size 640x480 with 1 Axes>"
      ]
     },
     "metadata": {},
     "output_type": "display_data"
    }
   ],
   "source": [
    "# To visualize the distribution of 'MinTemp' in the \"sydney_rain\" dataset and also to check for the outliers\n",
    "sns.boxplot(y='MinTemp', data=sydney_rain)\n",
    "plt.title('Box Plot for MinTemp')\n",
    "plt.show()"
   ]
  },
  {
   "cell_type": "code",
   "execution_count": 221,
   "id": "00377393",
   "metadata": {},
   "outputs": [
    {
     "data": {
      "image/png": "[encoded data removed]",
      "text/plain": [
       "<Figure size 640x480 with 1 Axes>"
      ]
     },
     "metadata": {},
     "output_type": "display_data"
    }
   ],
   "source": [
    "# To visualize the distribution of 'MaxTemp' in the \"sydney_rain\" dataset and also to check for the outliers\n",
    "sns.boxplot(y='MaxTemp', data=sydney_rain)\n",
    "plt.title('Box Plot for MaxTemp')\n",
    "plt.show()"
   ]
  },
  {
   "cell_type": "code",
   "execution_count": 222,
   "id": "a0c75660",
   "metadata": {},
   "outputs": [
    {
     "data": {
      "text/plain": [
       "<Axes: ylabel='Rainfall'>"
      ]
     },
     "execution_count": 222,
     "metadata": {},
     "output_type": "execute_result"
    },
    {
     "data": {
      "image/png": "[encoded data removed]",
      "text/plain": [
       "<Figure size 640x480 with 1 Axes>"
      ]
     },
     "metadata": {},
     "output_type": "display_data"
    }
   ],
   "source": [
    "# To visualize the distribution of 'Rainfall' in the \"sydney_rain\" dataset and also to check for the outliers\n",
    "sns.boxplot(y='Rainfall', data=sydney_rain)"
   ]
  },
  {
   "cell_type": "code",
   "execution_count": 223,
   "id": "1f65faa9",
   "metadata": {},
   "outputs": [
    {
     "data": {
      "text/plain": [
       "<Axes: ylabel='Evaporation'>"
      ]
     },
     "execution_count": 223,
     "metadata": {},
     "output_type": "execute_result"
    },
    {
     "data": {
      "image/png": "[encoded data removed]",
      "text/plain": [
       "<Figure size 640x480 with 1 Axes>"
      ]
     },
     "metadata": {},
     "output_type": "display_data"
    }
   ],
   "source": [
    "# To visualize the distribution of 'Evaporation' in the \"sydney_rain\" dataset and also to check for the outliers\n",
    "sns.boxplot(y='Evaporation', data=sydney_rain)"
   ]
  },
  {
   "cell_type": "code",
   "execution_count": 224,
   "id": "80d66785",
   "metadata": {},
   "outputs": [
    {
     "data": {
      "text/plain": [
       "<Axes: ylabel='Sunshine'>"
      ]
     },
     "execution_count": 224,
     "metadata": {},
     "output_type": "execute_result"
    },
    {
     "data": {
      "image/png": "[encoded data removed]",
      "text/plain": [
       "<Figure size 640x480 with 1 Axes>"
      ]
     },
     "metadata": {},
     "output_type": "display_data"
    }
   ],
   "source": [
    "# To visualize the distribution of 'Sunshine' in the \"sydney_rain\" dataset and also to check for the outliers\n",
    "sns.boxplot(y='Sunshine', data=sydney_rain)"
   ]
  },
  {
   "cell_type": "code",
   "execution_count": 225,
   "id": "46091d7a",
   "metadata": {},
   "outputs": [
    {
     "data": {
      "text/plain": [
       "<Axes: ylabel='Humidity9am'>"
      ]
     },
     "execution_count": 225,
     "metadata": {},
     "output_type": "execute_result"
    },
    {
     "data": {
      "image/png": "[encoded data removed]",
      "text/plain": [
       "<Figure size 640x480 with 1 Axes>"
      ]
     },
     "metadata": {},
     "output_type": "display_data"
    }
   ],
   "source": [
    "# To visualize the distribution of 'Humidity9am' in the \"sydney_rain\" dataset and also to check for the outliers\n",
    "sns.boxplot(y='Humidity9am', data=sydney_rain)"
   ]
  },
  {
   "cell_type": "code",
   "execution_count": 226,
   "id": "6f07bf8b",
   "metadata": {},
   "outputs": [
    {
     "data": {
      "text/plain": [
       "<Axes: ylabel='Humidity3pm'>"
      ]
     },
     "execution_count": 226,
     "metadata": {},
     "output_type": "execute_result"
    },
    {
     "data": {
      "image/png": "[encoded data removed]",
      "text/plain": [
       "<Figure size 640x480 with 1 Axes>"
      ]
     },
     "metadata": {},
     "output_type": "display_data"
    }
   ],
   "source": [
    "# To visualize the distribution of 'Humidity3pm' in the \"sydney_rain\" dataset and also to check for the outliers\n",
    "sns.boxplot(y='Humidity3pm', data=sydney_rain)"
   ]
  },
  {
   "cell_type": "code",
   "execution_count": 227,
   "id": "66cd27cc",
   "metadata": {},
   "outputs": [
    {
     "data": {
      "text/plain": [
       "<Axes: ylabel='Pressure9am'>"
      ]
     },
     "execution_count": 227,
     "metadata": {},
     "output_type": "execute_result"
    },
    {
     "data": {
      "image/png": "[encoded data removed]",
      "text/plain": [
       "<Figure size 640x480 with 1 Axes>"
      ]
     },
     "metadata": {},
     "output_type": "display_data"
    }
   ],
   "source": [
    "# To visualize the distribution of 'Pressure9am' in the \"sydney_rain\" dataset and also to check for the outliers\n",
    "sns.boxplot(y='Pressure9am', data=sydney_rain)"
   ]
  },
  {
   "cell_type": "code",
   "execution_count": 228,
   "id": "f16dbf3f",
   "metadata": {},
   "outputs": [
    {
     "data": {
      "text/plain": [
       "<Axes: ylabel='Pressure3pm'>"
      ]
     },
     "execution_count": 228,
     "metadata": {},
     "output_type": "execute_result"
    },
    {
     "data": {
      "image/png": "[encoded data removed]",
      "text/plain": [
       "<Figure size 640x480 with 1 Axes>"
      ]
     },
     "metadata": {},
     "output_type": "display_data"
    }
   ],
   "source": [
    "# To visualize the distribution of 'Pressure3pm' in the \"sydney_rain\" dataset and also to check for the outliers\n",
    "sns.boxplot(y='Pressure3pm', data=sydney_rain)"
   ]
  },
  {
   "cell_type": "code",
   "execution_count": 229,
   "id": "581fc4b0",
   "metadata": {},
   "outputs": [
    {
     "data": {
      "text/plain": [
       "<Axes: ylabel='Temp9am'>"
      ]
     },
     "execution_count": 229,
     "metadata": {},
     "output_type": "execute_result"
    },
    {
     "data": {
      "image/png": "[encoded data removed]",
      "text/plain": [
       "<Figure size 640x480 with 1 Axes>"
      ]
     },
     "metadata": {},
     "output_type": "display_data"
    }
   ],
   "source": [
    "# To visualize the distribution of 'Temp9am' in the \"sydney_rain\" dataset and also to check for the outliers\n",
    "sns.boxplot(y='Temp9am', data=sydney_rain)"
   ]
  },
  {
   "cell_type": "code",
   "execution_count": 230,
   "id": "8297cc35",
   "metadata": {},
   "outputs": [
    {
     "data": {
      "text/plain": [
       "<Axes: ylabel='Temp3pm'>"
      ]
     },
     "execution_count": 230,
     "metadata": {},
     "output_type": "execute_result"
    },
    {
     "data": {
      "image/png": "[encoded data removed]",
      "text/plain": [
       "<Figure size 640x480 with 1 Axes>"
      ]
     },
     "metadata": {},
     "output_type": "display_data"
    }
   ],
   "source": [
    "# To visualize the distribution of 'Temp3pm' in the \"sydney_rain\" dataset and also to check for the outliers\n",
    "sns.boxplot(y='Temp3pm', data=sydney_rain)"
   ]
  },
  {
   "cell_type": "markdown",
   "id": "60939f2b",
   "metadata": {},
   "source": [
    "##### 2.2.3 Count-plot to analyse the total counts of categorical varaibles in  \"sydney_rain\" dataframe"
   ]
  },
  {
   "cell_type": "code",
   "execution_count": 231,
   "id": "cd18fda9",
   "metadata": {},
   "outputs": [
    {
     "data": {
      "text/plain": [
       "<Axes: xlabel='Cloud9am', ylabel='count'>"
      ]
     },
     "execution_count": 231,
     "metadata": {},
     "output_type": "execute_result"
    },
    {
     "data": {
      "image/png": "[encoded data removed]",
      "text/plain": [
       "<Figure size 640x480 with 1 Axes>"
      ]
     },
     "metadata": {},
     "output_type": "display_data"
    }
   ],
   "source": [
    "# To check the counts of observations in each categorical \"Cloud9am\" bins using bar graph\n",
    "sns.countplot(x='Cloud9am', data = sydney_rain)"
   ]
  },
  {
   "cell_type": "code",
   "execution_count": 232,
   "id": "a2d06d9a",
   "metadata": {},
   "outputs": [
    {
     "data": {
      "text/plain": [
       "<Axes: xlabel='Cloud3pm', ylabel='count'>"
      ]
     },
     "execution_count": 232,
     "metadata": {},
     "output_type": "execute_result"
    },
    {
     "data": {
      "image/png": "[encoded data removed]",
      "text/plain": [
       "<Figure size 640x480 with 1 Axes>"
      ]
     },
     "metadata": {},
     "output_type": "display_data"
    }
   ],
   "source": [
    "# To check the counts of observations in each categorical \"Cloud3pm\" bins using bar graph\n",
    "sns.countplot(x='Cloud3pm', data = sydney_rain)"
   ]
  },
  {
   "cell_type": "markdown",
   "id": "7e9d94d5",
   "metadata": {},
   "source": [
    "##### 2.2.4  Checking for skewnwss for \"CTC\" and \"Previous CTC\" dataset varaibles in  \"sydney_rain\" dataframe\n",
    "**Note-Because of the missing values, initially it shows Skewness value as \"NAN\", but after doing missing values tretament,  we are getting the skewness values for all historical plots.**"
   ]
  },
  {
   "cell_type": "code",
   "execution_count": 233,
   "id": "6c6fe007",
   "metadata": {},
   "outputs": [
    {
     "name": "stdout",
     "output_type": "stream",
     "text": [
      "Skewness: nan\n"
     ]
    },
    {
     "name": "stderr",
     "output_type": "stream",
     "text": [
      "C:\\ProgramData\\anaconda3\\Lib\\site-packages\\seaborn\\_oldcore.py:1119: FutureWarning: use_inf_as_na option is deprecated and will be removed in a future version. Convert inf values to NaN before operating instead.\n",
      "  with pd.option_context('mode.use_inf_as_na', True):\n"
     ]
    },
    {
     "data": {
      "image/png": "[encoded data removed]",
      "text/plain": [
       "<Figure size 640x480 with 1 Axes>"
      ]
     },
     "metadata": {},
     "output_type": "display_data"
    }
   ],
   "source": [
    "from scipy.stats import skew  # Import skewness model from scipy states model\n",
    "\n",
    "# Create a histogram for 'MinTemp'\n",
    "sns.histplot(data=sydney_rain['MinTemp'])\n",
    "\n",
    "# Calculate and print skewness for 'MinTemp'\n",
    "skewness = skew(sydney_rain['MinTemp'])\n",
    "print(\"Skewness:\", skewness)"
   ]
  },
  {
   "cell_type": "code",
   "execution_count": 234,
   "id": "648bbe11",
   "metadata": {},
   "outputs": [
    {
     "name": "stderr",
     "output_type": "stream",
     "text": [
      "C:\\ProgramData\\anaconda3\\Lib\\site-packages\\seaborn\\_oldcore.py:1119: FutureWarning: use_inf_as_na option is deprecated and will be removed in a future version. Convert inf values to NaN before operating instead.\n",
      "  with pd.option_context('mode.use_inf_as_na', True):\n"
     ]
    },
    {
     "name": "stdout",
     "output_type": "stream",
     "text": [
      "Skewness: nan\n"
     ]
    },
    {
     "data": {
      "image/png": "[encoded data removed]",
      "text/plain": [
       "<Figure size 640x480 with 1 Axes>"
      ]
     },
     "metadata": {},
     "output_type": "display_data"
    }
   ],
   "source": [
    "# Create a histogram for 'MaxTemp'\n",
    "sns.histplot(data=sydney_rain['MaxTemp'])\n",
    "\n",
    "# Calculate and print skewness for 'MaxTemp'\n",
    "skewness = skew(sydney_rain['MaxTemp'])\n",
    "print(\"Skewness:\", skewness)"
   ]
  },
  {
   "cell_type": "code",
   "execution_count": 235,
   "id": "bea66536",
   "metadata": {},
   "outputs": [
    {
     "name": "stdout",
     "output_type": "stream",
     "text": [
      "Skewness: nan\n"
     ]
    },
    {
     "name": "stderr",
     "output_type": "stream",
     "text": [
      "C:\\ProgramData\\anaconda3\\Lib\\site-packages\\seaborn\\_oldcore.py:1119: FutureWarning: use_inf_as_na option is deprecated and will be removed in a future version. Convert inf values to NaN before operating instead.\n",
      "  with pd.option_context('mode.use_inf_as_na', True):\n"
     ]
    },
    {
     "data": {
      "image/png": "[encoded data removed]",
      "text/plain": [
       "<Figure size 640x480 with 1 Axes>"
      ]
     },
     "metadata": {},
     "output_type": "display_data"
    }
   ],
   "source": [
    "# Create a histogram for 'Evaporation'\n",
    "sns.histplot(data=sydney_rain['Evaporation'])\n",
    "\n",
    "# Calculate and print skewness for 'Evaporation'\n",
    "skewness = skew(sydney_rain['Evaporation'])\n",
    "print(\"Skewness:\", skewness)"
   ]
  },
  {
   "cell_type": "code",
   "execution_count": 236,
   "id": "71ae52a4",
   "metadata": {},
   "outputs": [
    {
     "name": "stdout",
     "output_type": "stream",
     "text": [
      "Skewness: nan\n"
     ]
    },
    {
     "name": "stderr",
     "output_type": "stream",
     "text": [
      "C:\\ProgramData\\anaconda3\\Lib\\site-packages\\seaborn\\_oldcore.py:1119: FutureWarning: use_inf_as_na option is deprecated and will be removed in a future version. Convert inf values to NaN before operating instead.\n",
      "  with pd.option_context('mode.use_inf_as_na', True):\n"
     ]
    },
    {
     "data": {
      "image/png": "[encoded data removed]",
      "text/plain": [
       "<Figure size 640x480 with 1 Axes>"
      ]
     },
     "metadata": {},
     "output_type": "display_data"
    }
   ],
   "source": [
    "# Create a histogram for 'Sunshine'\n",
    "sns.histplot(data=sydney_rain['Sunshine'])\n",
    "\n",
    "# Calculate and print skewness for 'Sunshine'\n",
    "skewness = skew(sydney_rain['Sunshine'])\n",
    "print(\"Skewness:\", skewness)"
   ]
  },
  {
   "cell_type": "code",
   "execution_count": 237,
   "id": "ce571c56",
   "metadata": {},
   "outputs": [
    {
     "name": "stdout",
     "output_type": "stream",
     "text": [
      "Skewness: nan\n"
     ]
    },
    {
     "name": "stderr",
     "output_type": "stream",
     "text": [
      "C:\\ProgramData\\anaconda3\\Lib\\site-packages\\seaborn\\_oldcore.py:1119: FutureWarning: use_inf_as_na option is deprecated and will be removed in a future version. Convert inf values to NaN before operating instead.\n",
      "  with pd.option_context('mode.use_inf_as_na', True):\n"
     ]
    },
    {
     "data": {
      "image/png": "[encoded data removed]",
      "text/plain": [
       "<Figure size 640x480 with 1 Axes>"
      ]
     },
     "metadata": {},
     "output_type": "display_data"
    }
   ],
   "source": [
    "# Create a histogram for 'Humidity9am'\n",
    "sns.histplot(data=sydney_rain['Humidity9am'])\n",
    "\n",
    "# Calculate and print skewness for 'Humidity9am'\n",
    "skewness = skew(sydney_rain['Humidity9am'])\n",
    "print(\"Skewness:\", skewness)"
   ]
  },
  {
   "cell_type": "code",
   "execution_count": 238,
   "id": "23cf7bdb",
   "metadata": {},
   "outputs": [
    {
     "name": "stdout",
     "output_type": "stream",
     "text": [
      "Skewness: nan\n"
     ]
    },
    {
     "name": "stderr",
     "output_type": "stream",
     "text": [
      "C:\\ProgramData\\anaconda3\\Lib\\site-packages\\seaborn\\_oldcore.py:1119: FutureWarning: use_inf_as_na option is deprecated and will be removed in a future version. Convert inf values to NaN before operating instead.\n",
      "  with pd.option_context('mode.use_inf_as_na', True):\n"
     ]
    },
    {
     "data": {
      "image/png": "[encoded data removed]",
      "text/plain": [
       "<Figure size 640x480 with 1 Axes>"
      ]
     },
     "metadata": {},
     "output_type": "display_data"
    }
   ],
   "source": [
    "# Create a histogram for 'Humidity3pm'\n",
    "sns.histplot(data=sydney_rain['Humidity3pm'])\n",
    "\n",
    "# Calculate and print skewness for 'Humidity3pm'\n",
    "skewness = skew(sydney_rain['Humidity3pm'])\n",
    "print(\"Skewness:\", skewness)"
   ]
  },
  {
   "cell_type": "code",
   "execution_count": 239,
   "id": "4c732862",
   "metadata": {},
   "outputs": [
    {
     "name": "stderr",
     "output_type": "stream",
     "text": [
      "C:\\ProgramData\\anaconda3\\Lib\\site-packages\\seaborn\\_oldcore.py:1119: FutureWarning: use_inf_as_na option is deprecated and will be removed in a future version. Convert inf values to NaN before operating instead.\n",
      "  with pd.option_context('mode.use_inf_as_na', True):\n"
     ]
    },
    {
     "name": "stdout",
     "output_type": "stream",
     "text": [
      "Skewness: nan\n"
     ]
    },
    {
     "data": {
      "image/png": "[encoded data removed]",
      "text/plain": [
       "<Figure size 640x480 with 1 Axes>"
      ]
     },
     "metadata": {},
     "output_type": "display_data"
    }
   ],
   "source": [
    "# Create a histogram for 'Pressure9am'\n",
    "sns.histplot(data=sydney_rain['Pressure9am'])\n",
    "\n",
    "# Calculate and print skewness for 'Pressure9am'\n",
    "skewness = skew(sydney_rain['Pressure9am'])\n",
    "print(\"Skewness:\", skewness)"
   ]
  },
  {
   "cell_type": "code",
   "execution_count": 240,
   "id": "0b1ac7af",
   "metadata": {},
   "outputs": [
    {
     "name": "stdout",
     "output_type": "stream",
     "text": [
      "Skewness: nan\n"
     ]
    },
    {
     "name": "stderr",
     "output_type": "stream",
     "text": [
      "C:\\ProgramData\\anaconda3\\Lib\\site-packages\\seaborn\\_oldcore.py:1119: FutureWarning: use_inf_as_na option is deprecated and will be removed in a future version. Convert inf values to NaN before operating instead.\n",
      "  with pd.option_context('mode.use_inf_as_na', True):\n"
     ]
    },
    {
     "data": {
      "image/png": "[encoded data removed]",
      "text/plain": [
       "<Figure size 640x480 with 1 Axes>"
      ]
     },
     "metadata": {},
     "output_type": "display_data"
    }
   ],
   "source": [
    "# Create a histogram for 'Pressure3pm'\n",
    "sns.histplot(data=sydney_rain['Pressure3pm'])\n",
    "\n",
    "# Calculate and print skewness for 'Pressure3pm'\n",
    "skewness = skew(sydney_rain['Pressure3pm'])\n",
    "print(\"Skewness:\", skewness)"
   ]
  },
  {
   "cell_type": "code",
   "execution_count": 241,
   "id": "a033079a",
   "metadata": {},
   "outputs": [
    {
     "name": "stdout",
     "output_type": "stream",
     "text": [
      "Skewness: nan\n"
     ]
    },
    {
     "name": "stderr",
     "output_type": "stream",
     "text": [
      "C:\\ProgramData\\anaconda3\\Lib\\site-packages\\seaborn\\_oldcore.py:1119: FutureWarning: use_inf_as_na option is deprecated and will be removed in a future version. Convert inf values to NaN before operating instead.\n",
      "  with pd.option_context('mode.use_inf_as_na', True):\n"
     ]
    },
    {
     "data": {
      "image/png": "[encoded data removed]",
      "text/plain": [
       "<Figure size 640x480 with 1 Axes>"
      ]
     },
     "metadata": {},
     "output_type": "display_data"
    }
   ],
   "source": [
    "# Create a histogram for 'Temp9am'\n",
    "sns.histplot(data=sydney_rain['Temp9am'])\n",
    "\n",
    "# Calculate and print skewness for 'Temp9am'\n",
    "skewness = skew(sydney_rain['Temp9am'])\n",
    "print(\"Skewness:\", skewness)"
   ]
  },
  {
   "cell_type": "code",
   "execution_count": 242,
   "id": "a04d12d0",
   "metadata": {},
   "outputs": [
    {
     "name": "stderr",
     "output_type": "stream",
     "text": [
      "C:\\ProgramData\\anaconda3\\Lib\\site-packages\\seaborn\\_oldcore.py:1119: FutureWarning: use_inf_as_na option is deprecated and will be removed in a future version. Convert inf values to NaN before operating instead.\n",
      "  with pd.option_context('mode.use_inf_as_na', True):\n"
     ]
    },
    {
     "name": "stdout",
     "output_type": "stream",
     "text": [
      "Skewness: nan\n"
     ]
    },
    {
     "data": {
      "image/png": "[encoded data removed]",
      "text/plain": [
       "<Figure size 640x480 with 1 Axes>"
      ]
     },
     "metadata": {},
     "output_type": "display_data"
    }
   ],
   "source": [
    "# Create a histogram for 'Temp3pm'\n",
    "sns.histplot(data=sydney_rain['Temp3pm'])\n",
    "\n",
    "# Calculate and print skewness for 'Temp3pm'\n",
    "skewness = skew(sydney_rain['Temp3pm'])\n",
    "print(\"Skewness:\", skewness)"
   ]
  },
  {
   "cell_type": "markdown",
   "id": "a3847c86",
   "metadata": {},
   "source": [
    "### Observations after EDD on provided dataset\n",
    "##### For the missing value obsevation for different columns\n",
    "&rightarrow; There are Missing values in MinTemp, MaxTemp, Rainfall, Evaporation, Sunshine, Humidity9am, Humidity3pm, Pressure9am, Pressure3pm, Cloud9am, Cloud3pm, Temp9am, Temp3pm, and RainToday columns of sydney_rain dataset.\n",
    "\n",
    "&rightarrow; \"Cloud9am\" and \"Cloud3pm\" are float type data (4.0) so i round off the mean value for both columns and repersent that with float data type\n",
    "\n",
    "&rightarrow; \"Rain Today\" contain \"Yes\" and \"No\" values as its categorical datas, so while missing treatment i will assign \"Yes\" for the NAN value to improve our model accuracy.\n",
    "\n",
    "**Note1-Because of the missing values for above mentioned columns, initially i got \"Skewness=NAN\", but after doing missing values tretament, for fruther execution od code we are getting the skewness values for above historical plots.**\n",
    "\n",
    "##### For the outliers in varaiable, box-plots gives proper visualizatuions\n",
    "&rightarrow; There are outliers showing in MaxTemp, Rainfall, Evaporation, Humidity9am, Humidity3pm, Pressure9am, Pressure3pm, Temp9am, and Temp3pm.\n",
    "\n",
    "**Note2-For Rainfall, by using box-plot, its showing the excessive outliers are present**\n",
    "\n",
    "##### For the count of categorical datas, count-plots gives proper visualizatuions\n",
    "&rightarrow; There are only one value as \"9\" in \"Cloud9am\" so we can replace that one particular value with \"8\".\n",
    "\n",
    "&rightarrow; Measured in “oktas” for \"1\" and \"7\" is more in compare to others oktas for both \"Cloud9am\" and \"Cloud3pm.\n",
    "\n",
    "##### Checking for skewnwss for \"CTC\" and \"Previous CTC\" dataset\n",
    "&rightarrow; **Positive/Left Skewed:-**-\"Evaporation\" shows positive skewness.\n",
    "\n",
    "&rightarrow; **Negative/Right Skewed:-**-\"Humidity9am\" shows negative skewness.\n",
    "\n",
    "&rightarrow; **Symmetric/Not Skewed:-**-\"MaxTemp\", \"Pressure9am\", \"Pressure3pm\", \"Temp3pm\", Humidity3pm\" are almost perfectly distributed, that means there are no skewness.\n",
    "\n",
    "&rightarrow; **Bimodel distribution:-**-\"MinTemp\", \"Temp9am\", are Bi-model distribution.\n",
    "\n",
    "&rightarrow; **Unitary distribution:-**-\"Sunshine\" have almost unitary distribution.\n",
    "\n",
    "##### Date column contain data in \"Datetime64\" format\n",
    "&rightarrow; Need to convert data type of \"Date\" Column from \"datetime64\" to \"Float\"\n",
    "\n",
    "&rightarrow; After converting as value is too high in compare to others columns so, after splitting into \"x\" and \"y\" variable, it need to standard transformation for \"x\" sets of data"
   ]
  },
  {
   "cell_type": "markdown",
   "id": "0e228c29",
   "metadata": {},
   "source": [
    "### 2.3. Exploratory Data Analysis (EDA)\n",
    "##### 2.3.1 Missing value treatement for MinTemp, MaxTemp, Rainfall, Evaporation, Sunshine, Humidity9am, Humidity3pm, Pressure9am, Pressure3pm, Cloud9am, Cloud3pm, Temp9am, Temp3pm, and RainToday"
   ]
  },
  {
   "cell_type": "code",
   "execution_count": 243,
   "id": "fc27943f",
   "metadata": {},
   "outputs": [],
   "source": [
    "# Missing value treatment with the mean of the \"MinTemp\" column in \"sydney_rain\" dataframe\n",
    "sydney_rain.MinTemp = sydney_rain.MinTemp.fillna(sydney_rain.MinTemp.mean())"
   ]
  },
  {
   "cell_type": "code",
   "execution_count": 244,
   "id": "10173891",
   "metadata": {},
   "outputs": [],
   "source": [
    "# Missing value treatment with the mean of the \"MaxTemp\" column in \"sydney_rain\" dataframe\n",
    "sydney_rain.MaxTemp = sydney_rain.MaxTemp.fillna(sydney_rain.MaxTemp.mean())"
   ]
  },
  {
   "cell_type": "code",
   "execution_count": 245,
   "id": "d382365b",
   "metadata": {},
   "outputs": [],
   "source": [
    "# Missing value treatment with the mean of the \"Rainfall\" column in \"sydney_rain\" dataframe\n",
    "sydney_rain.Rainfall = sydney_rain.Rainfall.fillna(sydney_rain.Rainfall.mean())"
   ]
  },
  {
   "cell_type": "code",
   "execution_count": 246,
   "id": "9a9dd836",
   "metadata": {},
   "outputs": [],
   "source": [
    "# Missing value treatment with the mean of the \"Evaporation\" column in \"sydney_rain\" dataframe\n",
    "sydney_rain.Evaporation = sydney_rain.Evaporation.fillna(sydney_rain.Evaporation.mean())"
   ]
  },
  {
   "cell_type": "code",
   "execution_count": 247,
   "id": "f0d13a8d",
   "metadata": {},
   "outputs": [],
   "source": [
    "# Missing value treatment with the mean of the \"Sunshine\" column in \"sydney_rain\" dataframe\n",
    "sydney_rain.Sunshine = sydney_rain.Sunshine.fillna(sydney_rain.Sunshine.mean())"
   ]
  },
  {
   "cell_type": "code",
   "execution_count": 248,
   "id": "61f73f82",
   "metadata": {},
   "outputs": [],
   "source": [
    "# Missing value treatment with the mean of the \"Humidity9am\" column in \"sydney_rain\" dataframe\n",
    "sydney_rain.Humidity9am = sydney_rain.Humidity9am.fillna(sydney_rain.Humidity9am.mean())"
   ]
  },
  {
   "cell_type": "code",
   "execution_count": 249,
   "id": "4cbfa317",
   "metadata": {},
   "outputs": [],
   "source": [
    "# Missing value treatment with the mean of the \"Humidity3pm\" column in \"sydney_rain\" dataframe\n",
    "sydney_rain.Humidity3pm = sydney_rain.Humidity3pm.fillna(sydney_rain.Humidity3pm.mean())"
   ]
  },
  {
   "cell_type": "code",
   "execution_count": 250,
   "id": "259289d6",
   "metadata": {},
   "outputs": [],
   "source": [
    "# Missing value treatment with the mean of the \"Pressure9am\" column in \"sydney_rain\" dataframe\n",
    "sydney_rain.Pressure9am = sydney_rain.Pressure9am.fillna(sydney_rain.Pressure9am.mean())"
   ]
  },
  {
   "cell_type": "code",
   "execution_count": 251,
   "id": "7da97f33",
   "metadata": {},
   "outputs": [],
   "source": [
    "# Missing value treatment with the mean of the \"Pressure3pm\" column in \"sydney_rain\" dataframe\n",
    "sydney_rain.Pressure3pm = sydney_rain.Pressure3pm.fillna(sydney_rain.Pressure3pm.mean())"
   ]
  },
  {
   "cell_type": "code",
   "execution_count": 252,
   "id": "4cb7094f",
   "metadata": {},
   "outputs": [],
   "source": [
    "# Missing value treatment with the mean of the \"Cloud9am\" column in \"sydney_rain\" dataframe\n",
    "sydney_rain.Cloud9am = sydney_rain.Cloud9am.fillna(float(round(sydney_rain.Cloud9am.mean())))"
   ]
  },
  {
   "cell_type": "code",
   "execution_count": 253,
   "id": "f6d899d3",
   "metadata": {},
   "outputs": [],
   "source": [
    "# Missing value treatment with the mean of the \"Cloud3pm\" column in \"sydney_rain\" dataframe\n",
    "sydney_rain.Cloud3pm = sydney_rain.Cloud3pm.fillna(float(round(sydney_rain.Cloud3pm.mean())))"
   ]
  },
  {
   "cell_type": "code",
   "execution_count": 254,
   "id": "3893d262",
   "metadata": {},
   "outputs": [],
   "source": [
    "# Missing value treatment with the mean of the \"Temp9am\" column in \"sydney_rain\" dataframe\n",
    "sydney_rain.Temp9am = sydney_rain.Temp9am.fillna(sydney_rain.Temp9am.mean())"
   ]
  },
  {
   "cell_type": "code",
   "execution_count": 255,
   "id": "77775e64",
   "metadata": {},
   "outputs": [],
   "source": [
    "# Missing value treatment with the mean of the \"Temp3pm\" column in \"sydney_rain\" dataframe\n",
    "sydney_rain.Temp3pm = sydney_rain.Temp3pm.fillna(sydney_rain.Temp3pm.mean())"
   ]
  },
  {
   "cell_type": "markdown",
   "id": "2858fdb7",
   "metadata": {},
   "source": [
    "##### 2.3.2 Missing value treatement for \"RainToday\" with the string \"Yes\" and replac \"9\" with \"8\" in \"Cloud9am\""
   ]
  },
  {
   "cell_type": "code",
   "execution_count": 256,
   "id": "2f61e62f",
   "metadata": {},
   "outputs": [],
   "source": [
    "# Missing value treatment with the string 'Yes' in the \"RainToday\" column in \"sydney_rain\" dataframe\n",
    "sydney_rain.RainToday = sydney_rain.RainToday.fillna('Yes')"
   ]
  },
  {
   "cell_type": "code",
   "execution_count": 257,
   "id": "8f7d6507",
   "metadata": {},
   "outputs": [],
   "source": [
    "# Replace the string '9' with '8' in the Cloud9am column\n",
    "sydney_rain['Cloud9am'] = sydney_rain['Cloud9am'].astype(str).replace('9.0', '8.0').astype(float)"
   ]
  },
  {
   "cell_type": "code",
   "execution_count": 258,
   "id": "2d829044",
   "metadata": {},
   "outputs": [
    {
     "name": "stdout",
     "output_type": "stream",
     "text": [
      "<class 'pandas.core.frame.DataFrame'>\n",
      "RangeIndex: 3337 entries, 0 to 3336\n",
      "Data columns (total 17 columns):\n",
      " #   Column        Non-Null Count  Dtype         \n",
      "---  ------        --------------  -----         \n",
      " 0   Date          3337 non-null   datetime64[ns]\n",
      " 1   Location      3337 non-null   object        \n",
      " 2   MinTemp       3337 non-null   float64       \n",
      " 3   MaxTemp       3337 non-null   float64       \n",
      " 4   Rainfall      3337 non-null   float64       \n",
      " 5   Evaporation   3337 non-null   float64       \n",
      " 6   Sunshine      3337 non-null   float64       \n",
      " 7   Humidity9am   3337 non-null   float64       \n",
      " 8   Humidity3pm   3337 non-null   float64       \n",
      " 9   Pressure9am   3337 non-null   float64       \n",
      " 10  Pressure3pm   3337 non-null   float64       \n",
      " 11  Cloud9am      3337 non-null   float64       \n",
      " 12  Cloud3pm      3337 non-null   float64       \n",
      " 13  Temp9am       3337 non-null   float64       \n",
      " 14  Temp3pm       3337 non-null   float64       \n",
      " 15  RainToday     3337 non-null   object        \n",
      " 16  RainTomorrow  3337 non-null   object        \n",
      "dtypes: datetime64[ns](1), float64(13), object(3)\n",
      "memory usage: 443.3+ KB\n"
     ]
    }
   ],
   "source": [
    "# After missing values treatment, get the information about the \"sydney_rain\" dataframe, including data types, non-null counts\n",
    "sydney_rain.info()"
   ]
  },
  {
   "cell_type": "code",
   "execution_count": 259,
   "id": "26252c13",
   "metadata": {},
   "outputs": [
    {
     "data": {
      "text/plain": [
       "<Axes: xlabel='Cloud9am', ylabel='count'>"
      ]
     },
     "execution_count": 259,
     "metadata": {},
     "output_type": "execute_result"
    },
    {
     "data": {
      "image/png": "[encoded data removed]",
      "text/plain": [
       "<Figure size 640x480 with 1 Axes>"
      ]
     },
     "metadata": {},
     "output_type": "display_data"
    }
   ],
   "source": [
    "# To check the counts of observations in each categorical \"Cloud3pm\" bins using bar graph\n",
    "sns.countplot(x='Cloud9am', data = sydney_rain)"
   ]
  },
  {
   "cell_type": "markdown",
   "id": "57db68e3",
   "metadata": {},
   "source": [
    "##### 2.3.3 Outliers treatement for MaxTemp, Rainfall, Evaporation, Humidity9am, Humidity3pm, Pressure9am, Pressure3pm, Temp9am, and Temp3pm."
   ]
  },
  {
   "cell_type": "code",
   "execution_count": 260,
   "id": "3260c9ca",
   "metadata": {},
   "outputs": [
    {
     "name": "stdout",
     "output_type": "stream",
     "text": [
      "Lower Bound: 10.000000000000004, Upper Bound: 35.599999999999994\n"
     ]
    },
    {
     "data": {
      "image/png": "[encoded data removed]",
      "text/plain": [
       "<Figure size 640x480 with 1 Axes>"
      ]
     },
     "metadata": {},
     "output_type": "display_data"
    }
   ],
   "source": [
    "# define function for outlier treatment using box-plot concept\n",
    "def treat_outliers(data, column):\n",
    "\n",
    "    # Calculate Q1 (25th-percentile) and Q3 (75th-percentile)\n",
    "    Q1 = data[column].quantile(0.25)\n",
    "    Q3 = data[column].quantile(0.75)\n",
    "\n",
    "    # Calculate IQR\n",
    "    IQR = Q3-Q1\n",
    "\n",
    "    # Define the bounds for identifying outliers with standard threshold=1.5\n",
    "    lower_bound = Q1-1.5*IQR\n",
    "    upper_bound = Q3+1.5*IQR\n",
    "    # print lower bound and upper bound\n",
    "    print(f\"Lower Bound: {lower_bound}, Upper Bound: {upper_bound}\")\n",
    "\n",
    "    # Cap the outliers\n",
    "    data[column] = data[column].apply(lambda x: lower_bound if x < lower_bound else (upper_bound if x > upper_bound else x))\n",
    "    return data\n",
    "\n",
    "# Treat outliers in \"MaxTemp\" column\n",
    "sydney_rain = treat_outliers(sydney_rain, 'MaxTemp')\n",
    "\n",
    "# Verify the outlier treatments for \"MaxTemp\" \n",
    "sns.boxplot(y='MaxTemp', data=sydney_rain)  \n",
    "plt.title('Box Plot for MaxTemp After Outlier Treatment')\n",
    "plt.show()"
   ]
  },
  {
   "cell_type": "code",
   "execution_count": 261,
   "id": "88c1046f",
   "metadata": {},
   "outputs": [
    {
     "name": "stdout",
     "output_type": "stream",
     "text": [
      "Lower Bound: -2.0999999999999996, Upper Bound: 3.4999999999999996\n"
     ]
    },
    {
     "data": {
      "image/png": "[encoded data removed]",
      "text/plain": [
       "<Figure size 640x480 with 1 Axes>"
      ]
     },
     "metadata": {},
     "output_type": "display_data"
    }
   ],
   "source": [
    "# Treat outliers in \"Rainfall\" column\n",
    "sydney_rain = treat_outliers(sydney_rain, 'Rainfall')\n",
    "\n",
    "# Verify the outlier treatments for \"Rainfall\"\n",
    "sns.boxplot(y='Rainfall', data=sydney_rain)\n",
    "plt.title('Box Plot for Rainfall After Outlier Treatment')\n",
    "plt.show()"
   ]
  },
  {
   "cell_type": "code",
   "execution_count": 262,
   "id": "cad66683",
   "metadata": {},
   "outputs": [
    {
     "name": "stdout",
     "output_type": "stream",
     "text": [
      "Lower Bound: -2.499999999999999, Upper Bound: 12.7\n"
     ]
    },
    {
     "data": {
      "image/png": "[encoded data removed]",
      "text/plain": [
       "<Figure size 640x480 with 1 Axes>"
      ]
     },
     "metadata": {},
     "output_type": "display_data"
    }
   ],
   "source": [
    "# Treat outliers in \"Evaporation\" column\n",
    "sydney_rain = treat_outliers(sydney_rain, 'Evaporation')\n",
    "\n",
    "# Verify the outlier treatments for \"Evaporation\"\n",
    "sns.boxplot(y='Rainfall', data=sydney_rain)\n",
    "plt.title('Box Plot for Evaporation After Outlier Treatment')\n",
    "plt.show()"
   ]
  },
  {
   "cell_type": "code",
   "execution_count": 263,
   "id": "9cf3b0f4",
   "metadata": {},
   "outputs": [
    {
     "name": "stdout",
     "output_type": "stream",
     "text": [
      "Lower Bound: 25.0, Upper Bound: 113.0\n"
     ]
    },
    {
     "data": {
      "image/png": "[encoded data removed]",
      "text/plain": [
       "<Figure size 640x480 with 1 Axes>"
      ]
     },
     "metadata": {},
     "output_type": "display_data"
    }
   ],
   "source": [
    "# Treat outliers in \"Humidity9am\" column\n",
    "sydney_rain = treat_outliers(sydney_rain, 'Humidity9am')\n",
    "\n",
    "# Verify the outlier treatments for \"Humidity9am\"\n",
    "sns.boxplot(y='Humidity9am', data=sydney_rain)\n",
    "plt.title('Box Plot for Humidity9am After Outlier Treatment')\n",
    "plt.show()"
   ]
  },
  {
   "cell_type": "code",
   "execution_count": 264,
   "id": "33599937",
   "metadata": {},
   "outputs": [
    {
     "name": "stdout",
     "output_type": "stream",
     "text": [
      "Lower Bound: 14.0, Upper Bound: 94.0\n"
     ]
    },
    {
     "data": {
      "image/png": "[encoded data removed]",
      "text/plain": [
       "<Figure size 640x480 with 1 Axes>"
      ]
     },
     "metadata": {},
     "output_type": "display_data"
    }
   ],
   "source": [
    "# Treat outliers in \"Humidity3pm\" column\n",
    "sydney_rain = treat_outliers(sydney_rain, 'Humidity3pm')\n",
    "\n",
    "# Verify the outlier treatments for \"Humidity3pm\"\n",
    "sns.boxplot(y='Humidity3pm', data=sydney_rain)\n",
    "plt.title('Box Plot for Humidity3pm After Outlier Treatment')\n",
    "plt.show()"
   ]
  },
  {
   "cell_type": "code",
   "execution_count": 265,
   "id": "b161f4b8",
   "metadata": {},
   "outputs": [
    {
     "name": "stdout",
     "output_type": "stream",
     "text": [
      "Lower Bound: 999.8499999999999, Upper Bound: 1037.0500000000002\n"
     ]
    },
    {
     "data": {
      "image/png": "[encoded data removed]",
      "text/plain": [
       "<Figure size 640x480 with 1 Axes>"
      ]
     },
     "metadata": {},
     "output_type": "display_data"
    }
   ],
   "source": [
    "# Treat outliers in \"Pressure9am\" column\n",
    "sydney_rain = treat_outliers(sydney_rain, 'Pressure9am')\n",
    "\n",
    "# Verify the outlier treatments for \"Pressure9am\"\n",
    "sns.boxplot(y='Pressure9am', data=sydney_rain)\n",
    "plt.title('Box Plot for Pressure9am After Outlier Treatment')\n",
    "plt.show()"
   ]
  },
  {
   "cell_type": "code",
   "execution_count": 266,
   "id": "4ceba4c3",
   "metadata": {},
   "outputs": [
    {
     "name": "stdout",
     "output_type": "stream",
     "text": [
      "Lower Bound: 997.05, Upper Bound: 1035.05\n"
     ]
    },
    {
     "data": {
      "image/png": "[encoded data removed]",
      "text/plain": [
       "<Figure size 640x480 with 1 Axes>"
      ]
     },
     "metadata": {},
     "output_type": "display_data"
    }
   ],
   "source": [
    "# Treat outliers in \"Pressure3pm\" column\n",
    "sydney_rain = treat_outliers(sydney_rain, 'Pressure3pm')\n",
    "\n",
    "# Verify the outlier treatments for \"Pressure3pm\"\n",
    "sns.boxplot(y='Pressure3pm', data=sydney_rain)\n",
    "plt.title('Box Plot for Pressure3pm After Outlier Treatment')\n",
    "plt.show()"
   ]
  },
  {
   "cell_type": "code",
   "execution_count": 267,
   "id": "ee8ea74e",
   "metadata": {},
   "outputs": [
    {
     "name": "stdout",
     "output_type": "stream",
     "text": [
      "Lower Bound: 1.9500000000000028, Upper Bound: 33.55\n"
     ]
    },
    {
     "data": {
      "image/png": "[encoded data removed]",
      "text/plain": [
       "<Figure size 640x480 with 1 Axes>"
      ]
     },
     "metadata": {},
     "output_type": "display_data"
    }
   ],
   "source": [
    "# Treat outliers in \"Temp9am\" column\n",
    "sydney_rain = treat_outliers(sydney_rain, 'Temp9am')\n",
    "\n",
    "# Verify the outlier treatments for \"Temp9am\"\n",
    "sns.boxplot(y='Temp9am', data=sydney_rain)\n",
    "plt.title('Box Plot for Temp9am After Outlier Treatment')\n",
    "plt.show()"
   ]
  },
  {
   "cell_type": "code",
   "execution_count": 268,
   "id": "d65af428",
   "metadata": {},
   "outputs": [
    {
     "name": "stdout",
     "output_type": "stream",
     "text": [
      "Lower Bound: 9.249999999999996, Upper Bound: 33.650000000000006\n"
     ]
    },
    {
     "data": {
      "image/png": "[encoded data removed]",
      "text/plain": [
       "<Figure size 640x480 with 1 Axes>"
      ]
     },
     "metadata": {},
     "output_type": "display_data"
    }
   ],
   "source": [
    "# Treat outliers in \"Temp3pm\" column\n",
    "sydney_rain = treat_outliers(sydney_rain, 'Temp3pm')\n",
    "\n",
    "# Verify the outlier treatments for \"Temp3pm\"\n",
    "sns.boxplot(y='Temp3pm', data=sydney_rain)\n",
    "plt.title('Box Plot for Temp3pm After Outlier Treatment')\n",
    "plt.show()"
   ]
  },
  {
   "cell_type": "markdown",
   "id": "5226a3f2",
   "metadata": {},
   "source": [
    "##### 2.3.4 Converting Date column data type from \"Datetime64\" to float"
   ]
  },
  {
   "cell_type": "code",
   "execution_count": 269,
   "id": "dbd50472",
   "metadata": {},
   "outputs": [
    {
     "name": "stdout",
     "output_type": "stream",
     "text": [
      "0       1.201824e+09\n",
      "1       1.201910e+09\n",
      "2       1.201997e+09\n",
      "3       1.202083e+09\n",
      "4       1.202170e+09\n",
      "            ...     \n",
      "3332    1.498003e+09\n",
      "3333    1.498090e+09\n",
      "3334    1.498176e+09\n",
      "3335    1.498262e+09\n",
      "3336    1.498349e+09\n",
      "Name: Date, Length: 3337, dtype: float64\n"
     ]
    }
   ],
   "source": [
    "import pandas as pd\n",
    "\n",
    "# Assuming 'Date' is your datetime column\n",
    "sydney_rain['Date'] = sydney_rain['Date'].astype('int64') / 10**9  # Convert nanoseconds to seconds\n",
    "\n",
    "# Printing the 'Date' column\n",
    "print(sydney_rain['Date'])"
   ]
  },
  {
   "cell_type": "markdown",
   "id": "3bcfd112",
   "metadata": {},
   "source": [
    "##### 2.3.4 Creating dummies values for categorical variables"
   ]
  },
  {
   "cell_type": "code",
   "execution_count": 270,
   "id": "a457d53f",
   "metadata": {},
   "outputs": [],
   "source": [
    "# converts the categorical variables in the DataFrame \"sydney_rain\" into dummy variables and convert it into float data type\n",
    "sydney_rain = pd.get_dummies(sydney_rain, columns=[\"Location\", \"RainToday\", \"RainTomorrow\"], drop_first=True).astype(float)"
   ]
  },
  {
   "cell_type": "code",
   "execution_count": 271,
   "id": "dba4f093",
   "metadata": {},
   "outputs": [
    {
     "name": "stdout",
     "output_type": "stream",
     "text": [
      "<class 'pandas.core.frame.DataFrame'>\n",
      "RangeIndex: 3337 entries, 0 to 3336\n",
      "Data columns (total 16 columns):\n",
      " #   Column            Non-Null Count  Dtype  \n",
      "---  ------            --------------  -----  \n",
      " 0   Date              3337 non-null   float64\n",
      " 1   MinTemp           3337 non-null   float64\n",
      " 2   MaxTemp           3337 non-null   float64\n",
      " 3   Rainfall          3337 non-null   float64\n",
      " 4   Evaporation       3337 non-null   float64\n",
      " 5   Sunshine          3337 non-null   float64\n",
      " 6   Humidity9am       3337 non-null   float64\n",
      " 7   Humidity3pm       3337 non-null   float64\n",
      " 8   Pressure9am       3337 non-null   float64\n",
      " 9   Pressure3pm       3337 non-null   float64\n",
      " 10  Cloud9am          3337 non-null   float64\n",
      " 11  Cloud3pm          3337 non-null   float64\n",
      " 12  Temp9am           3337 non-null   float64\n",
      " 13  Temp3pm           3337 non-null   float64\n",
      " 14  RainToday_Yes     3337 non-null   float64\n",
      " 15  RainTomorrow_Yes  3337 non-null   float64\n",
      "dtypes: float64(16)\n",
      "memory usage: 417.3 KB\n"
     ]
    }
   ],
   "source": [
    "# To get the information about the \"sydney_rain\" dataframe, including data types, non-null counts, \n",
    "# and memory usage after creating dummies value\n",
    "sydney_rain.info()"
   ]
  },
  {
   "cell_type": "code",
   "execution_count": 272,
   "id": "ba516990",
   "metadata": {},
   "outputs": [
    {
     "data": {
      "text/html": [
       "<div>\n",
       "<style scoped>\n",
       "    .dataframe tbody tr th:only-of-type {\n",
       "        vertical-align: middle;\n",
       "    }\n",
       "\n",
       "    .dataframe tbody tr th {\n",
       "        vertical-align: top;\n",
       "    }\n",
       "\n",
       "    .dataframe thead th {\n",
       "        text-align: right;\n",
       "    }\n",
       "</style>\n",
       "<table border=\"1\" class=\"dataframe\">\n",
       "  <thead>\n",
       "    <tr style=\"text-align: right;\">\n",
       "      <th></th>\n",
       "      <th>Date</th>\n",
       "      <th>MinTemp</th>\n",
       "      <th>MaxTemp</th>\n",
       "      <th>Rainfall</th>\n",
       "      <th>Evaporation</th>\n",
       "      <th>Sunshine</th>\n",
       "      <th>Humidity9am</th>\n",
       "      <th>Humidity3pm</th>\n",
       "      <th>Pressure9am</th>\n",
       "      <th>Pressure3pm</th>\n",
       "      <th>Cloud9am</th>\n",
       "      <th>Cloud3pm</th>\n",
       "      <th>Temp9am</th>\n",
       "      <th>Temp3pm</th>\n",
       "      <th>RainToday_Yes</th>\n",
       "      <th>RainTomorrow_Yes</th>\n",
       "    </tr>\n",
       "  </thead>\n",
       "  <tbody>\n",
       "    <tr>\n",
       "      <th>0</th>\n",
       "      <td>1.201824e+09</td>\n",
       "      <td>19.5</td>\n",
       "      <td>22.4</td>\n",
       "      <td>3.5</td>\n",
       "      <td>6.200000</td>\n",
       "      <td>0.0</td>\n",
       "      <td>92.0</td>\n",
       "      <td>84.0</td>\n",
       "      <td>1017.6</td>\n",
       "      <td>1017.4</td>\n",
       "      <td>8.0</td>\n",
       "      <td>8.0</td>\n",
       "      <td>20.7</td>\n",
       "      <td>20.9</td>\n",
       "      <td>1.0</td>\n",
       "      <td>1.0</td>\n",
       "    </tr>\n",
       "    <tr>\n",
       "      <th>1</th>\n",
       "      <td>1.201910e+09</td>\n",
       "      <td>19.5</td>\n",
       "      <td>25.6</td>\n",
       "      <td>3.5</td>\n",
       "      <td>3.400000</td>\n",
       "      <td>2.7</td>\n",
       "      <td>83.0</td>\n",
       "      <td>73.0</td>\n",
       "      <td>1017.9</td>\n",
       "      <td>1016.4</td>\n",
       "      <td>7.0</td>\n",
       "      <td>7.0</td>\n",
       "      <td>22.4</td>\n",
       "      <td>24.8</td>\n",
       "      <td>1.0</td>\n",
       "      <td>1.0</td>\n",
       "    </tr>\n",
       "    <tr>\n",
       "      <th>2</th>\n",
       "      <td>1.201997e+09</td>\n",
       "      <td>21.6</td>\n",
       "      <td>24.5</td>\n",
       "      <td>3.5</td>\n",
       "      <td>2.400000</td>\n",
       "      <td>0.1</td>\n",
       "      <td>88.0</td>\n",
       "      <td>86.0</td>\n",
       "      <td>1016.7</td>\n",
       "      <td>1015.6</td>\n",
       "      <td>7.0</td>\n",
       "      <td>8.0</td>\n",
       "      <td>23.5</td>\n",
       "      <td>23.0</td>\n",
       "      <td>1.0</td>\n",
       "      <td>1.0</td>\n",
       "    </tr>\n",
       "    <tr>\n",
       "      <th>3</th>\n",
       "      <td>1.202083e+09</td>\n",
       "      <td>20.2</td>\n",
       "      <td>22.8</td>\n",
       "      <td>3.5</td>\n",
       "      <td>2.200000</td>\n",
       "      <td>0.0</td>\n",
       "      <td>83.0</td>\n",
       "      <td>90.0</td>\n",
       "      <td>1014.2</td>\n",
       "      <td>1011.8</td>\n",
       "      <td>8.0</td>\n",
       "      <td>8.0</td>\n",
       "      <td>21.4</td>\n",
       "      <td>20.9</td>\n",
       "      <td>1.0</td>\n",
       "      <td>1.0</td>\n",
       "    </tr>\n",
       "    <tr>\n",
       "      <th>4</th>\n",
       "      <td>1.202170e+09</td>\n",
       "      <td>19.7</td>\n",
       "      <td>25.7</td>\n",
       "      <td>3.5</td>\n",
       "      <td>5.187432</td>\n",
       "      <td>0.0</td>\n",
       "      <td>88.0</td>\n",
       "      <td>74.0</td>\n",
       "      <td>1008.3</td>\n",
       "      <td>1004.8</td>\n",
       "      <td>8.0</td>\n",
       "      <td>8.0</td>\n",
       "      <td>22.5</td>\n",
       "      <td>25.5</td>\n",
       "      <td>1.0</td>\n",
       "      <td>1.0</td>\n",
       "    </tr>\n",
       "  </tbody>\n",
       "</table>\n",
       "</div>"
      ],
      "text/plain": [
       "           Date  MinTemp  MaxTemp  Rainfall  Evaporation  Sunshine  \\\n",
       "0  1.201824e+09     19.5     22.4       3.5     6.200000       0.0   \n",
       "1  1.201910e+09     19.5     25.6       3.5     3.400000       2.7   \n",
       "2  1.201997e+09     21.6     24.5       3.5     2.400000       0.1   \n",
       "3  1.202083e+09     20.2     22.8       3.5     2.200000       0.0   \n",
       "4  1.202170e+09     19.7     25.7       3.5     5.187432       0.0   \n",
       "\n",
       "   Humidity9am  Humidity3pm  Pressure9am  Pressure3pm  Cloud9am  Cloud3pm  \\\n",
       "0         92.0         84.0       1017.6       1017.4       8.0       8.0   \n",
       "1         83.0         73.0       1017.9       1016.4       7.0       7.0   \n",
       "2         88.0         86.0       1016.7       1015.6       7.0       8.0   \n",
       "3         83.0         90.0       1014.2       1011.8       8.0       8.0   \n",
       "4         88.0         74.0       1008.3       1004.8       8.0       8.0   \n",
       "\n",
       "   Temp9am  Temp3pm  RainToday_Yes  RainTomorrow_Yes  \n",
       "0     20.7     20.9            1.0               1.0  \n",
       "1     22.4     24.8            1.0               1.0  \n",
       "2     23.5     23.0            1.0               1.0  \n",
       "3     21.4     20.9            1.0               1.0  \n",
       "4     22.5     25.5            1.0               1.0  "
      ]
     },
     "execution_count": 272,
     "metadata": {},
     "output_type": "execute_result"
    }
   ],
   "source": [
    "# To display the first few rows of  \"sydney_rain\" dataframe to check for the created dummies variables\n",
    "sydney_rain.head()"
   ]
  },
  {
   "cell_type": "markdown",
   "id": "3df285a6",
   "metadata": {},
   "source": [
    "##### 2.3.5  Independent and dependent (RainTomorrow) data spliting"
   ]
  },
  {
   "cell_type": "code",
   "execution_count": 273,
   "id": "a91d05d3",
   "metadata": {},
   "outputs": [
    {
     "name": "stdout",
     "output_type": "stream",
     "text": [
      "              Date  MinTemp  MaxTemp  Rainfall  Evaporation  Sunshine  \\\n",
      "0     1.201824e+09     19.5     22.4       3.5     6.200000       0.0   \n",
      "1     1.201910e+09     19.5     25.6       3.5     3.400000       2.7   \n",
      "2     1.201997e+09     21.6     24.5       3.5     2.400000       0.1   \n",
      "3     1.202083e+09     20.2     22.8       3.5     2.200000       0.0   \n",
      "4     1.202170e+09     19.7     25.7       3.5     5.187432       0.0   \n",
      "...            ...      ...      ...       ...          ...       ...   \n",
      "3332  1.498003e+09      8.6     19.6       0.0     2.000000       7.8   \n",
      "3333  1.498090e+09      9.3     19.2       0.0     2.000000       9.2   \n",
      "3334  1.498176e+09      9.4     17.7       0.0     2.400000       2.7   \n",
      "3335  1.498262e+09     10.1     19.3       0.0     1.400000       9.3   \n",
      "3336  1.498349e+09      7.6     19.3       0.0     3.400000       9.4   \n",
      "\n",
      "      Humidity9am  Humidity3pm  Pressure9am  Pressure3pm  Cloud9am  Cloud3pm  \\\n",
      "0            92.0         84.0       1017.6       1017.4       8.0       8.0   \n",
      "1            83.0         73.0       1017.9       1016.4       7.0       7.0   \n",
      "2            88.0         86.0       1016.7       1015.6       7.0       8.0   \n",
      "3            83.0         90.0       1014.2       1011.8       8.0       8.0   \n",
      "4            88.0         74.0       1008.3       1004.8       8.0       8.0   \n",
      "...           ...          ...          ...          ...       ...       ...   \n",
      "3332         73.0         52.0       1025.9       1025.3       2.0       2.0   \n",
      "3333         78.0         53.0       1028.5       1024.6       2.0       2.0   \n",
      "3334         85.0         56.0       1020.8       1015.0       6.0       6.0   \n",
      "3335         56.0         35.0       1017.3       1015.1       5.0       2.0   \n",
      "3336         73.0         32.0       1018.6       1015.4       1.0       1.0   \n",
      "\n",
      "      Temp9am  Temp3pm  RainToday_Yes  \n",
      "0        20.7     20.9            1.0  \n",
      "1        22.4     24.8            1.0  \n",
      "2        23.5     23.0            1.0  \n",
      "3        21.4     20.9            1.0  \n",
      "4        22.5     25.5            1.0  \n",
      "...       ...      ...            ...  \n",
      "3332     10.5     17.9            0.0  \n",
      "3333     11.0     18.7            0.0  \n",
      "3334     10.2     17.3            0.0  \n",
      "3335     12.4     19.0            0.0  \n",
      "3336      9.4     18.8            0.0  \n",
      "\n",
      "[3337 rows x 15 columns]\n"
     ]
    }
   ],
   "source": [
    "# Creating and printing \"X\" dataframe as independent data\n",
    "X = sydney_rain.loc[:,sydney_rain.columns!=\"RainTomorrow_Yes\"]\n",
    "print(X) # print \"X\""
   ]
  },
  {
   "cell_type": "code",
   "execution_count": 274,
   "id": "172bce6f",
   "metadata": {},
   "outputs": [
    {
     "name": "stdout",
     "output_type": "stream",
     "text": [
      "0       1.0\n",
      "1       1.0\n",
      "2       1.0\n",
      "3       1.0\n",
      "4       1.0\n",
      "       ... \n",
      "3332    0.0\n",
      "3333    0.0\n",
      "3334    0.0\n",
      "3335    0.0\n",
      "3336    0.0\n",
      "Name: RainTomorrow_Yes, Length: 3337, dtype: float64\n"
     ]
    }
   ],
   "source": [
    "# Creating and printing \"Y\" dataframe as dependent data\n",
    "Y = sydney_rain[\"RainTomorrow_Yes\"]\n",
    "print(Y) # print \"Y\""
   ]
  },
  {
   "cell_type": "markdown",
   "id": "74680cb5",
   "metadata": {},
   "source": [
    "##### 2.3.3 Train-test data spliting from \"X\" and \"Y\" splitted dataframes"
   ]
  },
  {
   "cell_type": "code",
   "execution_count": 275,
   "id": "363c94e0",
   "metadata": {},
   "outputs": [
    {
     "name": "stdout",
     "output_type": "stream",
     "text": [
      "(2669, 15) (668, 15) (2669,) (668,)\n"
     ]
    }
   ],
   "source": [
    "# Import the \"train_test_split\" library\n",
    "from sklearn.model_selection import train_test_split\n",
    "\n",
    "# Split the dataset into training and testing sets with (80-20%) ratio\n",
    "x_train, x_test, y_train, y_test = train_test_split(X, Y, test_size=0.2, random_state=0)\n",
    "\n",
    "# Print the shapes of the test, train of \"X\" and \"Y\" sets\n",
    "print(x_train.shape, x_test.shape, y_train.shape, y_test.shape)"
   ]
  },
  {
   "cell_type": "markdown",
   "id": "b23953cf",
   "metadata": {},
   "source": [
    "### 2.4 and 2.5 steps of second question-2, I will perfoem with question-3 together\n",
    "## 3. What were the available ML model options you had to perform this task?\n",
    "- 3.1 Logistic Regression \n",
    "\n",
    "- 3.2 Linear Discriminant Analysis\n",
    "\n",
    "- 3.3 K-Nearest Neighbors\n",
    "\n",
    "- 3.4 Gradient search for K-Nearest Neighbors\n",
    "\n",
    "#### Advance Ensemble techniques like, Bagging, Random forest Classifier, Gradient search, Ada boost, and XG Boost can handle both numerical and categorical data\n",
    "\n",
    "- 3.5 Bagging\n",
    "\n",
    "- 3.6 Random Forest \n",
    "\n",
    "- 3.7 Gradient search for Random Forest\n",
    "\n",
    "- 3.8 Gradient Boosting\n",
    "\n",
    "- 3.9 Ada boost\n",
    "\n",
    "- 3.10 XG Boost\n",
    "\n",
    "- 3.11 Gradient search for XG Boost\n",
    "\n",
    "- 3.12 Classification Decision Tree"
   ]
  },
  {
   "cell_type": "markdown",
   "id": "e41d62f8",
   "metadata": {},
   "source": [
    "### 3.1 Logistic Regression\n",
    "##### 3.1.1 Performing logistic regression by using sklearn model on \"y_train\" and \"x_train\" varaibles"
   ]
  },
  {
   "cell_type": "code",
   "execution_count": 276,
   "id": "6edc31c6",
   "metadata": {},
   "outputs": [],
   "source": [
    "# Import the StandardScaler class from the sklearn.preprocessing module\n",
    "from sklearn.preprocessing import StandardScaler\n",
    "\n",
    "# Create a StandardScaler object and fit it to the training data\n",
    "scaler = StandardScaler().fit(x_train)\n",
    "\n",
    "x_train_scaler = scaler.transform(x_train) # Transform the training data using the fitted scaler to standardize it\n",
    "x_test_scaler = scaler.transform(x_test)   # Transform the test data using the same fitted scaler to standardize it"
   ]
  },
  {
   "cell_type": "code",
   "execution_count": 277,
   "id": "95c83c57",
   "metadata": {},
   "outputs": [
    {
     "data": {
      "text/html": [
       "<style>#sk-container-id-13 {color: black;background-color: white;}#sk-container-id-13 pre{padding: 0;}#sk-container-id-13 div.sk-toggleable {background-color: white;}#sk-container-id-13 label.sk-toggleable__label {cursor: pointer;display: block;width: 100%;margin-bottom: 0;padding: 0.3em;box-sizing: border-box;text-align: center;}#sk-container-id-13 label.sk-toggleable__label-arrow:before {content: \"▸\";float: left;margin-right: 0.25em;color: #696969;}#sk-container-id-13 label.sk-toggleable__label-arrow:hover:before {color: black;}#sk-container-id-13 div.sk-estimator:hover label.sk-toggleable__label-arrow:before {color: black;}#sk-container-id-13 div.sk-toggleable__content {max-height: 0;max-width: 0;overflow: hidden;text-align: left;background-color: #f0f8ff;}#sk-container-id-13 div.sk-toggleable__content pre {margin: 0.2em;color: black;border-radius: 0.25em;background-color: #f0f8ff;}#sk-container-id-13 input.sk-toggleable__control:checked~div.sk-toggleable__content {max-height: 200px;max-width: 100%;overflow: auto;}#sk-container-id-13 input.sk-toggleable__control:checked~label.sk-toggleable__label-arrow:before {content: \"▾\";}#sk-container-id-13 div.sk-estimator input.sk-toggleable__control:checked~label.sk-toggleable__label {background-color: #d4ebff;}#sk-container-id-13 div.sk-label input.sk-toggleable__control:checked~label.sk-toggleable__label {background-color: #d4ebff;}#sk-container-id-13 input.sk-hidden--visually {border: 0;clip: rect(1px 1px 1px 1px);clip: rect(1px, 1px, 1px, 1px);height: 1px;margin: -1px;overflow: hidden;padding: 0;position: absolute;width: 1px;}#sk-container-id-13 div.sk-estimator {font-family: monospace;background-color: #f0f8ff;border: 1px dotted black;border-radius: 0.25em;box-sizing: border-box;margin-bottom: 0.5em;}#sk-container-id-13 div.sk-estimator:hover {background-color: #d4ebff;}#sk-container-id-13 div.sk-parallel-item::after {content: \"\";width: 100%;border-bottom: 1px solid gray;flex-grow: 1;}#sk-container-id-13 div.sk-label:hover label.sk-toggleable__label {background-color: #d4ebff;}#sk-container-id-13 div.sk-serial::before {content: \"\";position: absolute;border-left: 1px solid gray;box-sizing: border-box;top: 0;bottom: 0;left: 50%;z-index: 0;}#sk-container-id-13 div.sk-serial {display: flex;flex-direction: column;align-items: center;background-color: white;padding-right: 0.2em;padding-left: 0.2em;position: relative;}#sk-container-id-13 div.sk-item {position: relative;z-index: 1;}#sk-container-id-13 div.sk-parallel {display: flex;align-items: stretch;justify-content: center;background-color: white;position: relative;}#sk-container-id-13 div.sk-item::before, #sk-container-id-13 div.sk-parallel-item::before {content: \"\";position: absolute;border-left: 1px solid gray;box-sizing: border-box;top: 0;bottom: 0;left: 50%;z-index: -1;}#sk-container-id-13 div.sk-parallel-item {display: flex;flex-direction: column;z-index: 1;position: relative;background-color: white;}#sk-container-id-13 div.sk-parallel-item:first-child::after {align-self: flex-end;width: 50%;}#sk-container-id-13 div.sk-parallel-item:last-child::after {align-self: flex-start;width: 50%;}#sk-container-id-13 div.sk-parallel-item:only-child::after {width: 0;}#sk-container-id-13 div.sk-dashed-wrapped {border: 1px dashed gray;margin: 0 0.4em 0.5em 0.4em;box-sizing: border-box;padding-bottom: 0.4em;background-color: white;}#sk-container-id-13 div.sk-label label {font-family: monospace;font-weight: bold;display: inline-block;line-height: 1.2em;}#sk-container-id-13 div.sk-label-container {text-align: center;}#sk-container-id-13 div.sk-container {/* jupyter's `normalize.less` sets `[hidden] { display: none; }` but bootstrap.min.css set `[hidden] { display: none !important; }` so we also need the `!important` here to be able to override the default hidden behavior on the sphinx rendered scikit-learn.org. See: https://github.com/scikit-learn/scikit-learn/issues/21755 */display: inline-block !important;position: relative;}#sk-container-id-13 div.sk-text-repr-fallback {display: none;}</style><div id=\"sk-container-id-13\" class=\"sk-top-container\"><div class=\"sk-text-repr-fallback\"><pre>LogisticRegression()</pre><b>In a Jupyter environment, please rerun this cell to show the HTML representation or trust the notebook. <br />On GitHub, the HTML representation is unable to render, please try loading this page with nbviewer.org.</b></div><div class=\"sk-container\" hidden><div class=\"sk-item\"><div class=\"sk-estimator sk-toggleable\"><input class=\"sk-toggleable__control sk-hidden--visually\" id=\"sk-estimator-id-21\" type=\"checkbox\" checked><label for=\"sk-estimator-id-21\" class=\"sk-toggleable__label sk-toggleable__label-arrow\">LogisticRegression</label><div class=\"sk-toggleable__content\"><pre>LogisticRegression()</pre></div></div></div></div></div>"
      ],
      "text/plain": [
       "LogisticRegression()"
      ]
     },
     "execution_count": 277,
     "metadata": {},
     "output_type": "execute_result"
    }
   ],
   "source": [
    "# Import the LogisticRegression module from the sklearn.linear library\n",
    "from sklearn.linear_model import LogisticRegression\n",
    "\n",
    "Logistic_Reg = LogisticRegression() # Define Logistic Regression function\n",
    "\n",
    "# Fit Logistic Regression on \"x_train_scaler\" and \"y_train\"\n",
    "Logistic_Reg.fit(x_train_scaler, y_train)"
   ]
  },
  {
   "cell_type": "code",
   "execution_count": 278,
   "id": "dc4bcc41",
   "metadata": {},
   "outputs": [
    {
     "name": "stdout",
     "output_type": "stream",
     "text": [
      "\u001b[1m LR_y_train_pred \u001b[0m \n",
      " [0. 0. 0. ... 1. 0. 0.] \n",
      "\n",
      "\u001b[1m LR_y_test_pred \u001b[0m \n",
      " [0. 0. 0. 0. 0. 0. 0. 0. 0. 0. 0. 0. 0. 0. 0. 0. 0. 0. 0. 0. 0. 0. 0. 0.\n",
      " 0. 0. 0. 0. 0. 0. 0. 1. 0. 0. 0. 0. 1. 1. 1. 0. 0. 0. 0. 0. 0. 0. 0. 0.\n",
      " 0. 0. 0. 0. 0. 0. 0. 0. 0. 0. 1. 0. 1. 0. 0. 0. 0. 0. 0. 0. 0. 0. 0. 1.\n",
      " 0. 0. 0. 0. 0. 0. 0. 0. 0. 0. 0. 0. 0. 0. 0. 1. 1. 0. 0. 0. 1. 0. 1. 0.\n",
      " 0. 0. 0. 0. 0. 0. 0. 0. 0. 0. 0. 0. 0. 1. 0. 1. 1. 0. 1. 0. 0. 0. 0. 0.\n",
      " 0. 0. 1. 0. 0. 1. 0. 1. 0. 0. 0. 0. 0. 1. 0. 0. 1. 0. 0. 0. 0. 0. 0. 0.\n",
      " 0. 0. 0. 0. 0. 0. 0. 0. 1. 0. 0. 0. 1. 0. 0. 0. 0. 1. 0. 0. 0. 1. 0. 0.\n",
      " 0. 0. 1. 0. 0. 1. 0. 1. 0. 0. 0. 0. 0. 1. 1. 0. 0. 0. 0. 0. 0. 1. 0. 0.\n",
      " 0. 0. 0. 0. 0. 0. 1. 0. 0. 0. 0. 1. 1. 0. 1. 0. 0. 0. 0. 0. 0. 0. 0. 0.\n",
      " 0. 0. 0. 1. 0. 1. 0. 0. 0. 0. 0. 0. 1. 0. 0. 0. 0. 0. 0. 0. 0. 0. 0. 1.\n",
      " 0. 1. 0. 0. 0. 0. 0. 0. 0. 0. 0. 1. 0. 0. 0. 0. 0. 0. 0. 0. 0. 0. 0. 0.\n",
      " 0. 0. 1. 0. 0. 0. 0. 1. 0. 0. 0. 1. 0. 1. 1. 0. 0. 1. 0. 0. 0. 1. 1. 0.\n",
      " 1. 0. 0. 0. 0. 0. 0. 1. 0. 0. 0. 1. 0. 0. 0. 0. 0. 0. 0. 0. 0. 0. 0. 0.\n",
      " 0. 0. 0. 0. 1. 0. 0. 0. 1. 1. 0. 0. 0. 0. 0. 0. 0. 0. 0. 0. 0. 0. 0. 0.\n",
      " 1. 1. 0. 0. 0. 0. 0. 0. 0. 0. 0. 0. 0. 0. 0. 0. 0. 0. 0. 0. 0. 0. 0. 0.\n",
      " 0. 0. 0. 0. 0. 1. 0. 0. 0. 1. 0. 0. 0. 0. 0. 0. 0. 0. 0. 0. 0. 0. 0. 0.\n",
      " 1. 0. 0. 0. 0. 1. 0. 0. 0. 0. 1. 1. 0. 0. 0. 0. 0. 0. 0. 0. 1. 1. 0. 1.\n",
      " 1. 0. 1. 0. 0. 0. 1. 0. 0. 0. 0. 0. 0. 0. 1. 0. 0. 0. 1. 0. 1. 0. 1. 1.\n",
      " 0. 0. 1. 0. 1. 0. 0. 0. 0. 0. 0. 0. 0. 1. 1. 1. 1. 0. 0. 0. 0. 0. 0. 1.\n",
      " 0. 0. 0. 0. 0. 0. 0. 0. 0. 1. 0. 0. 0. 0. 1. 0. 0. 0. 0. 0. 0. 0. 0. 0.\n",
      " 1. 0. 0. 0. 0. 0. 0. 0. 0. 0. 0. 1. 1. 0. 0. 0. 0. 0. 0. 0. 0. 0. 0. 0.\n",
      " 1. 0. 0. 0. 0. 1. 0. 0. 0. 1. 1. 0. 0. 0. 0. 0. 0. 0. 0. 0. 0. 0. 0. 0.\n",
      " 0. 1. 0. 0. 0. 0. 0. 0. 0. 0. 0. 0. 0. 0. 0. 1. 0. 0. 0. 0. 0. 1. 0. 0.\n",
      " 0. 0. 1. 0. 0. 0. 0. 0. 0. 0. 0. 0. 0. 0. 0. 0. 1. 0. 0. 0. 0. 0. 0. 0.\n",
      " 0. 1. 0. 1. 1. 1. 1. 0. 0. 0. 0. 1. 0. 0. 0. 0. 0. 0. 0. 0. 0. 1. 0. 0.\n",
      " 0. 0. 0. 0. 1. 0. 1. 0. 0. 1. 0. 0. 0. 0. 0. 0. 1. 0. 0. 0. 0. 1. 0. 0.\n",
      " 0. 0. 0. 0. 0. 0. 0. 0. 0. 1. 0. 1. 0. 0. 0. 1. 0. 0. 0. 0. 0. 0. 0. 1.\n",
      " 0. 0. 0. 1. 1. 0. 1. 0. 0. 0. 0. 0. 1. 0. 0. 0. 0. 0. 0. 0.] \n",
      "\n"
     ]
    }
   ],
   "source": [
    "# Predict the target variable for the train and test dataset using the trained logistic regression model\n",
    "LR_y_train_pred = Logistic_Reg.predict(x_train_scaler)\n",
    "LR_y_test_pred = Logistic_Reg.predict(x_test_scaler)\n",
    "\n",
    "# Print the predicted values for the train and test dataset\n",
    "print((\"\\033[1m LR_y_train_pred \\033[0m\"), \"\\n\", LR_y_train_pred, \"\\n\")\n",
    "print((\"\\033[1m LR_y_test_pred \\033[0m\"), \"\\n\", LR_y_test_pred, \"\\n\")"
   ]
  },
  {
   "cell_type": "markdown",
   "id": "d8b7a742",
   "metadata": {},
   "source": [
    "##### 3.1.2 Performance evaluation for Logistic regression"
   ]
  },
  {
   "cell_type": "code",
   "execution_count": 279,
   "id": "1cea9802",
   "metadata": {},
   "outputs": [],
   "source": [
    "# Importung mean_absolute_error, mean_squared_error, confusion_matrix, accuracy_score, from sklearn.metrics model\n",
    "from sklearn.metrics import mean_absolute_error, mean_squared_error, confusion_matrix, accuracy_score "
   ]
  },
  {
   "cell_type": "markdown",
   "id": "33d8a649",
   "metadata": {},
   "source": [
    "##### 3.1.2.1 Calculation of MSE for train and test dataset"
   ]
  },
  {
   "cell_type": "code",
   "execution_count": 280,
   "id": "e150a2c4",
   "metadata": {},
   "outputs": [
    {
     "name": "stdout",
     "output_type": "stream",
     "text": [
      "0.16335706257025104\n"
     ]
    }
   ],
   "source": [
    "# Calculate mean squared error for training dataset of logistic regression\n",
    "LR_train_mse = mean_squared_error(y_train, LR_y_train_pred)\n",
    "\n",
    "# Print \"MSE\" of train dataset for Logistic regression\n",
    "print(LR_train_mse)  "
   ]
  },
  {
   "cell_type": "code",
   "execution_count": 281,
   "id": "4b6bf198",
   "metadata": {},
   "outputs": [
    {
     "name": "stdout",
     "output_type": "stream",
     "text": [
      "0.17065868263473055\n"
     ]
    }
   ],
   "source": [
    "# Calculate mean squared error for testing dataset of logistic regression\n",
    "LR_test_mse = mean_squared_error(y_test, LR_y_test_pred)\n",
    "\n",
    "# Print \"MSE\" of test dataset for Logistic regression\n",
    "print(LR_test_mse)  "
   ]
  },
  {
   "cell_type": "markdown",
   "id": "ea7d6e28",
   "metadata": {},
   "source": [
    "##### 3.1.2.2 Calculation of MAE for train and test dataset"
   ]
  },
  {
   "cell_type": "code",
   "execution_count": 282,
   "id": "661986c7",
   "metadata": {},
   "outputs": [
    {
     "name": "stdout",
     "output_type": "stream",
     "text": [
      "0.16335706257025104\n"
     ]
    }
   ],
   "source": [
    "# Calculate mean absolute error for training dataset of logistic regression\n",
    "LR_train_mae = mean_absolute_error(y_train, LR_y_train_pred)\n",
    "\n",
    "# Print \"MAE\" of train dataset for Logistic regression\n",
    "print(LR_train_mae) "
   ]
  },
  {
   "cell_type": "code",
   "execution_count": 283,
   "id": "67b621f5",
   "metadata": {},
   "outputs": [
    {
     "name": "stdout",
     "output_type": "stream",
     "text": [
      "0.17065868263473055\n"
     ]
    }
   ],
   "source": [
    "# Calculate mean absolute error for testing dataset of logistic regression\n",
    "LR_test_mae = mean_absolute_error(y_test, LR_y_test_pred)\n",
    "\n",
    "# Print \"MAE\" of test dataset for Logistic regression\n",
    "print(LR_test_mae) "
   ]
  },
  {
   "cell_type": "markdown",
   "id": "9b9020ee",
   "metadata": {},
   "source": [
    "##### 3.1.2.3 Calculation of confusion matrix for train and test dataset"
   ]
  },
  {
   "cell_type": "code",
   "execution_count": 284,
   "id": "26947ffc",
   "metadata": {},
   "outputs": [
    {
     "name": "stdout",
     "output_type": "stream",
     "text": [
      "[[1823  139]\n",
      " [ 297  410]]\n"
     ]
    }
   ],
   "source": [
    "# Confusion matrix calculation for train dataset of logistic regression\n",
    "LR_train_conf_mat = confusion_matrix(y_train, LR_y_train_pred)\n",
    "\n",
    "# Print confusion matrix of train dataset for Logistic regression\n",
    "print(LR_train_conf_mat) "
   ]
  },
  {
   "cell_type": "code",
   "execution_count": 285,
   "id": "a6dafca0",
   "metadata": {},
   "outputs": [
    {
     "name": "stdout",
     "output_type": "stream",
     "text": [
      "[[475  35]\n",
      " [ 79  79]]\n"
     ]
    }
   ],
   "source": [
    "# Confusion matrix calculation for test dataset of logistic regression\n",
    "LR_test_conf_mat = confusion_matrix(y_test, LR_y_test_pred)\n",
    "\n",
    "# Print confusion matrix of test dataset for Logistic regression\n",
    "print(LR_test_conf_mat) "
   ]
  },
  {
   "cell_type": "markdown",
   "id": "5774ac7c",
   "metadata": {},
   "source": [
    "##### 3.1.2.4 Calculation of accuracy score for train and test dataset"
   ]
  },
  {
   "cell_type": "code",
   "execution_count": 286,
   "id": "5464cccb",
   "metadata": {},
   "outputs": [
    {
     "name": "stdout",
     "output_type": "stream",
     "text": [
      "0.8366429374297489\n"
     ]
    }
   ],
   "source": [
    "# accuracy_score calculation for the train dataset's for actual values (y_train) and predicted values (LR_y_train_pred)\n",
    "LR_train_acc_score = accuracy_score(y_train, LR_y_train_pred)\n",
    "\n",
    "## Print accuracy_score of train dataset for logistic regression\n",
    "print(LR_train_acc_score)"
   ]
  },
  {
   "cell_type": "code",
   "execution_count": 287,
   "id": "72f3186a",
   "metadata": {},
   "outputs": [
    {
     "name": "stdout",
     "output_type": "stream",
     "text": [
      "0.8293413173652695\n"
     ]
    }
   ],
   "source": [
    "# accuracy_score calculation for the test dataset's for actual values (y_test) and predicted values (LR_y_test_pred)\n",
    "LR_test_acc_score = accuracy_score(y_test, LR_y_test_pred)\n",
    "\n",
    "## Print accuracy_score of test dataset for logistic regression\n",
    "print(LR_test_acc_score)"
   ]
  },
  {
   "cell_type": "markdown",
   "id": "f956a49e",
   "metadata": {},
   "source": [
    "##### 3.1.2.5 Checking for overfitting and underfitting"
   ]
  },
  {
   "cell_type": "code",
   "execution_count": 288,
   "id": "2a1a7348",
   "metadata": {},
   "outputs": [
    {
     "name": "stdout",
     "output_type": "stream",
     "text": [
      "The 'Logistic Regression' trained model is Well-fitted.\n"
     ]
    }
   ],
   "source": [
    "# Check for overfitting\n",
    "if LR_train_acc_score > LR_test_acc_score + 0.15:  # Example threshold for overfitting\n",
    "    print(\"The 'Logistic Regression' trained model is overfitting.\")\n",
    "elif LR_train_acc_score < LR_test_acc_score - 0.15:  # Example threshold for underfitting\n",
    "    print(\"The 'Logistic Regression' trained model is underfitting.\")\n",
    "else:\n",
    "    print(\"The 'Logistic Regression' trained model is Well-fitted.\")"
   ]
  },
  {
   "cell_type": "markdown",
   "id": "2f162c2f",
   "metadata": {},
   "source": [
    "### 3.2 Linear Discriminant Analysis (LDA)\n",
    "##### 3.2.1 Performing Linear Discriminant Analysis by using sklearn model on \"y_train\" and \"x_train\" varaibles "
   ]
  },
  {
   "cell_type": "code",
   "execution_count": 289,
   "id": "c099bf80",
   "metadata": {},
   "outputs": [
    {
     "data": {
      "text/html": [
       "<style>#sk-container-id-14 {color: black;background-color: white;}#sk-container-id-14 pre{padding: 0;}#sk-container-id-14 div.sk-toggleable {background-color: white;}#sk-container-id-14 label.sk-toggleable__label {cursor: pointer;display: block;width: 100%;margin-bottom: 0;padding: 0.3em;box-sizing: border-box;text-align: center;}#sk-container-id-14 label.sk-toggleable__label-arrow:before {content: \"▸\";float: left;margin-right: 0.25em;color: #696969;}#sk-container-id-14 label.sk-toggleable__label-arrow:hover:before {color: black;}#sk-container-id-14 div.sk-estimator:hover label.sk-toggleable__label-arrow:before {color: black;}#sk-container-id-14 div.sk-toggleable__content {max-height: 0;max-width: 0;overflow: hidden;text-align: left;background-color: #f0f8ff;}#sk-container-id-14 div.sk-toggleable__content pre {margin: 0.2em;color: black;border-radius: 0.25em;background-color: #f0f8ff;}#sk-container-id-14 input.sk-toggleable__control:checked~div.sk-toggleable__content {max-height: 200px;max-width: 100%;overflow: auto;}#sk-container-id-14 input.sk-toggleable__control:checked~label.sk-toggleable__label-arrow:before {content: \"▾\";}#sk-container-id-14 div.sk-estimator input.sk-toggleable__control:checked~label.sk-toggleable__label {background-color: #d4ebff;}#sk-container-id-14 div.sk-label input.sk-toggleable__control:checked~label.sk-toggleable__label {background-color: #d4ebff;}#sk-container-id-14 input.sk-hidden--visually {border: 0;clip: rect(1px 1px 1px 1px);clip: rect(1px, 1px, 1px, 1px);height: 1px;margin: -1px;overflow: hidden;padding: 0;position: absolute;width: 1px;}#sk-container-id-14 div.sk-estimator {font-family: monospace;background-color: #f0f8ff;border: 1px dotted black;border-radius: 0.25em;box-sizing: border-box;margin-bottom: 0.5em;}#sk-container-id-14 div.sk-estimator:hover {background-color: #d4ebff;}#sk-container-id-14 div.sk-parallel-item::after {content: \"\";width: 100%;border-bottom: 1px solid gray;flex-grow: 1;}#sk-container-id-14 div.sk-label:hover label.sk-toggleable__label {background-color: #d4ebff;}#sk-container-id-14 div.sk-serial::before {content: \"\";position: absolute;border-left: 1px solid gray;box-sizing: border-box;top: 0;bottom: 0;left: 50%;z-index: 0;}#sk-container-id-14 div.sk-serial {display: flex;flex-direction: column;align-items: center;background-color: white;padding-right: 0.2em;padding-left: 0.2em;position: relative;}#sk-container-id-14 div.sk-item {position: relative;z-index: 1;}#sk-container-id-14 div.sk-parallel {display: flex;align-items: stretch;justify-content: center;background-color: white;position: relative;}#sk-container-id-14 div.sk-item::before, #sk-container-id-14 div.sk-parallel-item::before {content: \"\";position: absolute;border-left: 1px solid gray;box-sizing: border-box;top: 0;bottom: 0;left: 50%;z-index: -1;}#sk-container-id-14 div.sk-parallel-item {display: flex;flex-direction: column;z-index: 1;position: relative;background-color: white;}#sk-container-id-14 div.sk-parallel-item:first-child::after {align-self: flex-end;width: 50%;}#sk-container-id-14 div.sk-parallel-item:last-child::after {align-self: flex-start;width: 50%;}#sk-container-id-14 div.sk-parallel-item:only-child::after {width: 0;}#sk-container-id-14 div.sk-dashed-wrapped {border: 1px dashed gray;margin: 0 0.4em 0.5em 0.4em;box-sizing: border-box;padding-bottom: 0.4em;background-color: white;}#sk-container-id-14 div.sk-label label {font-family: monospace;font-weight: bold;display: inline-block;line-height: 1.2em;}#sk-container-id-14 div.sk-label-container {text-align: center;}#sk-container-id-14 div.sk-container {/* jupyter's `normalize.less` sets `[hidden] { display: none; }` but bootstrap.min.css set `[hidden] { display: none !important; }` so we also need the `!important` here to be able to override the default hidden behavior on the sphinx rendered scikit-learn.org. See: https://github.com/scikit-learn/scikit-learn/issues/21755 */display: inline-block !important;position: relative;}#sk-container-id-14 div.sk-text-repr-fallback {display: none;}</style><div id=\"sk-container-id-14\" class=\"sk-top-container\"><div class=\"sk-text-repr-fallback\"><pre>LinearDiscriminantAnalysis()</pre><b>In a Jupyter environment, please rerun this cell to show the HTML representation or trust the notebook. <br />On GitHub, the HTML representation is unable to render, please try loading this page with nbviewer.org.</b></div><div class=\"sk-container\" hidden><div class=\"sk-item\"><div class=\"sk-estimator sk-toggleable\"><input class=\"sk-toggleable__control sk-hidden--visually\" id=\"sk-estimator-id-22\" type=\"checkbox\" checked><label for=\"sk-estimator-id-22\" class=\"sk-toggleable__label sk-toggleable__label-arrow\">LinearDiscriminantAnalysis</label><div class=\"sk-toggleable__content\"><pre>LinearDiscriminantAnalysis()</pre></div></div></div></div></div>"
      ],
      "text/plain": [
       "LinearDiscriminantAnalysis()"
      ]
     },
     "execution_count": 289,
     "metadata": {},
     "output_type": "execute_result"
    }
   ],
   "source": [
    "# Import the Linear Discriminant Analysis Ridge regression model from the sklearn.linear_model module\n",
    "from sklearn.discriminant_analysis import LinearDiscriminantAnalysis\n",
    "\n",
    "# Create a Linear Discriminant Analysis model\n",
    "LDA_clf = LinearDiscriminantAnalysis()\n",
    "\n",
    "# Fit the Linear Discriminant Analysis model to the (x_train_scaler) and (y_train) values\n",
    "LDA_clf.fit(x_train_scaler, y_train)"
   ]
  },
  {
   "cell_type": "code",
   "execution_count": 290,
   "id": "2d927491",
   "metadata": {},
   "outputs": [
    {
     "name": "stdout",
     "output_type": "stream",
     "text": [
      "\u001b[1m LDA_y_train_pred \u001b[0m \n",
      " [0. 0. 0. ... 1. 0. 0.] \n",
      "\n",
      "\u001b[1m LDA_y_test_pred \u001b[0m \n",
      " [0. 0. 0. 0. 0. 0. 0. 0. 0. 0. 1. 0. 0. 0. 0. 0. 1. 0. 0. 0. 0. 0. 0. 0.\n",
      " 0. 0. 0. 0. 0. 0. 0. 1. 0. 0. 0. 0. 1. 1. 1. 0. 0. 0. 0. 0. 0. 0. 0. 0.\n",
      " 0. 0. 0. 0. 0. 0. 0. 0. 0. 0. 1. 0. 1. 0. 0. 0. 0. 0. 0. 0. 0. 0. 0. 1.\n",
      " 0. 0. 0. 0. 0. 0. 0. 0. 0. 0. 0. 1. 0. 0. 0. 1. 1. 0. 0. 0. 1. 0. 1. 0.\n",
      " 0. 0. 0. 0. 0. 0. 0. 0. 0. 0. 0. 0. 0. 1. 0. 1. 1. 0. 1. 0. 0. 0. 0. 0.\n",
      " 0. 0. 1. 0. 0. 1. 0. 1. 0. 0. 0. 0. 0. 1. 1. 0. 1. 0. 0. 0. 0. 0. 0. 0.\n",
      " 0. 0. 0. 0. 0. 0. 0. 0. 1. 0. 0. 0. 1. 1. 0. 0. 0. 1. 0. 0. 0. 1. 0. 0.\n",
      " 0. 0. 1. 0. 0. 1. 0. 1. 0. 0. 0. 0. 0. 1. 1. 0. 0. 0. 0. 0. 0. 1. 0. 0.\n",
      " 0. 0. 0. 0. 0. 0. 1. 1. 0. 0. 0. 1. 1. 0. 1. 0. 0. 0. 0. 0. 0. 0. 0. 0.\n",
      " 0. 0. 0. 1. 0. 0. 0. 0. 0. 0. 0. 0. 1. 0. 1. 0. 0. 0. 0. 0. 0. 0. 0. 1.\n",
      " 0. 1. 0. 0. 0. 0. 0. 0. 0. 0. 0. 1. 0. 0. 0. 0. 0. 0. 0. 0. 0. 0. 0. 0.\n",
      " 0. 0. 1. 0. 0. 0. 0. 1. 0. 0. 1. 1. 0. 1. 1. 0. 0. 1. 0. 0. 0. 1. 1. 0.\n",
      " 1. 0. 0. 0. 0. 0. 0. 1. 0. 0. 0. 1. 0. 0. 0. 0. 0. 0. 0. 0. 0. 0. 0. 0.\n",
      " 0. 0. 0. 0. 1. 0. 0. 0. 1. 1. 0. 0. 0. 0. 0. 0. 0. 0. 0. 0. 0. 0. 0. 0.\n",
      " 1. 1. 0. 0. 0. 0. 0. 0. 0. 0. 0. 0. 0. 0. 0. 0. 0. 0. 0. 0. 0. 0. 0. 0.\n",
      " 0. 0. 1. 0. 0. 1. 0. 0. 0. 1. 0. 0. 0. 0. 0. 0. 0. 0. 0. 0. 0. 0. 0. 0.\n",
      " 1. 0. 1. 0. 0. 1. 0. 0. 0. 0. 1. 1. 0. 0. 0. 0. 0. 0. 0. 0. 1. 1. 0. 1.\n",
      " 1. 0. 1. 0. 0. 0. 1. 0. 0. 0. 0. 0. 0. 0. 1. 0. 0. 0. 1. 0. 1. 0. 1. 1.\n",
      " 0. 1. 1. 0. 1. 0. 0. 0. 0. 0. 0. 0. 1. 1. 1. 1. 1. 0. 0. 0. 0. 0. 0. 1.\n",
      " 0. 0. 0. 0. 0. 0. 0. 0. 0. 1. 0. 0. 0. 0. 1. 0. 0. 0. 0. 0. 0. 0. 0. 0.\n",
      " 1. 0. 0. 0. 0. 0. 0. 0. 0. 0. 0. 1. 1. 0. 0. 0. 0. 0. 0. 0. 0. 0. 0. 0.\n",
      " 1. 0. 0. 0. 0. 1. 0. 0. 0. 1. 1. 0. 0. 0. 0. 0. 1. 0. 0. 0. 0. 0. 0. 0.\n",
      " 0. 1. 0. 0. 0. 0. 0. 0. 0. 1. 0. 0. 0. 0. 0. 1. 0. 0. 0. 0. 0. 1. 0. 0.\n",
      " 0. 0. 1. 0. 0. 0. 0. 0. 0. 0. 0. 0. 0. 0. 0. 0. 1. 0. 0. 0. 0. 0. 0. 0.\n",
      " 0. 1. 0. 1. 1. 1. 1. 0. 0. 0. 0. 1. 0. 0. 0. 0. 0. 0. 0. 0. 0. 1. 0. 0.\n",
      " 0. 0. 0. 0. 1. 0. 1. 0. 0. 1. 0. 0. 0. 0. 0. 0. 1. 0. 0. 0. 0. 1. 0. 0.\n",
      " 0. 0. 0. 0. 0. 0. 0. 0. 0. 1. 0. 1. 0. 0. 0. 1. 0. 0. 0. 0. 0. 0. 0. 1.\n",
      " 1. 0. 0. 1. 1. 0. 1. 0. 0. 0. 0. 1. 1. 0. 0. 0. 0. 0. 0. 0.] \n",
      "\n"
     ]
    }
   ],
   "source": [
    "# Predict the target variable for the train and test dataset for Linear Discriminant Analysis model\n",
    "LDA_y_train_pred = LDA_clf.predict(x_train_scaler)\n",
    "LDA_y_test_pred = LDA_clf.predict(x_test_scaler)\n",
    "\n",
    "# Print the predicted values for the train and test dataset\n",
    "print((\"\\033[1m LDA_y_train_pred \\033[0m\"), \"\\n\", LDA_y_train_pred, \"\\n\")\n",
    "print((\"\\033[1m LDA_y_test_pred \\033[0m\"), \"\\n\", LDA_y_test_pred, \"\\n\")"
   ]
  },
  {
   "cell_type": "markdown",
   "id": "6f681c2e",
   "metadata": {},
   "source": [
    "##### 3.2.2 Performance evaluation for Linear Discriminant Analysis\n",
    "##### 3.2.2.1 Calculation of MSE for train and test dataset "
   ]
  },
  {
   "cell_type": "code",
   "execution_count": 291,
   "id": "266a8cf7",
   "metadata": {},
   "outputs": [
    {
     "name": "stdout",
     "output_type": "stream",
     "text": [
      "0.16897714499812663\n"
     ]
    }
   ],
   "source": [
    "# Calculate mean squared error for training dataset of Linear Discriminant Analysis\n",
    "LDA_train_mse = mean_squared_error(y_train, LDA_y_train_pred)\n",
    "\n",
    "# Print \"MSE\" of train dataset for Linear Discriminant Analysis\n",
    "print(LDA_train_mse) "
   ]
  },
  {
   "cell_type": "code",
   "execution_count": 292,
   "id": "0542a3b7",
   "metadata": {},
   "outputs": [
    {
     "name": "stdout",
     "output_type": "stream",
     "text": [
      "0.1631736526946108\n"
     ]
    }
   ],
   "source": [
    "# Calculate mean squared error for testing dataset of Linear Discriminant Analysis\n",
    "LDA_test_mse = mean_squared_error(y_test, LDA_y_test_pred)\n",
    "\n",
    "# Print \"MSE\" of test dataset for Linear Discriminant Analysis\n",
    "print(LDA_test_mse) "
   ]
  },
  {
   "cell_type": "markdown",
   "id": "7a9e20ee",
   "metadata": {},
   "source": [
    "##### 3.2.2.2 Calculation of MAE for train and test dataset"
   ]
  },
  {
   "cell_type": "code",
   "execution_count": 293,
   "id": "79637c48",
   "metadata": {},
   "outputs": [
    {
     "name": "stdout",
     "output_type": "stream",
     "text": [
      "0.16897714499812663\n"
     ]
    }
   ],
   "source": [
    "# Calculate mean absolute error for training dataset of Linear Discriminant Analysis\n",
    "LDA_train_mae = mean_absolute_error(y_train, LDA_y_train_pred)\n",
    "\n",
    "# Print \"MAE\" of train dataset for Linear Discriminant Analysis\n",
    "print(LDA_train_mae)"
   ]
  },
  {
   "cell_type": "code",
   "execution_count": 294,
   "id": "22560a4f",
   "metadata": {},
   "outputs": [
    {
     "name": "stdout",
     "output_type": "stream",
     "text": [
      "0.1631736526946108\n"
     ]
    }
   ],
   "source": [
    "# Calculate mean absolute error for testing dataset of Linear Discriminant Analysis\n",
    "LDA_test_mae = mean_absolute_error(y_test, LDA_y_test_pred)\n",
    "\n",
    "# Print \"MAE\" of test dataset for Linear Discriminant Analysis\n",
    "print(LDA_test_mae)"
   ]
  },
  {
   "cell_type": "markdown",
   "id": "778e952d",
   "metadata": {},
   "source": [
    "##### 3.1.2.3 Calculation of confusion matrix for train and test dataset"
   ]
  },
  {
   "cell_type": "code",
   "execution_count": 295,
   "id": "8945b7c4",
   "metadata": {},
   "outputs": [
    {
     "name": "stdout",
     "output_type": "stream",
     "text": [
      "[[1798  164]\n",
      " [ 287  420]]\n"
     ]
    }
   ],
   "source": [
    "# Confusion matrix calculation for train dataset of Linear Discriminant Analysis\n",
    "LDA_train_conf_mat = confusion_matrix(y_train, LDA_y_train_pred)\n",
    "\n",
    "# Print confusion matrix of train dataset for Linear Discriminant Analysis\n",
    "print(LDA_train_conf_mat)"
   ]
  },
  {
   "cell_type": "code",
   "execution_count": 296,
   "id": "c12fe384",
   "metadata": {},
   "outputs": [
    {
     "name": "stdout",
     "output_type": "stream",
     "text": [
      "[[470  40]\n",
      " [ 69  89]]\n"
     ]
    }
   ],
   "source": [
    "# Confusion matrix calculation for test dataset of Linear Discriminant Analysis\n",
    "LDA_test_conf_mat = confusion_matrix(y_test, LDA_y_test_pred)\n",
    "\n",
    "# Print confusion matrix of test dataset for Linear Discriminant Analysis\n",
    "print(LDA_test_conf_mat)"
   ]
  },
  {
   "cell_type": "markdown",
   "id": "aff22cfb",
   "metadata": {},
   "source": [
    "##### 3.2.2.4 Calculation of accuracy score for train and test dataset"
   ]
  },
  {
   "cell_type": "code",
   "execution_count": 297,
   "id": "5b63b000",
   "metadata": {},
   "outputs": [
    {
     "name": "stdout",
     "output_type": "stream",
     "text": [
      "0.8310228550018733\n"
     ]
    }
   ],
   "source": [
    "# accuracy_score calculation for the train dataset's for actual values (y_train) and predicted values (LDA_y_train_pred)\n",
    "LDA_train_acc_score = accuracy_score(y_train, LDA_y_train_pred)\n",
    "\n",
    "## Print accuracy_score of train dataset for Linear Discriminant Analysis\n",
    "print(LDA_train_acc_score)"
   ]
  },
  {
   "cell_type": "code",
   "execution_count": 298,
   "id": "beb0b8f9",
   "metadata": {},
   "outputs": [
    {
     "name": "stdout",
     "output_type": "stream",
     "text": [
      "0.8368263473053892\n"
     ]
    }
   ],
   "source": [
    "# accuracy_score calculation for the test dataset's for actual values (y_test) and predicted values (LDA_y_test_pred)\n",
    "LDA_test_acc_score = accuracy_score(y_test, LDA_y_test_pred)\n",
    "\n",
    "## Print accuracy_score of test dataset for Linear Discriminant Analysis\n",
    "print(LDA_test_acc_score)"
   ]
  },
  {
   "cell_type": "markdown",
   "id": "29ce8098",
   "metadata": {},
   "source": [
    "##### 3.2.2.5 Checking for overfitting and underfitting at alpha=0.5"
   ]
  },
  {
   "cell_type": "code",
   "execution_count": 299,
   "id": "ddfb9b36",
   "metadata": {},
   "outputs": [
    {
     "name": "stdout",
     "output_type": "stream",
     "text": [
      "The 'Linear Discriminant Analysis' trained model is Well-fitted.\n"
     ]
    }
   ],
   "source": [
    "# Check for overfitting\n",
    "if LDA_train_acc_score > LDA_test_acc_score + 0.15:  # Example threshold for overfitting\n",
    "    print(\"The 'Linear Discriminant Analysis' trained model is overfitting.\")\n",
    "elif LDA_train_acc_score < LDA_test_acc_score - 0.15: # Example threshold for overfitting\n",
    "    print(\"The 'Linear Discriminant Analysis' trained model is underfitting.\")\n",
    "else:\n",
    "    print(\"The 'Linear Discriminant Analysis' trained model is Well-fitted.\")"
   ]
  },
  {
   "cell_type": "markdown",
   "id": "c8e13571",
   "metadata": {},
   "source": [
    "### 3.3 K-Nearest Neighbors (at n_neighbors=10)\n",
    "##### 3.3.1 Performing K-Nearest Neighbors by using sklearn model on \"y_train\" and \"x_train\" varaibles "
   ]
  },
  {
   "cell_type": "code",
   "execution_count": 300,
   "id": "443ff6a0",
   "metadata": {},
   "outputs": [
    {
     "data": {
      "text/html": [
       "<style>#sk-container-id-15 {color: black;background-color: white;}#sk-container-id-15 pre{padding: 0;}#sk-container-id-15 div.sk-toggleable {background-color: white;}#sk-container-id-15 label.sk-toggleable__label {cursor: pointer;display: block;width: 100%;margin-bottom: 0;padding: 0.3em;box-sizing: border-box;text-align: center;}#sk-container-id-15 label.sk-toggleable__label-arrow:before {content: \"▸\";float: left;margin-right: 0.25em;color: #696969;}#sk-container-id-15 label.sk-toggleable__label-arrow:hover:before {color: black;}#sk-container-id-15 div.sk-estimator:hover label.sk-toggleable__label-arrow:before {color: black;}#sk-container-id-15 div.sk-toggleable__content {max-height: 0;max-width: 0;overflow: hidden;text-align: left;background-color: #f0f8ff;}#sk-container-id-15 div.sk-toggleable__content pre {margin: 0.2em;color: black;border-radius: 0.25em;background-color: #f0f8ff;}#sk-container-id-15 input.sk-toggleable__control:checked~div.sk-toggleable__content {max-height: 200px;max-width: 100%;overflow: auto;}#sk-container-id-15 input.sk-toggleable__control:checked~label.sk-toggleable__label-arrow:before {content: \"▾\";}#sk-container-id-15 div.sk-estimator input.sk-toggleable__control:checked~label.sk-toggleable__label {background-color: #d4ebff;}#sk-container-id-15 div.sk-label input.sk-toggleable__control:checked~label.sk-toggleable__label {background-color: #d4ebff;}#sk-container-id-15 input.sk-hidden--visually {border: 0;clip: rect(1px 1px 1px 1px);clip: rect(1px, 1px, 1px, 1px);height: 1px;margin: -1px;overflow: hidden;padding: 0;position: absolute;width: 1px;}#sk-container-id-15 div.sk-estimator {font-family: monospace;background-color: #f0f8ff;border: 1px dotted black;border-radius: 0.25em;box-sizing: border-box;margin-bottom: 0.5em;}#sk-container-id-15 div.sk-estimator:hover {background-color: #d4ebff;}#sk-container-id-15 div.sk-parallel-item::after {content: \"\";width: 100%;border-bottom: 1px solid gray;flex-grow: 1;}#sk-container-id-15 div.sk-label:hover label.sk-toggleable__label {background-color: #d4ebff;}#sk-container-id-15 div.sk-serial::before {content: \"\";position: absolute;border-left: 1px solid gray;box-sizing: border-box;top: 0;bottom: 0;left: 50%;z-index: 0;}#sk-container-id-15 div.sk-serial {display: flex;flex-direction: column;align-items: center;background-color: white;padding-right: 0.2em;padding-left: 0.2em;position: relative;}#sk-container-id-15 div.sk-item {position: relative;z-index: 1;}#sk-container-id-15 div.sk-parallel {display: flex;align-items: stretch;justify-content: center;background-color: white;position: relative;}#sk-container-id-15 div.sk-item::before, #sk-container-id-15 div.sk-parallel-item::before {content: \"\";position: absolute;border-left: 1px solid gray;box-sizing: border-box;top: 0;bottom: 0;left: 50%;z-index: -1;}#sk-container-id-15 div.sk-parallel-item {display: flex;flex-direction: column;z-index: 1;position: relative;background-color: white;}#sk-container-id-15 div.sk-parallel-item:first-child::after {align-self: flex-end;width: 50%;}#sk-container-id-15 div.sk-parallel-item:last-child::after {align-self: flex-start;width: 50%;}#sk-container-id-15 div.sk-parallel-item:only-child::after {width: 0;}#sk-container-id-15 div.sk-dashed-wrapped {border: 1px dashed gray;margin: 0 0.4em 0.5em 0.4em;box-sizing: border-box;padding-bottom: 0.4em;background-color: white;}#sk-container-id-15 div.sk-label label {font-family: monospace;font-weight: bold;display: inline-block;line-height: 1.2em;}#sk-container-id-15 div.sk-label-container {text-align: center;}#sk-container-id-15 div.sk-container {/* jupyter's `normalize.less` sets `[hidden] { display: none; }` but bootstrap.min.css set `[hidden] { display: none !important; }` so we also need the `!important` here to be able to override the default hidden behavior on the sphinx rendered scikit-learn.org. See: https://github.com/scikit-learn/scikit-learn/issues/21755 */display: inline-block !important;position: relative;}#sk-container-id-15 div.sk-text-repr-fallback {display: none;}</style><div id=\"sk-container-id-15\" class=\"sk-top-container\"><div class=\"sk-text-repr-fallback\"><pre>KNeighborsClassifier(n_neighbors=10)</pre><b>In a Jupyter environment, please rerun this cell to show the HTML representation or trust the notebook. <br />On GitHub, the HTML representation is unable to render, please try loading this page with nbviewer.org.</b></div><div class=\"sk-container\" hidden><div class=\"sk-item\"><div class=\"sk-estimator sk-toggleable\"><input class=\"sk-toggleable__control sk-hidden--visually\" id=\"sk-estimator-id-23\" type=\"checkbox\" checked><label for=\"sk-estimator-id-23\" class=\"sk-toggleable__label sk-toggleable__label-arrow\">KNeighborsClassifier</label><div class=\"sk-toggleable__content\"><pre>KNeighborsClassifier(n_neighbors=10)</pre></div></div></div></div></div>"
      ],
      "text/plain": [
       "KNeighborsClassifier(n_neighbors=10)"
      ]
     },
     "execution_count": 300,
     "metadata": {},
     "output_type": "execute_result"
    }
   ],
   "source": [
    "# Import the KNeighborsClassifier model from the sklearn.linear_model module\n",
    "from sklearn.neighbors import KNeighborsClassifier\n",
    "\n",
    "# Create a KNeighborsClassifier model object with regularization at n_neighbors=10\n",
    "KNN_clf = KNeighborsClassifier(n_neighbors=10)\n",
    "\n",
    "# Fit the KNeighborsClassifier model to the standardized (x_train_scaler) and (y_train) values\n",
    "KNN_clf.fit(x_train_scaler, y_train)"
   ]
  },
  {
   "cell_type": "code",
   "execution_count": 301,
   "id": "30e120ac",
   "metadata": {},
   "outputs": [
    {
     "name": "stdout",
     "output_type": "stream",
     "text": [
      "\u001b[1m KNN_y_train_pred \u001b[0m \n",
      " [0. 0. 0. ... 1. 0. 0.] \n",
      "\n",
      "\u001b[1m KNN_y_test_pred \u001b[0m \n",
      " [0. 0. 0. 0. 0. 0. 0. 0. 0. 0. 0. 0. 0. 0. 0. 0. 0. 0. 0. 0. 0. 0. 0. 0.\n",
      " 0. 0. 0. 0. 0. 0. 0. 0. 0. 0. 0. 0. 1. 1. 1. 0. 0. 0. 0. 0. 0. 0. 0. 0.\n",
      " 0. 0. 0. 0. 0. 0. 0. 0. 0. 1. 1. 0. 1. 0. 0. 0. 0. 0. 0. 0. 0. 0. 0. 0.\n",
      " 0. 0. 0. 0. 0. 0. 0. 0. 0. 0. 0. 1. 0. 0. 0. 0. 0. 0. 0. 0. 1. 0. 0. 0.\n",
      " 0. 0. 0. 0. 0. 0. 0. 0. 0. 0. 0. 0. 0. 1. 0. 1. 1. 0. 1. 0. 0. 0. 0. 0.\n",
      " 0. 1. 1. 0. 0. 1. 0. 1. 0. 0. 0. 0. 0. 1. 0. 0. 0. 0. 0. 0. 0. 0. 0. 0.\n",
      " 0. 0. 0. 0. 0. 0. 0. 0. 1. 0. 0. 0. 1. 0. 0. 0. 0. 0. 0. 0. 0. 1. 0. 0.\n",
      " 0. 0. 0. 0. 0. 1. 0. 0. 0. 0. 0. 0. 0. 1. 1. 0. 0. 0. 0. 0. 0. 0. 0. 0.\n",
      " 0. 0. 0. 0. 0. 0. 1. 1. 0. 0. 0. 0. 1. 0. 1. 0. 0. 0. 0. 0. 0. 0. 0. 0.\n",
      " 0. 0. 0. 1. 0. 1. 0. 0. 0. 0. 0. 0. 1. 0. 0. 0. 0. 0. 0. 0. 0. 0. 0. 1.\n",
      " 0. 1. 0. 0. 0. 0. 0. 0. 0. 0. 0. 1. 1. 0. 0. 0. 0. 0. 0. 0. 0. 0. 0. 0.\n",
      " 0. 0. 0. 0. 0. 0. 0. 0. 0. 0. 0. 0. 0. 1. 1. 0. 0. 1. 0. 0. 0. 0. 0. 0.\n",
      " 1. 0. 0. 0. 0. 0. 0. 1. 0. 0. 0. 0. 0. 0. 0. 0. 0. 0. 0. 0. 0. 0. 0. 0.\n",
      " 0. 0. 0. 0. 1. 0. 0. 0. 0. 1. 0. 0. 0. 0. 0. 0. 0. 0. 0. 0. 0. 0. 0. 0.\n",
      " 1. 1. 0. 0. 0. 1. 0. 0. 0. 0. 0. 0. 0. 0. 0. 0. 0. 0. 0. 0. 0. 0. 0. 0.\n",
      " 0. 1. 0. 0. 0. 1. 0. 0. 0. 0. 0. 0. 0. 0. 0. 0. 0. 0. 0. 0. 0. 0. 0. 0.\n",
      " 1. 1. 0. 0. 0. 1. 0. 0. 0. 0. 1. 1. 0. 0. 0. 0. 0. 0. 0. 1. 0. 0. 0. 1.\n",
      " 0. 0. 1. 0. 0. 0. 1. 0. 0. 0. 0. 0. 0. 0. 1. 0. 0. 0. 1. 1. 0. 0. 0. 0.\n",
      " 0. 0. 1. 0. 1. 0. 0. 0. 0. 0. 0. 0. 1. 1. 1. 0. 1. 0. 0. 0. 0. 0. 0. 1.\n",
      " 0. 0. 0. 0. 0. 0. 0. 0. 0. 0. 0. 0. 0. 1. 0. 0. 0. 0. 0. 0. 0. 1. 0. 0.\n",
      " 1. 0. 0. 0. 0. 0. 0. 0. 0. 0. 0. 1. 0. 0. 0. 0. 0. 0. 0. 0. 0. 0. 0. 0.\n",
      " 0. 0. 0. 0. 0. 1. 0. 0. 0. 1. 1. 0. 0. 0. 0. 0. 0. 0. 0. 0. 0. 0. 1. 0.\n",
      " 0. 1. 0. 0. 0. 0. 0. 0. 0. 0. 0. 0. 0. 0. 0. 1. 0. 0. 0. 0. 0. 1. 0. 0.\n",
      " 0. 0. 1. 0. 0. 0. 0. 0. 0. 0. 0. 0. 0. 0. 0. 0. 1. 0. 0. 0. 0. 0. 0. 0.\n",
      " 0. 1. 0. 0. 1. 1. 1. 0. 0. 0. 1. 1. 0. 0. 0. 0. 0. 0. 0. 0. 0. 1. 0. 0.\n",
      " 0. 0. 0. 0. 0. 0. 0. 0. 0. 1. 0. 0. 0. 0. 0. 0. 1. 0. 0. 0. 0. 1. 0. 0.\n",
      " 0. 0. 0. 0. 0. 0. 0. 0. 0. 1. 0. 1. 0. 0. 0. 1. 0. 0. 0. 0. 0. 0. 0. 1.\n",
      " 1. 0. 0. 0. 1. 0. 0. 0. 0. 0. 0. 0. 1. 0. 0. 1. 0. 0. 0. 0.] \n",
      "\n"
     ]
    }
   ],
   "source": [
    "# Predict the target variable for the train and test dataset using the trained KNeighborsClassifier\n",
    "KNN_y_train_pred = KNN_clf.predict(x_train_scaler)\n",
    "KNN_y_test_pred = KNN_clf.predict(x_test_scaler)\n",
    "\n",
    "# Print the predicted values for the train and test dataset\n",
    "print((\"\\033[1m KNN_y_train_pred \\033[0m\"), \"\\n\", KNN_y_train_pred, \"\\n\")\n",
    "print((\"\\033[1m KNN_y_test_pred \\033[0m\"), \"\\n\", KNN_y_test_pred, \"\\n\")"
   ]
  },
  {
   "cell_type": "markdown",
   "id": "69f1bb2e",
   "metadata": {},
   "source": [
    "##### 3.3.2 Performance evaluation for K-Nearest Neighbors\n",
    "##### 3.3.2.1 Calculation of MSE for train and test dataset"
   ]
  },
  {
   "cell_type": "code",
   "execution_count": 302,
   "id": "bf26ed7a",
   "metadata": {},
   "outputs": [
    {
     "name": "stdout",
     "output_type": "stream",
     "text": [
      "0.1539902585237917\n"
     ]
    }
   ],
   "source": [
    "# Calculate mean squared error for training dataset of K-Nearest Neighbors\n",
    "KNN_train_mse = mean_squared_error(y_train, KNN_y_train_pred)\n",
    "\n",
    "# Print \"MSE\" of train dataset for K-Nearest Neighbors\n",
    "print(KNN_train_mse) "
   ]
  },
  {
   "cell_type": "code",
   "execution_count": 303,
   "id": "a48f21f5",
   "metadata": {},
   "outputs": [
    {
     "name": "stdout",
     "output_type": "stream",
     "text": [
      "0.1539902585237917\n"
     ]
    }
   ],
   "source": [
    "# Calculate mean squared error for testing dataset of K-Nearest Neighbors\n",
    "KNN_test_mse = mean_squared_error(y_train, KNN_y_train_pred)\n",
    "\n",
    "# Print \"MSE\" of test dataset for K-Nearest Neighbors\n",
    "print(KNN_test_mse) "
   ]
  },
  {
   "cell_type": "markdown",
   "id": "6e1ca0a3",
   "metadata": {},
   "source": [
    "##### 3.3.2.2 Calculation of MAE for train and test dataset "
   ]
  },
  {
   "cell_type": "code",
   "execution_count": 304,
   "id": "c11e5cbe",
   "metadata": {},
   "outputs": [
    {
     "name": "stdout",
     "output_type": "stream",
     "text": [
      "0.1539902585237917\n"
     ]
    }
   ],
   "source": [
    "# Calculate mean absolute error for training dataset of K-Nearest Neighbors\n",
    "KNN_train_mae = mean_absolute_error(y_train, KNN_y_train_pred)\n",
    "\n",
    "# Print \"MAE\" of train dataset for K-Nearest Neighbors\n",
    "print(KNN_train_mae)"
   ]
  },
  {
   "cell_type": "code",
   "execution_count": 305,
   "id": "16afaedc",
   "metadata": {},
   "outputs": [
    {
     "name": "stdout",
     "output_type": "stream",
     "text": [
      "0.16467065868263472\n"
     ]
    }
   ],
   "source": [
    "# Calculate mean absolute error for testing dataset of K-Nearest Neighbors\n",
    "KNN_test_mae = mean_absolute_error(y_test, KNN_y_test_pred)\n",
    "\n",
    "# Print \"MAE\" of test dataset for K-Nearest Neighbors\n",
    "print(KNN_test_mae)"
   ]
  },
  {
   "cell_type": "markdown",
   "id": "301b62e4",
   "metadata": {},
   "source": [
    "##### 3.3.2.3 Calculation of confusion matrix for train and test dataset"
   ]
  },
  {
   "cell_type": "code",
   "execution_count": 306,
   "id": "e2780e57",
   "metadata": {},
   "outputs": [
    {
     "name": "stdout",
     "output_type": "stream",
     "text": [
      "[[1891   71]\n",
      " [ 340  367]]\n"
     ]
    }
   ],
   "source": [
    "# Confusion matrix calculation for train dataset of K-Nearest Neighbors\n",
    "KNN_train_conf_mat = confusion_matrix(y_train, KNN_y_train_pred)\n",
    "\n",
    "# Print confusion matrix of train dataset for K-Nearest Neighbors\n",
    "print(KNN_train_conf_mat)"
   ]
  },
  {
   "cell_type": "code",
   "execution_count": 307,
   "id": "477a19e9",
   "metadata": {},
   "outputs": [
    {
     "name": "stdout",
     "output_type": "stream",
     "text": [
      "[[486  24]\n",
      " [ 86  72]]\n"
     ]
    }
   ],
   "source": [
    "# Confusion matrix calculation for test dataset of K-Nearest Neighbors\n",
    "KNN_test_conf_mat = confusion_matrix(y_test, KNN_y_test_pred)\n",
    "\n",
    "# Print confusion matrix of test dataset for K-Nearest Neighbors\n",
    "print(KNN_test_conf_mat)"
   ]
  },
  {
   "cell_type": "markdown",
   "id": "a5430c88",
   "metadata": {},
   "source": [
    "##### 3.3.2.4 Calculation of accuracy score for train and test dataset"
   ]
  },
  {
   "cell_type": "code",
   "execution_count": 308,
   "id": "ac5a807b",
   "metadata": {},
   "outputs": [
    {
     "name": "stdout",
     "output_type": "stream",
     "text": [
      "0.8460097414762083\n"
     ]
    }
   ],
   "source": [
    "# accuracy_score calculation for the train dataset's for actual values (y_train) and predicted values (KNN_y_train_pred)\n",
    "KNN_train_acc_score = accuracy_score(y_train, KNN_y_train_pred)\n",
    "\n",
    "## Print accuracy_score of train dataset for K-Nearest Neighbors\n",
    "print(KNN_train_acc_score)"
   ]
  },
  {
   "cell_type": "code",
   "execution_count": 309,
   "id": "6d91bdd4",
   "metadata": {},
   "outputs": [
    {
     "name": "stdout",
     "output_type": "stream",
     "text": [
      "0.8353293413173652\n"
     ]
    }
   ],
   "source": [
    "# accuracy_score calculation for the test dataset's for actual values (y_test) and predicted values (KNN_y_test_pred)\n",
    "KNN_test_acc_score = accuracy_score(y_test, KNN_y_test_pred)\n",
    "\n",
    "## Print accuracy_score of test dataset for K-Nearest Neighbors\n",
    "print(KNN_test_acc_score)"
   ]
  },
  {
   "cell_type": "markdown",
   "id": "f2cc65ca",
   "metadata": {},
   "source": [
    "##### 3.3.2.5 Checking for overfitting and underfitting "
   ]
  },
  {
   "cell_type": "code",
   "execution_count": 310,
   "id": "4970373b",
   "metadata": {},
   "outputs": [
    {
     "name": "stdout",
     "output_type": "stream",
     "text": [
      "The 'K-Nearest Neighbors' trained model is Well-fitted.\n"
     ]
    }
   ],
   "source": [
    "# Check for overfitting\n",
    "if KNN_train_acc_score > KNN_test_acc_score + 0.15:  # Example threshold for overfitting\n",
    "    print(\"The 'K-Nearest Neighbors' trained model is overfitting.\")\n",
    "elif KNN_train_acc_score < KNN_test_acc_score - 0.15: # Example threshold for overfitting\n",
    "    print(\"The 'K-Nearest Neighbors' trained model is underfitting.\")\n",
    "else:\n",
    "    print(\"The 'K-Nearest Neighbors' trained model is Well-fitted.\")"
   ]
  },
  {
   "cell_type": "markdown",
   "id": "847f5e1d",
   "metadata": {},
   "source": [
    "### 3.4 Gradient search for K-Nearest Neighbors\n",
    "##### 3.4.1 Performing Gradient search for K-Nearest Neighbors by using sklearn model on \"y_train\" and \"x_train\" varaibles "
   ]
  },
  {
   "cell_type": "code",
   "execution_count": 311,
   "id": "55934ac9",
   "metadata": {},
   "outputs": [
    {
     "data": {
      "text/html": [
       "<style>#sk-container-id-16 {color: black;background-color: white;}#sk-container-id-16 pre{padding: 0;}#sk-container-id-16 div.sk-toggleable {background-color: white;}#sk-container-id-16 label.sk-toggleable__label {cursor: pointer;display: block;width: 100%;margin-bottom: 0;padding: 0.3em;box-sizing: border-box;text-align: center;}#sk-container-id-16 label.sk-toggleable__label-arrow:before {content: \"▸\";float: left;margin-right: 0.25em;color: #696969;}#sk-container-id-16 label.sk-toggleable__label-arrow:hover:before {color: black;}#sk-container-id-16 div.sk-estimator:hover label.sk-toggleable__label-arrow:before {color: black;}#sk-container-id-16 div.sk-toggleable__content {max-height: 0;max-width: 0;overflow: hidden;text-align: left;background-color: #f0f8ff;}#sk-container-id-16 div.sk-toggleable__content pre {margin: 0.2em;color: black;border-radius: 0.25em;background-color: #f0f8ff;}#sk-container-id-16 input.sk-toggleable__control:checked~div.sk-toggleable__content {max-height: 200px;max-width: 100%;overflow: auto;}#sk-container-id-16 input.sk-toggleable__control:checked~label.sk-toggleable__label-arrow:before {content: \"▾\";}#sk-container-id-16 div.sk-estimator input.sk-toggleable__control:checked~label.sk-toggleable__label {background-color: #d4ebff;}#sk-container-id-16 div.sk-label input.sk-toggleable__control:checked~label.sk-toggleable__label {background-color: #d4ebff;}#sk-container-id-16 input.sk-hidden--visually {border: 0;clip: rect(1px 1px 1px 1px);clip: rect(1px, 1px, 1px, 1px);height: 1px;margin: -1px;overflow: hidden;padding: 0;position: absolute;width: 1px;}#sk-container-id-16 div.sk-estimator {font-family: monospace;background-color: #f0f8ff;border: 1px dotted black;border-radius: 0.25em;box-sizing: border-box;margin-bottom: 0.5em;}#sk-container-id-16 div.sk-estimator:hover {background-color: #d4ebff;}#sk-container-id-16 div.sk-parallel-item::after {content: \"\";width: 100%;border-bottom: 1px solid gray;flex-grow: 1;}#sk-container-id-16 div.sk-label:hover label.sk-toggleable__label {background-color: #d4ebff;}#sk-container-id-16 div.sk-serial::before {content: \"\";position: absolute;border-left: 1px solid gray;box-sizing: border-box;top: 0;bottom: 0;left: 50%;z-index: 0;}#sk-container-id-16 div.sk-serial {display: flex;flex-direction: column;align-items: center;background-color: white;padding-right: 0.2em;padding-left: 0.2em;position: relative;}#sk-container-id-16 div.sk-item {position: relative;z-index: 1;}#sk-container-id-16 div.sk-parallel {display: flex;align-items: stretch;justify-content: center;background-color: white;position: relative;}#sk-container-id-16 div.sk-item::before, #sk-container-id-16 div.sk-parallel-item::before {content: \"\";position: absolute;border-left: 1px solid gray;box-sizing: border-box;top: 0;bottom: 0;left: 50%;z-index: -1;}#sk-container-id-16 div.sk-parallel-item {display: flex;flex-direction: column;z-index: 1;position: relative;background-color: white;}#sk-container-id-16 div.sk-parallel-item:first-child::after {align-self: flex-end;width: 50%;}#sk-container-id-16 div.sk-parallel-item:last-child::after {align-self: flex-start;width: 50%;}#sk-container-id-16 div.sk-parallel-item:only-child::after {width: 0;}#sk-container-id-16 div.sk-dashed-wrapped {border: 1px dashed gray;margin: 0 0.4em 0.5em 0.4em;box-sizing: border-box;padding-bottom: 0.4em;background-color: white;}#sk-container-id-16 div.sk-label label {font-family: monospace;font-weight: bold;display: inline-block;line-height: 1.2em;}#sk-container-id-16 div.sk-label-container {text-align: center;}#sk-container-id-16 div.sk-container {/* jupyter's `normalize.less` sets `[hidden] { display: none; }` but bootstrap.min.css set `[hidden] { display: none !important; }` so we also need the `!important` here to be able to override the default hidden behavior on the sphinx rendered scikit-learn.org. See: https://github.com/scikit-learn/scikit-learn/issues/21755 */display: inline-block !important;position: relative;}#sk-container-id-16 div.sk-text-repr-fallback {display: none;}</style><div id=\"sk-container-id-16\" class=\"sk-top-container\"><div class=\"sk-text-repr-fallback\"><pre>GridSearchCV(estimator=KNeighborsClassifier(),\n",
       "             param_grid={&#x27;n_neighbors&#x27;: [4, 7, 13, 14, 25, 6, 12, 8, 9]})</pre><b>In a Jupyter environment, please rerun this cell to show the HTML representation or trust the notebook. <br />On GitHub, the HTML representation is unable to render, please try loading this page with nbviewer.org.</b></div><div class=\"sk-container\" hidden><div class=\"sk-item sk-dashed-wrapped\"><div class=\"sk-label-container\"><div class=\"sk-label sk-toggleable\"><input class=\"sk-toggleable__control sk-hidden--visually\" id=\"sk-estimator-id-24\" type=\"checkbox\" ><label for=\"sk-estimator-id-24\" class=\"sk-toggleable__label sk-toggleable__label-arrow\">GridSearchCV</label><div class=\"sk-toggleable__content\"><pre>GridSearchCV(estimator=KNeighborsClassifier(),\n",
       "             param_grid={&#x27;n_neighbors&#x27;: [4, 7, 13, 14, 25, 6, 12, 8, 9]})</pre></div></div></div><div class=\"sk-parallel\"><div class=\"sk-parallel-item\"><div class=\"sk-item\"><div class=\"sk-label-container\"><div class=\"sk-label sk-toggleable\"><input class=\"sk-toggleable__control sk-hidden--visually\" id=\"sk-estimator-id-25\" type=\"checkbox\" ><label for=\"sk-estimator-id-25\" class=\"sk-toggleable__label sk-toggleable__label-arrow\">estimator: KNeighborsClassifier</label><div class=\"sk-toggleable__content\"><pre>KNeighborsClassifier()</pre></div></div></div><div class=\"sk-serial\"><div class=\"sk-item\"><div class=\"sk-estimator sk-toggleable\"><input class=\"sk-toggleable__control sk-hidden--visually\" id=\"sk-estimator-id-26\" type=\"checkbox\" ><label for=\"sk-estimator-id-26\" class=\"sk-toggleable__label sk-toggleable__label-arrow\">KNeighborsClassifier</label><div class=\"sk-toggleable__content\"><pre>KNeighborsClassifier()</pre></div></div></div></div></div></div></div></div></div></div>"
      ],
      "text/plain": [
       "GridSearchCV(estimator=KNeighborsClassifier(),\n",
       "             param_grid={'n_neighbors': [4, 7, 13, 14, 25, 6, 12, 8, 9]})"
      ]
     },
     "execution_count": 311,
     "metadata": {},
     "output_type": "execute_result"
    }
   ],
   "source": [
    "# Import GridSearchCV libraries from sklearn.model_selection\n",
    "from sklearn.model_selection import GridSearchCV\n",
    "\n",
    "# Define the parameter grid\n",
    "params = {'n_neighbors': [4, 7, 13, 14, 25, 6, 12, 8, 9]}\n",
    "\n",
    "# Initialize the GridSearchCV object with the KNeighborsClassifier and the parameter grid\n",
    "KNN_grid_search = GridSearchCV(KNeighborsClassifier(), params)\n",
    "\n",
    "# Fit the GridSearchCV object to the training data\n",
    "KNN_grid_search.fit(x_train_scaler, y_train)"
   ]
  },
  {
   "cell_type": "code",
   "execution_count": 312,
   "id": "de76df48",
   "metadata": {},
   "outputs": [
    {
     "name": "stdout",
     "output_type": "stream",
     "text": [
      "Best parameters found:  {'n_neighbors': 12}\n"
     ]
    }
   ],
   "source": [
    "# calculate the parameters found in grid search for KNeighborsClassifier\n",
    "best_param = KNN_grid_search.best_params_\n",
    "\n",
    "# Print the best parameters\n",
    "print(\"Best parameters found: \", best_param)"
   ]
  },
  {
   "cell_type": "code",
   "execution_count": 313,
   "id": "0fcc17cc",
   "metadata": {},
   "outputs": [
    {
     "name": "stdout",
     "output_type": "stream",
     "text": [
      "KNeighborsClassifier(n_neighbors=12)\n"
     ]
    }
   ],
   "source": [
    "# Optimised KNeighborsClassifier with best parameter found\n",
    "optimised_KNN = KNN_grid_search.best_estimator_\n",
    "\n",
    "# Print the optimised KNN condition\n",
    "print(optimised_KNN)"
   ]
  },
  {
   "cell_type": "code",
   "execution_count": 314,
   "id": "c952da23",
   "metadata": {},
   "outputs": [
    {
     "name": "stdout",
     "output_type": "stream",
     "text": [
      "\u001b[1m KNN_best_y_train_pred \u001b[0m \n",
      " [0. 0. 0. ... 1. 0. 0.] \n",
      "\n",
      "\u001b[1m KNN_best_y_test_pred \u001b[0m \n",
      " [0. 0. 0. 0. 0. 0. 0. 0. 0. 0. 0. 0. 0. 0. 0. 0. 0. 0. 0. 0. 0. 0. 0. 0.\n",
      " 0. 0. 0. 0. 0. 0. 0. 1. 0. 0. 0. 0. 1. 1. 1. 0. 0. 0. 0. 0. 0. 0. 0. 0.\n",
      " 0. 0. 0. 0. 0. 0. 0. 0. 0. 1. 1. 0. 1. 0. 0. 0. 0. 0. 0. 0. 0. 0. 0. 0.\n",
      " 0. 0. 0. 0. 0. 0. 0. 0. 0. 0. 0. 1. 0. 0. 0. 0. 0. 0. 0. 0. 1. 0. 0. 0.\n",
      " 0. 0. 0. 0. 0. 1. 0. 0. 0. 0. 0. 0. 0. 1. 0. 1. 1. 0. 1. 0. 0. 0. 0. 0.\n",
      " 0. 1. 1. 0. 0. 1. 0. 1. 0. 0. 0. 0. 0. 1. 0. 0. 0. 0. 0. 0. 0. 0. 0. 0.\n",
      " 0. 0. 0. 0. 0. 0. 0. 0. 1. 0. 0. 0. 1. 0. 0. 0. 0. 0. 0. 0. 0. 1. 0. 0.\n",
      " 0. 0. 0. 0. 0. 1. 0. 0. 0. 0. 0. 0. 0. 1. 1. 0. 0. 0. 0. 0. 0. 0. 0. 0.\n",
      " 0. 0. 0. 0. 0. 0. 1. 1. 0. 0. 0. 0. 1. 0. 1. 0. 0. 0. 0. 0. 0. 0. 0. 0.\n",
      " 0. 0. 0. 1. 0. 1. 0. 0. 0. 0. 0. 0. 1. 0. 0. 0. 0. 0. 0. 0. 0. 0. 0. 1.\n",
      " 0. 1. 0. 0. 0. 0. 0. 0. 0. 0. 0. 1. 0. 0. 0. 0. 0. 0. 0. 0. 0. 0. 0. 0.\n",
      " 0. 0. 0. 0. 0. 0. 0. 0. 0. 0. 0. 0. 0. 1. 0. 0. 0. 1. 0. 0. 0. 0. 0. 0.\n",
      " 1. 0. 0. 0. 0. 0. 0. 1. 0. 0. 0. 0. 0. 0. 0. 0. 0. 0. 0. 0. 0. 0. 0. 0.\n",
      " 0. 0. 0. 0. 1. 0. 0. 0. 0. 1. 0. 0. 0. 0. 0. 0. 0. 0. 0. 0. 0. 0. 0. 0.\n",
      " 1. 1. 0. 0. 0. 1. 0. 0. 0. 0. 0. 0. 0. 0. 0. 0. 0. 0. 0. 0. 0. 0. 0. 0.\n",
      " 0. 1. 0. 0. 0. 1. 0. 0. 0. 0. 0. 0. 0. 0. 0. 0. 0. 0. 0. 0. 0. 0. 0. 0.\n",
      " 1. 0. 0. 0. 0. 1. 0. 0. 0. 0. 1. 1. 0. 0. 0. 0. 0. 0. 0. 1. 0. 0. 0. 1.\n",
      " 0. 0. 1. 0. 0. 0. 1. 0. 0. 0. 0. 0. 0. 0. 1. 0. 0. 0. 1. 0. 0. 1. 0. 0.\n",
      " 0. 0. 1. 0. 1. 0. 0. 0. 0. 0. 0. 0. 1. 1. 1. 0. 1. 0. 0. 0. 0. 0. 0. 1.\n",
      " 0. 0. 0. 0. 0. 0. 0. 0. 0. 0. 0. 0. 0. 1. 0. 0. 0. 0. 0. 0. 0. 1. 0. 0.\n",
      " 1. 0. 0. 0. 0. 0. 0. 0. 0. 0. 0. 1. 0. 0. 0. 0. 0. 0. 0. 0. 0. 0. 0. 0.\n",
      " 0. 0. 0. 0. 0. 0. 0. 0. 0. 1. 1. 0. 0. 0. 0. 0. 0. 0. 0. 0. 0. 0. 1. 0.\n",
      " 0. 1. 0. 0. 0. 0. 0. 0. 0. 0. 0. 0. 0. 0. 0. 1. 0. 0. 0. 0. 0. 1. 0. 0.\n",
      " 0. 0. 1. 0. 0. 0. 0. 0. 0. 0. 0. 0. 0. 0. 0. 0. 1. 0. 0. 0. 0. 0. 0. 0.\n",
      " 0. 1. 0. 0. 1. 1. 1. 0. 0. 0. 0. 1. 0. 0. 0. 0. 0. 0. 0. 0. 0. 1. 0. 0.\n",
      " 0. 0. 0. 0. 0. 0. 0. 0. 0. 1. 0. 0. 0. 0. 0. 0. 1. 0. 0. 0. 0. 1. 0. 0.\n",
      " 0. 0. 0. 0. 0. 0. 0. 0. 0. 1. 0. 1. 0. 0. 0. 1. 0. 0. 0. 0. 0. 0. 0. 1.\n",
      " 1. 0. 0. 0. 1. 0. 1. 0. 0. 0. 0. 0. 1. 0. 0. 1. 0. 0. 0. 0.] \n",
      "\n"
     ]
    }
   ],
   "source": [
    "# Predict the target variable for the train and test dataset using the trained K-Nearest Neighbors model\n",
    "KNN_best_y_train_pred = optimised_KNN.predict(x_train_scaler)\n",
    "KNN_best_y_test_pred = optimised_KNN.predict(x_test_scaler)\n",
    "\n",
    "# Print the predicted values for the train and test dataset\n",
    "print((\"\\033[1m KNN_best_y_train_pred \\033[0m\"), \"\\n\", KNN_best_y_train_pred, \"\\n\")\n",
    "print((\"\\033[1m KNN_best_y_test_pred \\033[0m\"), \"\\n\", KNN_best_y_test_pred, \"\\n\")"
   ]
  },
  {
   "cell_type": "markdown",
   "id": "7b659a5c",
   "metadata": {},
   "source": [
    "##### 3.4.2 Performance evaluation for K-Nearest Neighbors at best\n",
    "##### 3.4.2.1 Calculation of MSE for train and test dataset "
   ]
  },
  {
   "cell_type": "code",
   "execution_count": 315,
   "id": "20960c32",
   "metadata": {},
   "outputs": [
    {
     "name": "stdout",
     "output_type": "stream",
     "text": [
      "0.1554889471712252\n"
     ]
    }
   ],
   "source": [
    "# Calculate mean squared error for training dataset of K-Nearest Neighbors\n",
    "KNN_best_train_mse = mean_squared_error(y_train, KNN_best_y_train_pred)\n",
    "\n",
    "# Print \"MSE\" of train dataset for K-Nearest Neighbors\n",
    "print(KNN_best_train_mse) "
   ]
  },
  {
   "cell_type": "code",
   "execution_count": 316,
   "id": "873ba7c9",
   "metadata": {},
   "outputs": [
    {
     "name": "stdout",
     "output_type": "stream",
     "text": [
      "0.17065868263473055\n"
     ]
    }
   ],
   "source": [
    "# Calculate mean squared error for testing dataset of K-Nearest Neighbors\n",
    "KNN_best_test_mse = mean_squared_error(y_test, KNN_best_y_test_pred)\n",
    "\n",
    "# Print \"MSE\" of test dataset for K-Nearest Neighbors\n",
    "print(KNN_best_test_mse) "
   ]
  },
  {
   "cell_type": "markdown",
   "id": "bcc3574b",
   "metadata": {},
   "source": [
    "##### 3.4.2.2 Calculation of MAE for train and test dataset"
   ]
  },
  {
   "cell_type": "code",
   "execution_count": 317,
   "id": "f8ff35dd",
   "metadata": {},
   "outputs": [
    {
     "name": "stdout",
     "output_type": "stream",
     "text": [
      "0.1554889471712252\n"
     ]
    }
   ],
   "source": [
    "# Calculate mean absolute error for training dataset of K-Nearest Neighbors\n",
    "KNN_best_train_mae = mean_absolute_error(y_train, KNN_best_y_train_pred)\n",
    "\n",
    "# Print \"MAE\" of train dataset for K-Nearest Neighbors\n",
    "print(KNN_best_train_mae) "
   ]
  },
  {
   "cell_type": "code",
   "execution_count": 318,
   "id": "4002a300",
   "metadata": {},
   "outputs": [
    {
     "name": "stdout",
     "output_type": "stream",
     "text": [
      "0.17065868263473055\n"
     ]
    }
   ],
   "source": [
    "# Calculate mean absolute error for testing dataset of K-Nearest Neighbors\n",
    "KNN_best_test_mae = mean_absolute_error(y_test, KNN_best_y_test_pred)\n",
    "\n",
    "# Print \"MAE\" of test dataset for K-Nearest Neighbors\n",
    "print(KNN_best_test_mae) "
   ]
  },
  {
   "cell_type": "markdown",
   "id": "c1723b5e",
   "metadata": {},
   "source": [
    "##### 3.4.2.3 Calculation of confusion matrix for train and test dataset"
   ]
  },
  {
   "cell_type": "code",
   "execution_count": 319,
   "id": "a007fa5c",
   "metadata": {},
   "outputs": [
    {
     "name": "stdout",
     "output_type": "stream",
     "text": [
      "[[1882   80]\n",
      " [ 335  372]]\n"
     ]
    }
   ],
   "source": [
    "# Confusion matrix calculation for train dataset of K-Nearest Neighbors\n",
    "KNN_best_train_conf_mat = confusion_matrix(y_train, KNN_best_y_train_pred)\n",
    "\n",
    "# Print confusion matrix of train dataset for K-Nearest Neighbors\n",
    "print(KNN_best_train_conf_mat)"
   ]
  },
  {
   "cell_type": "code",
   "execution_count": 320,
   "id": "83d5777a",
   "metadata": {},
   "outputs": [
    {
     "name": "stdout",
     "output_type": "stream",
     "text": [
      "[[485  25]\n",
      " [ 89  69]]\n"
     ]
    }
   ],
   "source": [
    "# Confusion matrix calculation for test dataset of K-Nearest Neighbors\n",
    "KNN_best_test_conf_mat = confusion_matrix(y_test, KNN_best_y_test_pred)\n",
    "\n",
    "# Print confusion matrix of test dataset for K-Nearest Neighbors\n",
    "print(KNN_best_test_conf_mat)"
   ]
  },
  {
   "cell_type": "markdown",
   "id": "c367d255",
   "metadata": {},
   "source": [
    "##### 3.4.2.4 Calculation of accuracy score for train and test dataset"
   ]
  },
  {
   "cell_type": "code",
   "execution_count": 321,
   "id": "083eb316",
   "metadata": {},
   "outputs": [
    {
     "name": "stdout",
     "output_type": "stream",
     "text": [
      "0.8445110528287748\n"
     ]
    }
   ],
   "source": [
    "# accuracy_score calculation for the train dataset's for actual values (y_train) and predicted values (KNN_best_y_train_pred)\n",
    "KNN_best_train_acc_score = accuracy_score(y_train, KNN_best_y_train_pred)\n",
    "\n",
    "## Print accuracy_score of train dataset for K-Nearest Neighbors\n",
    "print(KNN_best_train_acc_score)"
   ]
  },
  {
   "cell_type": "code",
   "execution_count": 322,
   "id": "bb55cc85",
   "metadata": {},
   "outputs": [
    {
     "name": "stdout",
     "output_type": "stream",
     "text": [
      "0.8293413173652695\n"
     ]
    }
   ],
   "source": [
    "# accuracy_score calculation for the test dataset's for actual values (y_train) and predicted values (KNN_best_y_train_pred)\n",
    "KNN_best_test_acc_score = accuracy_score(y_test, KNN_best_y_test_pred)\n",
    "\n",
    "## Print accuracy_score of test dataset for K-Nearest Neighbors\n",
    "print(KNN_best_test_acc_score)"
   ]
  },
  {
   "cell_type": "markdown",
   "id": "474b2fa7",
   "metadata": {},
   "source": [
    "##### 3.4.2.5 Checking for overfitting and underfitting"
   ]
  },
  {
   "cell_type": "code",
   "execution_count": 323,
   "id": "eb24c7b9",
   "metadata": {},
   "outputs": [
    {
     "name": "stdout",
     "output_type": "stream",
     "text": [
      "The 'K-Nearest Neighbors at best k' trained model is Well-fitted.\n"
     ]
    }
   ],
   "source": [
    "# Check for overfitting\n",
    "if KNN_best_train_acc_score > KNN_best_test_acc_score + 0.15:    # Example threshold for overfitting\n",
    "    print(\"The 'K-Nearest Neighbors at best k' trained model is overfitting.\")\n",
    "elif KNN_best_train_acc_score < KNN_best_test_acc_score - 0.15:  # Example threshold for overfitting\n",
    "    print(\"The 'K-Nearest Neighbors at best k' trained model is underfitting.\")\n",
    "else:\n",
    "    print(\"The 'K-Nearest Neighbors at best k' trained model is Well-fitted.\")"
   ]
  },
  {
   "cell_type": "markdown",
   "id": "5cb78bc8",
   "metadata": {},
   "source": [
    "### 3.5 Bagging\n",
    "#### https://scikit-learn.org/stable/modules/generated/sklearn.ensemble.BaggingClassifier.html\n",
    "##### 3.5.1 Performing Bagging by using sklearn model on \"y_train\" and \"x_train\" varaibles "
   ]
  },
  {
   "cell_type": "code",
   "execution_count": 324,
   "id": "cdcb9a3e",
   "metadata": {},
   "outputs": [
    {
     "data": {
      "text/html": [
       "<style>#sk-container-id-17 {color: black;background-color: white;}#sk-container-id-17 pre{padding: 0;}#sk-container-id-17 div.sk-toggleable {background-color: white;}#sk-container-id-17 label.sk-toggleable__label {cursor: pointer;display: block;width: 100%;margin-bottom: 0;padding: 0.3em;box-sizing: border-box;text-align: center;}#sk-container-id-17 label.sk-toggleable__label-arrow:before {content: \"▸\";float: left;margin-right: 0.25em;color: #696969;}#sk-container-id-17 label.sk-toggleable__label-arrow:hover:before {color: black;}#sk-container-id-17 div.sk-estimator:hover label.sk-toggleable__label-arrow:before {color: black;}#sk-container-id-17 div.sk-toggleable__content {max-height: 0;max-width: 0;overflow: hidden;text-align: left;background-color: #f0f8ff;}#sk-container-id-17 div.sk-toggleable__content pre {margin: 0.2em;color: black;border-radius: 0.25em;background-color: #f0f8ff;}#sk-container-id-17 input.sk-toggleable__control:checked~div.sk-toggleable__content {max-height: 200px;max-width: 100%;overflow: auto;}#sk-container-id-17 input.sk-toggleable__control:checked~label.sk-toggleable__label-arrow:before {content: \"▾\";}#sk-container-id-17 div.sk-estimator input.sk-toggleable__control:checked~label.sk-toggleable__label {background-color: #d4ebff;}#sk-container-id-17 div.sk-label input.sk-toggleable__control:checked~label.sk-toggleable__label {background-color: #d4ebff;}#sk-container-id-17 input.sk-hidden--visually {border: 0;clip: rect(1px 1px 1px 1px);clip: rect(1px, 1px, 1px, 1px);height: 1px;margin: -1px;overflow: hidden;padding: 0;position: absolute;width: 1px;}#sk-container-id-17 div.sk-estimator {font-family: monospace;background-color: #f0f8ff;border: 1px dotted black;border-radius: 0.25em;box-sizing: border-box;margin-bottom: 0.5em;}#sk-container-id-17 div.sk-estimator:hover {background-color: #d4ebff;}#sk-container-id-17 div.sk-parallel-item::after {content: \"\";width: 100%;border-bottom: 1px solid gray;flex-grow: 1;}#sk-container-id-17 div.sk-label:hover label.sk-toggleable__label {background-color: #d4ebff;}#sk-container-id-17 div.sk-serial::before {content: \"\";position: absolute;border-left: 1px solid gray;box-sizing: border-box;top: 0;bottom: 0;left: 50%;z-index: 0;}#sk-container-id-17 div.sk-serial {display: flex;flex-direction: column;align-items: center;background-color: white;padding-right: 0.2em;padding-left: 0.2em;position: relative;}#sk-container-id-17 div.sk-item {position: relative;z-index: 1;}#sk-container-id-17 div.sk-parallel {display: flex;align-items: stretch;justify-content: center;background-color: white;position: relative;}#sk-container-id-17 div.sk-item::before, #sk-container-id-17 div.sk-parallel-item::before {content: \"\";position: absolute;border-left: 1px solid gray;box-sizing: border-box;top: 0;bottom: 0;left: 50%;z-index: -1;}#sk-container-id-17 div.sk-parallel-item {display: flex;flex-direction: column;z-index: 1;position: relative;background-color: white;}#sk-container-id-17 div.sk-parallel-item:first-child::after {align-self: flex-end;width: 50%;}#sk-container-id-17 div.sk-parallel-item:last-child::after {align-self: flex-start;width: 50%;}#sk-container-id-17 div.sk-parallel-item:only-child::after {width: 0;}#sk-container-id-17 div.sk-dashed-wrapped {border: 1px dashed gray;margin: 0 0.4em 0.5em 0.4em;box-sizing: border-box;padding-bottom: 0.4em;background-color: white;}#sk-container-id-17 div.sk-label label {font-family: monospace;font-weight: bold;display: inline-block;line-height: 1.2em;}#sk-container-id-17 div.sk-label-container {text-align: center;}#sk-container-id-17 div.sk-container {/* jupyter's `normalize.less` sets `[hidden] { display: none; }` but bootstrap.min.css set `[hidden] { display: none !important; }` so we also need the `!important` here to be able to override the default hidden behavior on the sphinx rendered scikit-learn.org. See: https://github.com/scikit-learn/scikit-learn/issues/21755 */display: inline-block !important;position: relative;}#sk-container-id-17 div.sk-text-repr-fallback {display: none;}</style><div id=\"sk-container-id-17\" class=\"sk-top-container\"><div class=\"sk-text-repr-fallback\"><pre>BaggingClassifier(estimator=DecisionTreeClassifier(), n_estimators=1000,\n",
       "                  n_jobs=1, random_state=42)</pre><b>In a Jupyter environment, please rerun this cell to show the HTML representation or trust the notebook. <br />On GitHub, the HTML representation is unable to render, please try loading this page with nbviewer.org.</b></div><div class=\"sk-container\" hidden><div class=\"sk-item sk-dashed-wrapped\"><div class=\"sk-label-container\"><div class=\"sk-label sk-toggleable\"><input class=\"sk-toggleable__control sk-hidden--visually\" id=\"sk-estimator-id-27\" type=\"checkbox\" ><label for=\"sk-estimator-id-27\" class=\"sk-toggleable__label sk-toggleable__label-arrow\">BaggingClassifier</label><div class=\"sk-toggleable__content\"><pre>BaggingClassifier(estimator=DecisionTreeClassifier(), n_estimators=1000,\n",
       "                  n_jobs=1, random_state=42)</pre></div></div></div><div class=\"sk-parallel\"><div class=\"sk-parallel-item\"><div class=\"sk-item\"><div class=\"sk-label-container\"><div class=\"sk-label sk-toggleable\"><input class=\"sk-toggleable__control sk-hidden--visually\" id=\"sk-estimator-id-28\" type=\"checkbox\" ><label for=\"sk-estimator-id-28\" class=\"sk-toggleable__label sk-toggleable__label-arrow\">estimator: DecisionTreeClassifier</label><div class=\"sk-toggleable__content\"><pre>DecisionTreeClassifier()</pre></div></div></div><div class=\"sk-serial\"><div class=\"sk-item\"><div class=\"sk-estimator sk-toggleable\"><input class=\"sk-toggleable__control sk-hidden--visually\" id=\"sk-estimator-id-29\" type=\"checkbox\" ><label for=\"sk-estimator-id-29\" class=\"sk-toggleable__label sk-toggleable__label-arrow\">DecisionTreeClassifier</label><div class=\"sk-toggleable__content\"><pre>DecisionTreeClassifier()</pre></div></div></div></div></div></div></div></div></div></div>"
      ],
      "text/plain": [
       "BaggingClassifier(estimator=DecisionTreeClassifier(), n_estimators=1000,\n",
       "                  n_jobs=1, random_state=42)"
      ]
     },
     "execution_count": 324,
     "metadata": {},
     "output_type": "execute_result"
    }
   ],
   "source": [
    "# Import BaggingClassifier model from sklearn.model and tree from sklearn\n",
    "from sklearn.ensemble import BaggingClassifier\n",
    "from sklearn import tree\n",
    "\n",
    "# Creating an instance of BaggingClassifier with the dicision tree\n",
    "clftree_bag = tree.DecisionTreeClassifier()\n",
    "Bag_clf = BaggingClassifier(estimator=clftree_bag, n_estimators=1000, bootstrap=True, n_jobs=1, random_state=42)\n",
    "\n",
    "# Fit the BaggingClassifier with \"x_train_scaler\" and \"y_train\"\n",
    "Bag_clf.fit(x_train_scaler, y_train)"
   ]
  },
  {
   "cell_type": "code",
   "execution_count": 325,
   "id": "964bacaf",
   "metadata": {},
   "outputs": [
    {
     "name": "stdout",
     "output_type": "stream",
     "text": [
      "\u001b[1m Bagging_y_train_pred \u001b[0m \n",
      " [1. 0. 0. ... 1. 0. 0.] \n",
      "\n",
      "\u001b[1m Bagging_y_test_pred \u001b[0m \n",
      " [0. 0. 0. 0. 0. 0. 0. 0. 0. 0. 0. 0. 0. 0. 0. 0. 0. 0. 0. 0. 0. 0. 0. 0.\n",
      " 0. 0. 0. 0. 0. 0. 0. 1. 0. 0. 0. 1. 1. 0. 1. 0. 0. 0. 0. 0. 0. 0. 0. 1.\n",
      " 0. 0. 0. 0. 1. 0. 0. 0. 0. 0. 1. 0. 1. 0. 0. 0. 0. 0. 0. 0. 0. 0. 0. 1.\n",
      " 0. 0. 0. 0. 0. 0. 1. 0. 0. 0. 0. 1. 0. 1. 0. 1. 1. 0. 0. 0. 1. 0. 0. 0.\n",
      " 0. 0. 0. 0. 0. 1. 0. 0. 0. 0. 0. 0. 0. 1. 0. 1. 1. 0. 1. 0. 0. 0. 0. 0.\n",
      " 0. 1. 1. 0. 0. 1. 0. 1. 0. 0. 0. 0. 0. 1. 1. 0. 0. 0. 0. 0. 0. 1. 0. 0.\n",
      " 0. 0. 0. 0. 0. 0. 0. 0. 1. 0. 0. 0. 1. 0. 0. 0. 0. 1. 0. 0. 0. 1. 0. 0.\n",
      " 0. 0. 1. 0. 0. 0. 0. 0. 0. 0. 0. 0. 0. 1. 1. 0. 0. 0. 0. 0. 0. 1. 0. 0.\n",
      " 0. 0. 0. 0. 0. 0. 1. 0. 0. 0. 0. 1. 1. 0. 1. 0. 0. 0. 0. 0. 0. 0. 0. 0.\n",
      " 0. 0. 0. 1. 0. 0. 0. 0. 0. 0. 0. 0. 0. 0. 1. 0. 0. 0. 0. 0. 0. 0. 0. 1.\n",
      " 0. 0. 0. 0. 0. 0. 0. 0. 0. 0. 0. 1. 0. 0. 0. 0. 0. 0. 0. 0. 0. 0. 0. 0.\n",
      " 0. 0. 1. 0. 0. 0. 0. 0. 0. 0. 0. 1. 0. 1. 1. 0. 0. 0. 0. 0. 0. 1. 1. 0.\n",
      " 1. 0. 0. 0. 0. 0. 0. 1. 0. 0. 0. 1. 0. 0. 0. 0. 0. 0. 0. 0. 0. 0. 0. 0.\n",
      " 0. 0. 0. 0. 1. 0. 0. 0. 1. 1. 0. 0. 0. 0. 0. 0. 0. 0. 0. 0. 0. 0. 0. 0.\n",
      " 1. 1. 0. 0. 0. 1. 0. 0. 0. 0. 0. 0. 0. 0. 0. 0. 0. 0. 0. 0. 0. 0. 0. 0.\n",
      " 0. 1. 0. 0. 0. 1. 0. 0. 0. 1. 0. 0. 0. 0. 0. 0. 0. 0. 0. 0. 0. 0. 0. 0.\n",
      " 1. 0. 0. 0. 0. 1. 0. 1. 0. 0. 1. 1. 0. 0. 0. 0. 0. 0. 0. 1. 1. 0. 0. 1.\n",
      " 1. 0. 1. 0. 0. 0. 1. 1. 0. 0. 0. 0. 0. 0. 1. 0. 0. 0. 1. 0. 1. 1. 1. 0.\n",
      " 0. 0. 1. 0. 0. 0. 0. 0. 0. 0. 0. 0. 1. 1. 1. 0. 1. 0. 0. 0. 0. 0. 1. 1.\n",
      " 0. 0. 0. 0. 0. 0. 0. 0. 0. 1. 0. 1. 0. 0. 0. 0. 0. 0. 1. 0. 0. 0. 0. 0.\n",
      " 1. 0. 0. 1. 0. 0. 0. 0. 0. 0. 0. 1. 0. 0. 0. 0. 0. 0. 0. 0. 0. 0. 0. 0.\n",
      " 1. 0. 0. 0. 0. 0. 0. 0. 0. 1. 1. 0. 0. 0. 0. 0. 0. 0. 0. 0. 0. 1. 0. 0.\n",
      " 0. 1. 0. 0. 0. 0. 0. 0. 1. 1. 0. 0. 0. 0. 0. 1. 0. 0. 0. 0. 0. 1. 0. 0.\n",
      " 0. 0. 1. 0. 0. 0. 0. 0. 0. 0. 0. 0. 0. 0. 0. 0. 1. 0. 0. 0. 0. 0. 0. 0.\n",
      " 0. 1. 0. 0. 1. 1. 1. 0. 0. 0. 0. 1. 0. 0. 0. 0. 0. 1. 0. 0. 0. 0. 0. 0.\n",
      " 0. 0. 0. 0. 0. 0. 0. 0. 0. 0. 0. 0. 0. 0. 0. 0. 1. 0. 0. 0. 0. 1. 0. 1.\n",
      " 0. 0. 0. 0. 0. 0. 0. 0. 1. 1. 0. 1. 0. 0. 0. 1. 0. 0. 0. 0. 0. 0. 0. 1.\n",
      " 0. 0. 0. 1. 1. 0. 1. 0. 0. 0. 0. 0. 1. 0. 0. 0. 0. 0. 0. 0.] \n",
      "\n"
     ]
    }
   ],
   "source": [
    "# Predict the target variable for the train and test dataset using the trained Lasso regression model for best fit\n",
    "Bagging_y_train_pred = Bag_clf.predict(x_train_scaler)\n",
    "Bagging_y_test_pred = Bag_clf.predict(x_test_scaler)\n",
    "\n",
    "# Print the predicted values for the train and test dataset\n",
    "print((\"\\033[1m Bagging_y_train_pred \\033[0m\"), \"\\n\", Bagging_y_train_pred, \"\\n\")\n",
    "print((\"\\033[1m Bagging_y_test_pred \\033[0m\"), \"\\n\", Bagging_y_test_pred, \"\\n\")"
   ]
  },
  {
   "cell_type": "markdown",
   "id": "b41ace78",
   "metadata": {},
   "source": [
    "##### 3.5.2 Performance evaluation for Bagging classifier\n",
    "##### 3.5.2.1 Calculation of MSE for train and test dataset"
   ]
  },
  {
   "cell_type": "code",
   "execution_count": 326,
   "id": "a862c446",
   "metadata": {},
   "outputs": [
    {
     "name": "stdout",
     "output_type": "stream",
     "text": [
      "0.0\n"
     ]
    }
   ],
   "source": [
    "# Calculate mean squared error for training dataset of Bagging classifier\n",
    "Bagging_train_mse = mean_squared_error(y_train, Bagging_y_train_pred)\n",
    "\n",
    "# Print \"MSE\" of train dataset for Bagging classifier\n",
    "print(Bagging_train_mse) "
   ]
  },
  {
   "cell_type": "code",
   "execution_count": 327,
   "id": "fa399a3c",
   "metadata": {},
   "outputs": [
    {
     "name": "stdout",
     "output_type": "stream",
     "text": [
      "0.17964071856287425\n"
     ]
    }
   ],
   "source": [
    "# Calculate mean squared error for training dataset of Bagging classifier\n",
    "Bagging_test_mse = mean_squared_error(y_test, Bagging_y_test_pred  )\n",
    "\n",
    "# Print \"MSE\" of test dataset for Bagging classifier\n",
    "print(Bagging_test_mse) "
   ]
  },
  {
   "cell_type": "markdown",
   "id": "1b957ad2",
   "metadata": {},
   "source": [
    "##### 3.5.2.2 Calculation of MAE for train and test dataset at alpha=best fit"
   ]
  },
  {
   "cell_type": "code",
   "execution_count": 328,
   "id": "7434238f",
   "metadata": {},
   "outputs": [
    {
     "name": "stdout",
     "output_type": "stream",
     "text": [
      "0.0\n"
     ]
    }
   ],
   "source": [
    "# Calculate mean absolute error for training dataset of Bagging classifier\n",
    "Bagging_train_mae = mean_absolute_error(y_train, Bagging_y_train_pred  )\n",
    "\n",
    "# Print \"MAE\" of train dataset for Bagging classifier\n",
    "print(Bagging_train_mae) "
   ]
  },
  {
   "cell_type": "code",
   "execution_count": 329,
   "id": "339ead55",
   "metadata": {},
   "outputs": [
    {
     "name": "stdout",
     "output_type": "stream",
     "text": [
      "0.17964071856287425\n"
     ]
    }
   ],
   "source": [
    "# Calculate mean absolute error for training dataset of Bagging classifier\n",
    "Bagging_test_mae = mean_squared_error(y_test, Bagging_y_test_pred  )\n",
    "\n",
    "# Print \"MAE\" of test dataset for Bagging classifier\n",
    "print(Bagging_test_mae) "
   ]
  },
  {
   "cell_type": "markdown",
   "id": "b6305501",
   "metadata": {},
   "source": [
    "##### 3.5.2.3 Calculation of confusion matrix for train and test dataset"
   ]
  },
  {
   "cell_type": "code",
   "execution_count": 330,
   "id": "b215c064",
   "metadata": {},
   "outputs": [
    {
     "name": "stdout",
     "output_type": "stream",
     "text": [
      "[[1962    0]\n",
      " [   0  707]]\n"
     ]
    }
   ],
   "source": [
    "# Confusion matrix calculation for train dataset of Bagging classifier\n",
    "Bagging_train_conf_mat = confusion_matrix(y_train, Bagging_y_train_pred)\n",
    "\n",
    "# Print confusion matrix of train dataset for Bagging classifier\n",
    "print(Bagging_train_conf_mat)"
   ]
  },
  {
   "cell_type": "code",
   "execution_count": 331,
   "id": "78eccefc",
   "metadata": {},
   "outputs": [
    {
     "name": "stdout",
     "output_type": "stream",
     "text": [
      "[[469  41]\n",
      " [ 79  79]]\n"
     ]
    }
   ],
   "source": [
    "# Confusion matrix calculation for test dataset of Bagging classifier\n",
    "Bagging_test_conf_mat = confusion_matrix(y_test, Bagging_y_test_pred)\n",
    "\n",
    "# Print confusion matrix of test dataset for Bagging classifier\n",
    "print(Bagging_test_conf_mat)"
   ]
  },
  {
   "cell_type": "markdown",
   "id": "177a0a26",
   "metadata": {},
   "source": [
    "##### 3.5.2.4 Calculation of accuracy score for train and test dataset"
   ]
  },
  {
   "cell_type": "code",
   "execution_count": 332,
   "id": "7c26b51f",
   "metadata": {},
   "outputs": [
    {
     "name": "stdout",
     "output_type": "stream",
     "text": [
      "1.0\n"
     ]
    }
   ],
   "source": [
    "# accuracy_score calculation for the train dataset's for actual values (y_train) and predicted values (Bagging_y_train_pred)\n",
    "Bagging_train_acc_score = accuracy_score(y_train, Bagging_y_train_pred)\n",
    "\n",
    "## Print accuracy_score of train dataset for Bagging classifier\n",
    "print(Bagging_train_acc_score)"
   ]
  },
  {
   "cell_type": "code",
   "execution_count": 333,
   "id": "b4723b58",
   "metadata": {},
   "outputs": [
    {
     "name": "stdout",
     "output_type": "stream",
     "text": [
      "0.8203592814371258\n"
     ]
    }
   ],
   "source": [
    "# accuracy_score calculation for the train dataset's for actual values (y_test) and predicted values (Bagging_y_test_pred)\n",
    "Bagging_test_acc_score = accuracy_score(y_test, Bagging_y_test_pred)\n",
    "\n",
    "## Print accuracy_score of test dataset for Bagging classifier\n",
    "print(Bagging_test_acc_score)"
   ]
  },
  {
   "cell_type": "markdown",
   "id": "13964729",
   "metadata": {},
   "source": [
    "##### 3.5.2.4 Checking for overfitting and underfitting "
   ]
  },
  {
   "cell_type": "code",
   "execution_count": 334,
   "id": "71373139",
   "metadata": {},
   "outputs": [
    {
     "name": "stdout",
     "output_type": "stream",
     "text": [
      "The 'Bagging classifier' trained model is overfitting.\n"
     ]
    }
   ],
   "source": [
    "# Check for overfitting\n",
    "if Bagging_train_acc_score > Bagging_test_acc_score + 0.15:    # Example threshold for overfitting\n",
    "    print(\"The 'Bagging classifier' trained model is overfitting.\")\n",
    "elif Bagging_train_acc_score < Bagging_test_acc_score - 0.15:  # Example threshold for overfitting\n",
    "    print(\"The 'Bagging classifier' trained model is underfitting.\")\n",
    "else:\n",
    "    print(\"The 'Bagging classifier' trained model is Well-fitted.\")"
   ]
  },
  {
   "cell_type": "markdown",
   "id": "353c53a4",
   "metadata": {},
   "source": [
    "### 3.6 Random Forest Classifier\n",
    "\n",
    "#### https://scikit-learn.org/stable/modules/generated/sklearn.ensemble.RandomForestRegressor.html\n",
    "##### 3.6.1 Performing Random Forest classifier by using sklearn model on \"y_train\" and \"x_train\" varaibles "
   ]
  },
  {
   "cell_type": "code",
   "execution_count": 335,
   "id": "d28e947c",
   "metadata": {},
   "outputs": [
    {
     "data": {
      "text/html": [
       "<style>#sk-container-id-18 {color: black;background-color: white;}#sk-container-id-18 pre{padding: 0;}#sk-container-id-18 div.sk-toggleable {background-color: white;}#sk-container-id-18 label.sk-toggleable__label {cursor: pointer;display: block;width: 100%;margin-bottom: 0;padding: 0.3em;box-sizing: border-box;text-align: center;}#sk-container-id-18 label.sk-toggleable__label-arrow:before {content: \"▸\";float: left;margin-right: 0.25em;color: #696969;}#sk-container-id-18 label.sk-toggleable__label-arrow:hover:before {color: black;}#sk-container-id-18 div.sk-estimator:hover label.sk-toggleable__label-arrow:before {color: black;}#sk-container-id-18 div.sk-toggleable__content {max-height: 0;max-width: 0;overflow: hidden;text-align: left;background-color: #f0f8ff;}#sk-container-id-18 div.sk-toggleable__content pre {margin: 0.2em;color: black;border-radius: 0.25em;background-color: #f0f8ff;}#sk-container-id-18 input.sk-toggleable__control:checked~div.sk-toggleable__content {max-height: 200px;max-width: 100%;overflow: auto;}#sk-container-id-18 input.sk-toggleable__control:checked~label.sk-toggleable__label-arrow:before {content: \"▾\";}#sk-container-id-18 div.sk-estimator input.sk-toggleable__control:checked~label.sk-toggleable__label {background-color: #d4ebff;}#sk-container-id-18 div.sk-label input.sk-toggleable__control:checked~label.sk-toggleable__label {background-color: #d4ebff;}#sk-container-id-18 input.sk-hidden--visually {border: 0;clip: rect(1px 1px 1px 1px);clip: rect(1px, 1px, 1px, 1px);height: 1px;margin: -1px;overflow: hidden;padding: 0;position: absolute;width: 1px;}#sk-container-id-18 div.sk-estimator {font-family: monospace;background-color: #f0f8ff;border: 1px dotted black;border-radius: 0.25em;box-sizing: border-box;margin-bottom: 0.5em;}#sk-container-id-18 div.sk-estimator:hover {background-color: #d4ebff;}#sk-container-id-18 div.sk-parallel-item::after {content: \"\";width: 100%;border-bottom: 1px solid gray;flex-grow: 1;}#sk-container-id-18 div.sk-label:hover label.sk-toggleable__label {background-color: #d4ebff;}#sk-container-id-18 div.sk-serial::before {content: \"\";position: absolute;border-left: 1px solid gray;box-sizing: border-box;top: 0;bottom: 0;left: 50%;z-index: 0;}#sk-container-id-18 div.sk-serial {display: flex;flex-direction: column;align-items: center;background-color: white;padding-right: 0.2em;padding-left: 0.2em;position: relative;}#sk-container-id-18 div.sk-item {position: relative;z-index: 1;}#sk-container-id-18 div.sk-parallel {display: flex;align-items: stretch;justify-content: center;background-color: white;position: relative;}#sk-container-id-18 div.sk-item::before, #sk-container-id-18 div.sk-parallel-item::before {content: \"\";position: absolute;border-left: 1px solid gray;box-sizing: border-box;top: 0;bottom: 0;left: 50%;z-index: -1;}#sk-container-id-18 div.sk-parallel-item {display: flex;flex-direction: column;z-index: 1;position: relative;background-color: white;}#sk-container-id-18 div.sk-parallel-item:first-child::after {align-self: flex-end;width: 50%;}#sk-container-id-18 div.sk-parallel-item:last-child::after {align-self: flex-start;width: 50%;}#sk-container-id-18 div.sk-parallel-item:only-child::after {width: 0;}#sk-container-id-18 div.sk-dashed-wrapped {border: 1px dashed gray;margin: 0 0.4em 0.5em 0.4em;box-sizing: border-box;padding-bottom: 0.4em;background-color: white;}#sk-container-id-18 div.sk-label label {font-family: monospace;font-weight: bold;display: inline-block;line-height: 1.2em;}#sk-container-id-18 div.sk-label-container {text-align: center;}#sk-container-id-18 div.sk-container {/* jupyter's `normalize.less` sets `[hidden] { display: none; }` but bootstrap.min.css set `[hidden] { display: none !important; }` so we also need the `!important` here to be able to override the default hidden behavior on the sphinx rendered scikit-learn.org. See: https://github.com/scikit-learn/scikit-learn/issues/21755 */display: inline-block !important;position: relative;}#sk-container-id-18 div.sk-text-repr-fallback {display: none;}</style><div id=\"sk-container-id-18\" class=\"sk-top-container\"><div class=\"sk-text-repr-fallback\"><pre>RandomForestClassifier(n_estimators=1000, n_jobs=2, random_state=42)</pre><b>In a Jupyter environment, please rerun this cell to show the HTML representation or trust the notebook. <br />On GitHub, the HTML representation is unable to render, please try loading this page with nbviewer.org.</b></div><div class=\"sk-container\" hidden><div class=\"sk-item\"><div class=\"sk-estimator sk-toggleable\"><input class=\"sk-toggleable__control sk-hidden--visually\" id=\"sk-estimator-id-30\" type=\"checkbox\" checked><label for=\"sk-estimator-id-30\" class=\"sk-toggleable__label sk-toggleable__label-arrow\">RandomForestClassifier</label><div class=\"sk-toggleable__content\"><pre>RandomForestClassifier(n_estimators=1000, n_jobs=2, random_state=42)</pre></div></div></div></div></div>"
      ],
      "text/plain": [
       "RandomForestClassifier(n_estimators=1000, n_jobs=2, random_state=42)"
      ]
     },
     "execution_count": 335,
     "metadata": {},
     "output_type": "execute_result"
    }
   ],
   "source": [
    "# Importing the RandomForestClassifier model from the sklearn.linear_model module\n",
    "from sklearn.ensemble import RandomForestClassifier\n",
    "\n",
    "# Creating an instance of RandomForestClassifier\n",
    "RF_clf = RandomForestClassifier(n_estimators=1000, n_jobs=2, random_state=42)\n",
    "\n",
    "# Now fit your RandomForestClassifier\n",
    "RF_clf.fit(x_train_scaler, y_train)"
   ]
  },
  {
   "cell_type": "code",
   "execution_count": 336,
   "id": "325f07a1",
   "metadata": {},
   "outputs": [
    {
     "name": "stdout",
     "output_type": "stream",
     "text": [
      "\u001b[1m RF_y_train_pred \u001b[0m \n",
      " [1. 0. 0. ... 1. 0. 0.] \n",
      "\n",
      "\u001b[1m RF_y_test_pred \u001b[0m \n",
      " [0. 0. 0. 0. 0. 0. 0. 0. 0. 0. 1. 0. 0. 0. 0. 0. 0. 0. 0. 0. 0. 0. 0. 0.\n",
      " 0. 0. 0. 0. 0. 0. 0. 1. 0. 0. 0. 1. 1. 0. 1. 0. 0. 0. 0. 0. 0. 0. 0. 0.\n",
      " 0. 0. 0. 0. 1. 0. 0. 0. 0. 1. 1. 0. 1. 0. 0. 0. 0. 0. 0. 0. 0. 0. 0. 0.\n",
      " 0. 0. 0. 0. 0. 0. 0. 0. 0. 0. 0. 1. 0. 0. 0. 1. 1. 0. 0. 0. 1. 0. 0. 0.\n",
      " 0. 0. 0. 0. 0. 0. 0. 0. 0. 0. 0. 0. 0. 1. 0. 1. 1. 0. 1. 0. 0. 0. 0. 0.\n",
      " 0. 0. 1. 0. 0. 1. 0. 1. 0. 0. 0. 0. 0. 1. 1. 0. 0. 0. 0. 0. 0. 1. 0. 0.\n",
      " 0. 0. 0. 0. 0. 0. 0. 0. 1. 0. 0. 0. 1. 0. 0. 0. 0. 1. 0. 0. 0. 1. 0. 0.\n",
      " 0. 0. 1. 0. 0. 1. 0. 0. 0. 0. 0. 0. 0. 1. 1. 0. 0. 0. 0. 0. 0. 1. 0. 0.\n",
      " 0. 1. 0. 0. 0. 0. 1. 1. 0. 0. 0. 1. 1. 0. 1. 0. 0. 0. 0. 0. 0. 0. 0. 0.\n",
      " 0. 0. 0. 1. 0. 0. 0. 0. 0. 0. 0. 0. 0. 0. 1. 0. 0. 0. 0. 0. 0. 0. 0. 1.\n",
      " 0. 0. 0. 0. 0. 0. 0. 0. 0. 0. 0. 1. 0. 0. 0. 0. 0. 0. 0. 0. 0. 0. 0. 0.\n",
      " 0. 0. 1. 0. 0. 0. 0. 0. 0. 0. 0. 1. 0. 1. 1. 0. 0. 0. 0. 0. 0. 1. 0. 0.\n",
      " 1. 0. 0. 0. 0. 0. 0. 1. 0. 0. 0. 1. 0. 0. 0. 0. 0. 0. 0. 0. 0. 0. 0. 0.\n",
      " 0. 0. 0. 0. 1. 0. 0. 0. 1. 1. 0. 0. 0. 0. 0. 0. 0. 0. 0. 0. 0. 0. 0. 0.\n",
      " 1. 1. 0. 0. 0. 1. 0. 0. 0. 0. 0. 0. 0. 0. 0. 0. 0. 0. 0. 0. 0. 0. 0. 0.\n",
      " 0. 1. 0. 0. 0. 1. 0. 0. 0. 0. 0. 0. 0. 0. 0. 0. 0. 0. 0. 0. 0. 0. 0. 0.\n",
      " 1. 0. 0. 0. 0. 1. 0. 0. 0. 0. 1. 1. 0. 0. 0. 0. 0. 0. 0. 1. 1. 0. 0. 1.\n",
      " 1. 0. 1. 0. 0. 0. 1. 0. 0. 0. 0. 0. 0. 0. 1. 0. 0. 0. 1. 0. 1. 0. 1. 0.\n",
      " 0. 0. 1. 0. 1. 0. 0. 0. 0. 0. 0. 0. 0. 1. 1. 0. 1. 0. 0. 0. 0. 0. 0. 1.\n",
      " 0. 0. 0. 0. 0. 0. 0. 0. 0. 1. 0. 1. 0. 0. 0. 0. 0. 0. 0. 0. 0. 0. 0. 0.\n",
      " 1. 0. 0. 1. 0. 0. 0. 0. 0. 0. 0. 1. 0. 0. 0. 0. 0. 0. 0. 0. 0. 0. 0. 0.\n",
      " 1. 0. 0. 0. 0. 0. 0. 0. 0. 1. 1. 0. 0. 0. 0. 0. 0. 0. 0. 0. 0. 0. 0. 0.\n",
      " 0. 1. 0. 0. 0. 0. 0. 0. 1. 1. 0. 0. 0. 0. 0. 1. 0. 0. 0. 0. 0. 1. 0. 0.\n",
      " 0. 0. 1. 0. 0. 0. 0. 0. 0. 0. 0. 0. 0. 0. 0. 0. 1. 0. 0. 0. 0. 0. 0. 0.\n",
      " 0. 1. 0. 0. 1. 1. 1. 0. 0. 0. 0. 1. 0. 0. 0. 0. 0. 0. 0. 0. 0. 0. 0. 0.\n",
      " 0. 0. 0. 0. 0. 0. 1. 0. 0. 1. 0. 0. 0. 0. 0. 0. 1. 0. 0. 0. 0. 1. 0. 0.\n",
      " 0. 0. 0. 0. 0. 0. 0. 0. 0. 1. 0. 1. 0. 0. 0. 1. 0. 0. 0. 0. 0. 0. 0. 1.\n",
      " 0. 0. 0. 0. 1. 0. 0. 0. 0. 0. 0. 0. 1. 0. 0. 0. 0. 0. 0. 0.] \n",
      "\n"
     ]
    }
   ],
   "source": [
    "# Predict the target variable for the train and test dataset using the trained random forest classifier model\n",
    "RF_y_train_pred = RF_clf.predict(x_train_scaler)\n",
    "RF_y_test_pred = RF_clf.predict(x_test_scaler)\n",
    "\n",
    "# Print the predicted values for the train and test dataset\n",
    "print((\"\\033[1m RF_y_train_pred \\033[0m\"), \"\\n\", RF_y_train_pred, \"\\n\")\n",
    "print((\"\\033[1m RF_y_test_pred \\033[0m\"), \"\\n\", RF_y_test_pred, \"\\n\")"
   ]
  },
  {
   "cell_type": "markdown",
   "id": "d77ef340",
   "metadata": {},
   "source": [
    "##### 3.6.2 Performance evaluation for Random Forest classifier\n",
    "##### 3.6.2.1 Calculation of MSE for train and test dataset "
   ]
  },
  {
   "cell_type": "code",
   "execution_count": 337,
   "id": "1dce678f",
   "metadata": {},
   "outputs": [
    {
     "name": "stdout",
     "output_type": "stream",
     "text": [
      "0.0\n"
     ]
    }
   ],
   "source": [
    "# Calculate mean squared error for training dataset of random forest classifier\n",
    "RF_train_mse = mean_squared_error(y_train, RF_y_train_pred)\n",
    "\n",
    "# Print \"MSE\" of train dataset for random forest classifier\n",
    "print(RF_train_mse) "
   ]
  },
  {
   "cell_type": "code",
   "execution_count": 338,
   "id": "70bff44f",
   "metadata": {},
   "outputs": [
    {
     "name": "stdout",
     "output_type": "stream",
     "text": [
      "0.16167664670658682\n"
     ]
    }
   ],
   "source": [
    "# Calculate mean squared error for testing dataset of random forest classifier\n",
    "RF_test_mse = mean_squared_error(y_test, RF_y_test_pred)\n",
    "\n",
    "# Print \"MSE\" of test dataset for random forest classifier\n",
    "print(RF_test_mse) "
   ]
  },
  {
   "cell_type": "markdown",
   "id": "c71c57ca",
   "metadata": {},
   "source": [
    "##### 3.6.2.2 Calculation of MAE for train and test dataset "
   ]
  },
  {
   "cell_type": "code",
   "execution_count": 339,
   "id": "3794acde",
   "metadata": {},
   "outputs": [
    {
     "name": "stdout",
     "output_type": "stream",
     "text": [
      "0.0\n"
     ]
    }
   ],
   "source": [
    "# Calculate mean absolute error for training dataset of random forest classifier\n",
    "RF_train_mae = mean_absolute_error(y_train, RF_y_train_pred)\n",
    "\n",
    "# Print \"MAE\" of train dataset for random forest classifier\n",
    "print(RF_train_mae)"
   ]
  },
  {
   "cell_type": "code",
   "execution_count": 340,
   "id": "68623246",
   "metadata": {},
   "outputs": [
    {
     "name": "stdout",
     "output_type": "stream",
     "text": [
      "0.16167664670658682\n"
     ]
    }
   ],
   "source": [
    "# Calculate mean absolute error for testing dataset of random forest classifier\n",
    "RF_test_mae = mean_absolute_error(y_test, RF_y_test_pred)\n",
    "\n",
    "# Print \"MAE\" of test dataset for random forest classifier\n",
    "print(RF_test_mae)"
   ]
  },
  {
   "cell_type": "markdown",
   "id": "0a810f17",
   "metadata": {},
   "source": [
    "##### 3.6.2.3 Calculation of confusion matrix for train and test dataset "
   ]
  },
  {
   "cell_type": "code",
   "execution_count": 341,
   "id": "5806e5dc",
   "metadata": {},
   "outputs": [
    {
     "name": "stdout",
     "output_type": "stream",
     "text": [
      "[[1962    0]\n",
      " [   0  707]]\n"
     ]
    }
   ],
   "source": [
    "# Confusion matrix calculation for train dataset of random forest classifier\n",
    "RF_train_conf_mat = confusion_matrix(y_train, RF_y_train_pred)\n",
    "\n",
    "# Print confusion matrix of train dataset for random forest classifier\n",
    "print(RF_train_conf_mat)"
   ]
  },
  {
   "cell_type": "code",
   "execution_count": 342,
   "id": "bec56d21",
   "metadata": {},
   "outputs": [
    {
     "name": "stdout",
     "output_type": "stream",
     "text": [
      "[[481  29]\n",
      " [ 79  79]]\n"
     ]
    }
   ],
   "source": [
    "# Confusion matrix calculation for test dataset of random forest classifier\n",
    "RF_test_conf_mat = confusion_matrix(y_test, RF_y_test_pred)\n",
    "\n",
    "# Print confusion matrix of test dataset for random forest classifier\n",
    "print(RF_test_conf_mat)"
   ]
  },
  {
   "cell_type": "markdown",
   "id": "8f928380",
   "metadata": {},
   "source": [
    "##### 3.6.2.4 Calculation of accuracy score for train and test dataset "
   ]
  },
  {
   "cell_type": "code",
   "execution_count": 343,
   "id": "85db8cc4",
   "metadata": {},
   "outputs": [
    {
     "name": "stdout",
     "output_type": "stream",
     "text": [
      "1.0\n"
     ]
    }
   ],
   "source": [
    "# accuracy_score calculation for the train dataset's for actual values (y_train) and predicted values (RF_y_train_pred)\n",
    "RF_train_acc_score = accuracy_score(y_train, RF_y_train_pred)\n",
    "\n",
    "## Print accuracy_score of train dataset for random forest classifier\n",
    "print(RF_train_acc_score)"
   ]
  },
  {
   "cell_type": "code",
   "execution_count": 344,
   "id": "a437a820",
   "metadata": {},
   "outputs": [
    {
     "name": "stdout",
     "output_type": "stream",
     "text": [
      "0.8383233532934131\n"
     ]
    }
   ],
   "source": [
    "# accuracy_score calculation for the test dataset's for actual values (y_test) and predicted values (RF_y_test_pred)\n",
    "RF_test_acc_score = accuracy_score(y_test, RF_y_test_pred)\n",
    "\n",
    "## Print accuracy_score of test dataset for random forest classifier\n",
    "print(RF_test_acc_score)"
   ]
  },
  {
   "cell_type": "markdown",
   "id": "161d3103",
   "metadata": {},
   "source": [
    "##### 3.6.2.5 Checking for overfitting and underfitting "
   ]
  },
  {
   "cell_type": "code",
   "execution_count": 345,
   "id": "46725d40",
   "metadata": {},
   "outputs": [
    {
     "name": "stdout",
     "output_type": "stream",
     "text": [
      "The 'Random Forest Classifier' trained model is overfitting.\n"
     ]
    }
   ],
   "source": [
    "# Check for overfitting\n",
    "if RF_train_acc_score > RF_test_acc_score + 0.15:  # Example threshold for overfitting\n",
    "    print(\"The 'Random Forest Classifier' trained model is overfitting.\")\n",
    "elif RF_train_acc_score < RF_test_acc_score - 0.15:  # Example threshold for underfitting\n",
    "    print(\"The 'Random Forest Classifier' trained model is underfitting.\")\n",
    "else:\n",
    "    print(\"The 'Random Forest Classifier' trained model is Well-fitted.\")  "
   ]
  },
  {
   "cell_type": "markdown",
   "id": "9f7f335c",
   "metadata": {},
   "source": [
    "### 3.7 Grid Search technique for Random forest classifier\n",
    "#### https://scikit-learn.org/stable/modules/generated/sklearn.model_selection.GridSearchCV.html"
   ]
  },
  {
   "cell_type": "code",
   "execution_count": 346,
   "id": "df1a314c",
   "metadata": {},
   "outputs": [],
   "source": [
    "# Import GridSearchCV libraries from sklearn.model_selection\n",
    "from sklearn.model_selection import GridSearchCV\n",
    "\n",
    "# Initialize a RandomForestClassifier with 250 estimators and a fixed random state for reproducibility\n",
    "GS_RF_clf = RandomForestClassifier(n_estimators=500, random_state=42)\n",
    "\n",
    "# Define a grid of hyperparameters to search over\n",
    "params_grid = {\"max_features\": [4, 5, 6, 7, 8, 9, 10],  # The number of features to consider when looking for the best split\n",
    "               \"min_samples_split\": [2, 3, 10]}         # The minimum number of samples required to split an internal node"
   ]
  },
  {
   "cell_type": "markdown",
   "id": "b4150218",
   "metadata": {},
   "source": [
    "##### Grid search for Random forest classifier is taking little time for execution"
   ]
  },
  {
   "cell_type": "code",
   "execution_count": 347,
   "id": "d3da4344",
   "metadata": {},
   "outputs": [
    {
     "data": {
      "text/html": [
       "<style>#sk-container-id-19 {color: black;background-color: white;}#sk-container-id-19 pre{padding: 0;}#sk-container-id-19 div.sk-toggleable {background-color: white;}#sk-container-id-19 label.sk-toggleable__label {cursor: pointer;display: block;width: 100%;margin-bottom: 0;padding: 0.3em;box-sizing: border-box;text-align: center;}#sk-container-id-19 label.sk-toggleable__label-arrow:before {content: \"▸\";float: left;margin-right: 0.25em;color: #696969;}#sk-container-id-19 label.sk-toggleable__label-arrow:hover:before {color: black;}#sk-container-id-19 div.sk-estimator:hover label.sk-toggleable__label-arrow:before {color: black;}#sk-container-id-19 div.sk-toggleable__content {max-height: 0;max-width: 0;overflow: hidden;text-align: left;background-color: #f0f8ff;}#sk-container-id-19 div.sk-toggleable__content pre {margin: 0.2em;color: black;border-radius: 0.25em;background-color: #f0f8ff;}#sk-container-id-19 input.sk-toggleable__control:checked~div.sk-toggleable__content {max-height: 200px;max-width: 100%;overflow: auto;}#sk-container-id-19 input.sk-toggleable__control:checked~label.sk-toggleable__label-arrow:before {content: \"▾\";}#sk-container-id-19 div.sk-estimator input.sk-toggleable__control:checked~label.sk-toggleable__label {background-color: #d4ebff;}#sk-container-id-19 div.sk-label input.sk-toggleable__control:checked~label.sk-toggleable__label {background-color: #d4ebff;}#sk-container-id-19 input.sk-hidden--visually {border: 0;clip: rect(1px 1px 1px 1px);clip: rect(1px, 1px, 1px, 1px);height: 1px;margin: -1px;overflow: hidden;padding: 0;position: absolute;width: 1px;}#sk-container-id-19 div.sk-estimator {font-family: monospace;background-color: #f0f8ff;border: 1px dotted black;border-radius: 0.25em;box-sizing: border-box;margin-bottom: 0.5em;}#sk-container-id-19 div.sk-estimator:hover {background-color: #d4ebff;}#sk-container-id-19 div.sk-parallel-item::after {content: \"\";width: 100%;border-bottom: 1px solid gray;flex-grow: 1;}#sk-container-id-19 div.sk-label:hover label.sk-toggleable__label {background-color: #d4ebff;}#sk-container-id-19 div.sk-serial::before {content: \"\";position: absolute;border-left: 1px solid gray;box-sizing: border-box;top: 0;bottom: 0;left: 50%;z-index: 0;}#sk-container-id-19 div.sk-serial {display: flex;flex-direction: column;align-items: center;background-color: white;padding-right: 0.2em;padding-left: 0.2em;position: relative;}#sk-container-id-19 div.sk-item {position: relative;z-index: 1;}#sk-container-id-19 div.sk-parallel {display: flex;align-items: stretch;justify-content: center;background-color: white;position: relative;}#sk-container-id-19 div.sk-item::before, #sk-container-id-19 div.sk-parallel-item::before {content: \"\";position: absolute;border-left: 1px solid gray;box-sizing: border-box;top: 0;bottom: 0;left: 50%;z-index: -1;}#sk-container-id-19 div.sk-parallel-item {display: flex;flex-direction: column;z-index: 1;position: relative;background-color: white;}#sk-container-id-19 div.sk-parallel-item:first-child::after {align-self: flex-end;width: 50%;}#sk-container-id-19 div.sk-parallel-item:last-child::after {align-self: flex-start;width: 50%;}#sk-container-id-19 div.sk-parallel-item:only-child::after {width: 0;}#sk-container-id-19 div.sk-dashed-wrapped {border: 1px dashed gray;margin: 0 0.4em 0.5em 0.4em;box-sizing: border-box;padding-bottom: 0.4em;background-color: white;}#sk-container-id-19 div.sk-label label {font-family: monospace;font-weight: bold;display: inline-block;line-height: 1.2em;}#sk-container-id-19 div.sk-label-container {text-align: center;}#sk-container-id-19 div.sk-container {/* jupyter's `normalize.less` sets `[hidden] { display: none; }` but bootstrap.min.css set `[hidden] { display: none !important; }` so we also need the `!important` here to be able to override the default hidden behavior on the sphinx rendered scikit-learn.org. See: https://github.com/scikit-learn/scikit-learn/issues/21755 */display: inline-block !important;position: relative;}#sk-container-id-19 div.sk-text-repr-fallback {display: none;}</style><div id=\"sk-container-id-19\" class=\"sk-top-container\"><div class=\"sk-text-repr-fallback\"><pre>GridSearchCV(cv=3,\n",
       "             estimator=RandomForestClassifier(n_estimators=500,\n",
       "                                              random_state=42),\n",
       "             n_jobs=-1,\n",
       "             param_grid={&#x27;max_features&#x27;: [4, 5, 6, 7, 8, 9, 10],\n",
       "                         &#x27;min_samples_split&#x27;: [2, 3, 10]},\n",
       "             scoring=&#x27;accuracy&#x27;)</pre><b>In a Jupyter environment, please rerun this cell to show the HTML representation or trust the notebook. <br />On GitHub, the HTML representation is unable to render, please try loading this page with nbviewer.org.</b></div><div class=\"sk-container\" hidden><div class=\"sk-item sk-dashed-wrapped\"><div class=\"sk-label-container\"><div class=\"sk-label sk-toggleable\"><input class=\"sk-toggleable__control sk-hidden--visually\" id=\"sk-estimator-id-31\" type=\"checkbox\" ><label for=\"sk-estimator-id-31\" class=\"sk-toggleable__label sk-toggleable__label-arrow\">GridSearchCV</label><div class=\"sk-toggleable__content\"><pre>GridSearchCV(cv=3,\n",
       "             estimator=RandomForestClassifier(n_estimators=500,\n",
       "                                              random_state=42),\n",
       "             n_jobs=-1,\n",
       "             param_grid={&#x27;max_features&#x27;: [4, 5, 6, 7, 8, 9, 10],\n",
       "                         &#x27;min_samples_split&#x27;: [2, 3, 10]},\n",
       "             scoring=&#x27;accuracy&#x27;)</pre></div></div></div><div class=\"sk-parallel\"><div class=\"sk-parallel-item\"><div class=\"sk-item\"><div class=\"sk-label-container\"><div class=\"sk-label sk-toggleable\"><input class=\"sk-toggleable__control sk-hidden--visually\" id=\"sk-estimator-id-32\" type=\"checkbox\" ><label for=\"sk-estimator-id-32\" class=\"sk-toggleable__label sk-toggleable__label-arrow\">estimator: RandomForestClassifier</label><div class=\"sk-toggleable__content\"><pre>RandomForestClassifier(n_estimators=500, random_state=42)</pre></div></div></div><div class=\"sk-serial\"><div class=\"sk-item\"><div class=\"sk-estimator sk-toggleable\"><input class=\"sk-toggleable__control sk-hidden--visually\" id=\"sk-estimator-id-33\" type=\"checkbox\" ><label for=\"sk-estimator-id-33\" class=\"sk-toggleable__label sk-toggleable__label-arrow\">RandomForestClassifier</label><div class=\"sk-toggleable__content\"><pre>RandomForestClassifier(n_estimators=500, random_state=42)</pre></div></div></div></div></div></div></div></div></div></div>"
      ],
      "text/plain": [
       "GridSearchCV(cv=3,\n",
       "             estimator=RandomForestClassifier(n_estimators=500,\n",
       "                                              random_state=42),\n",
       "             n_jobs=-1,\n",
       "             param_grid={'max_features': [4, 5, 6, 7, 8, 9, 10],\n",
       "                         'min_samples_split': [2, 3, 10]},\n",
       "             scoring='accuracy')"
      ]
     },
     "execution_count": 347,
     "metadata": {},
     "output_type": "execute_result"
    }
   ],
   "source": [
    "# Initialize GridSearchCV with the RandomForestRegressor, parameter grid, and other necessary settings\n",
    "RF_grid_search = GridSearchCV(GS_RF_clf, params_grid, cv=3, scoring='accuracy', n_jobs=-1)\n",
    "\n",
    "# Assuming X_train and y_train are your training features and labels, fit the GridSearchCV\n",
    "RF_grid_search.fit(x_train_scaler, y_train)"
   ]
  },
  {
   "cell_type": "code",
   "execution_count": 348,
   "id": "90e9ef39",
   "metadata": {},
   "outputs": [
    {
     "name": "stdout",
     "output_type": "stream",
     "text": [
      "Best parameters found:  {'max_features': 6, 'min_samples_split': 10}\n"
     ]
    }
   ],
   "source": [
    "# calculate the parameters found in grid search for random forest classifier\n",
    "best_param = RF_grid_search.best_params_\n",
    "\n",
    "# Print the best parameters\n",
    "print(\"Best parameters found: \", best_param)"
   ]
  },
  {
   "cell_type": "code",
   "execution_count": 349,
   "id": "363f0ceb",
   "metadata": {},
   "outputs": [
    {
     "name": "stdout",
     "output_type": "stream",
     "text": [
      "\u001b[1m GS_RF_y_train_pred \u001b[0m \n",
      " [1. 0. 0. ... 1. 0. 0.] \n",
      "\n",
      "\u001b[1m GS_RF_y_test_pred \u001b[0m \n",
      " [0. 0. 0. 0. 0. 0. 0. 0. 0. 0. 1. 0. 0. 0. 0. 0. 0. 0. 0. 0. 0. 0. 0. 0.\n",
      " 0. 0. 0. 0. 0. 0. 0. 1. 0. 0. 0. 1. 1. 0. 1. 0. 0. 0. 0. 0. 0. 0. 0. 1.\n",
      " 0. 0. 0. 0. 1. 0. 0. 0. 0. 1. 1. 0. 1. 0. 0. 0. 0. 0. 0. 0. 0. 0. 0. 0.\n",
      " 0. 0. 0. 0. 0. 0. 1. 0. 0. 0. 0. 1. 0. 1. 0. 1. 1. 0. 0. 0. 1. 0. 0. 0.\n",
      " 0. 0. 0. 0. 0. 0. 0. 0. 0. 0. 0. 0. 0. 1. 0. 1. 1. 0. 1. 0. 0. 0. 0. 0.\n",
      " 0. 0. 1. 0. 0. 1. 0. 1. 0. 0. 0. 0. 0. 1. 1. 0. 0. 0. 0. 0. 0. 1. 0. 0.\n",
      " 0. 0. 0. 0. 0. 0. 0. 0. 1. 0. 0. 0. 1. 0. 0. 0. 0. 1. 0. 0. 0. 1. 0. 0.\n",
      " 0. 0. 0. 0. 0. 0. 0. 0. 0. 0. 0. 0. 0. 1. 1. 0. 0. 0. 0. 0. 0. 1. 0. 0.\n",
      " 0. 1. 0. 0. 0. 0. 1. 1. 0. 0. 0. 1. 1. 0. 1. 0. 0. 0. 0. 0. 0. 0. 0. 0.\n",
      " 0. 0. 0. 1. 0. 0. 0. 0. 0. 0. 0. 0. 0. 0. 1. 0. 0. 0. 0. 0. 0. 0. 0. 1.\n",
      " 0. 0. 0. 0. 0. 0. 0. 0. 0. 0. 0. 1. 0. 0. 0. 0. 0. 0. 0. 0. 0. 0. 0. 0.\n",
      " 0. 0. 1. 0. 0. 0. 0. 0. 0. 0. 0. 1. 0. 1. 1. 0. 0. 0. 0. 0. 0. 1. 0. 0.\n",
      " 1. 0. 0. 0. 0. 0. 0. 1. 0. 0. 0. 1. 0. 0. 0. 0. 0. 0. 0. 0. 0. 0. 0. 0.\n",
      " 0. 0. 0. 0. 1. 0. 0. 0. 1. 1. 0. 0. 0. 0. 0. 0. 0. 0. 0. 0. 0. 0. 0. 0.\n",
      " 1. 1. 0. 0. 0. 1. 0. 0. 0. 0. 0. 0. 0. 0. 0. 0. 0. 0. 0. 0. 0. 0. 0. 0.\n",
      " 0. 1. 0. 0. 0. 1. 0. 0. 0. 1. 0. 0. 0. 0. 0. 0. 0. 0. 0. 0. 0. 0. 0. 0.\n",
      " 1. 0. 0. 0. 0. 1. 0. 1. 0. 0. 1. 1. 0. 0. 0. 0. 0. 0. 0. 1. 1. 0. 0. 1.\n",
      " 1. 0. 1. 0. 0. 0. 1. 0. 0. 0. 0. 0. 0. 0. 1. 0. 0. 0. 1. 0. 1. 0. 1. 0.\n",
      " 0. 0. 1. 0. 1. 0. 0. 0. 0. 0. 0. 0. 1. 1. 1. 0. 1. 0. 0. 0. 0. 0. 0. 1.\n",
      " 0. 0. 0. 0. 0. 0. 0. 0. 0. 1. 0. 1. 0. 0. 0. 0. 0. 0. 0. 0. 0. 0. 0. 0.\n",
      " 1. 0. 0. 1. 0. 0. 0. 0. 0. 0. 0. 1. 0. 0. 0. 0. 0. 0. 0. 0. 0. 0. 0. 0.\n",
      " 1. 0. 0. 0. 0. 0. 0. 0. 0. 1. 1. 0. 0. 0. 0. 0. 0. 0. 0. 0. 0. 1. 0. 0.\n",
      " 0. 1. 0. 0. 1. 0. 0. 0. 1. 1. 0. 0. 0. 0. 0. 1. 0. 0. 0. 0. 0. 1. 0. 0.\n",
      " 0. 0. 1. 0. 0. 0. 0. 0. 0. 0. 0. 0. 0. 0. 0. 0. 1. 0. 0. 0. 0. 0. 0. 0.\n",
      " 0. 1. 0. 0. 1. 1. 1. 0. 0. 0. 0. 1. 0. 0. 0. 0. 0. 0. 0. 0. 0. 0. 0. 0.\n",
      " 0. 0. 0. 0. 0. 0. 1. 0. 0. 0. 0. 0. 0. 0. 0. 0. 1. 0. 0. 0. 0. 1. 0. 1.\n",
      " 0. 0. 0. 0. 0. 0. 0. 0. 0. 1. 0. 1. 0. 0. 0. 1. 0. 0. 0. 0. 0. 0. 0. 1.\n",
      " 0. 0. 0. 0. 1. 0. 1. 0. 0. 0. 0. 0. 1. 0. 0. 0. 0. 0. 0. 0.] \n",
      "\n"
     ]
    }
   ],
   "source": [
    "# Predict the target variable for the train and test dataset using the grid search for random forest classifier model\n",
    "GS_RF_y_train_pred = RF_grid_search.predict(x_train_scaler)\n",
    "GS_RF_y_test_pred = RF_grid_search.predict(x_test_scaler)\n",
    "\n",
    "# Print the predicted values for the train and test dataset\n",
    "print((\"\\033[1m GS_RF_y_train_pred \\033[0m\"), \"\\n\", GS_RF_y_train_pred, \"\\n\")\n",
    "print((\"\\033[1m GS_RF_y_test_pred \\033[0m\"), \"\\n\", GS_RF_y_test_pred, \"\\n\")"
   ]
  },
  {
   "cell_type": "markdown",
   "id": "0362c8a7",
   "metadata": {},
   "source": [
    "##### 3.7.2 Performance evaluation for grid search technique for Random Forest classifier\n",
    "##### 3.7.2.1 Calculation of MSE for train and test dataset "
   ]
  },
  {
   "cell_type": "code",
   "execution_count": 350,
   "id": "778b2de3",
   "metadata": {},
   "outputs": [
    {
     "name": "stdout",
     "output_type": "stream",
     "text": [
      "0.04233795428999625\n"
     ]
    }
   ],
   "source": [
    "# Calculate mean squared error for training dataset of grid search for random forest classifier\n",
    "GS_RF_train_mse = mean_squared_error(y_train, GS_RF_y_train_pred)\n",
    "\n",
    "# Print \"MSE\" of train dataset of grid search for random forest classifier\n",
    "print(GS_RF_train_mse) "
   ]
  },
  {
   "cell_type": "code",
   "execution_count": 351,
   "id": "6c43b4b6",
   "metadata": {},
   "outputs": [
    {
     "name": "stdout",
     "output_type": "stream",
     "text": [
      "0.1721556886227545\n"
     ]
    }
   ],
   "source": [
    "# Calculate mean squared error for testing dataset of grid search for random forest classifier\n",
    "GS_RF_test_mse = mean_squared_error(y_test, GS_RF_y_test_pred)\n",
    "\n",
    "# Print \"MSE\" of test dataset of grid search for random forest classifier\n",
    "print(GS_RF_test_mse) "
   ]
  },
  {
   "cell_type": "markdown",
   "id": "c944ba4b",
   "metadata": {},
   "source": [
    "##### 3.7.2.2 Calculation of MAE for train and test dataset "
   ]
  },
  {
   "cell_type": "code",
   "execution_count": 352,
   "id": "fd5363a0",
   "metadata": {},
   "outputs": [
    {
     "name": "stdout",
     "output_type": "stream",
     "text": [
      "0.04233795428999625\n"
     ]
    }
   ],
   "source": [
    "# Calculate mean absolute error for training dataset of grid search for random forest classifier\n",
    "GS_RF_train_mae = mean_absolute_error(y_train, GS_RF_y_train_pred)\n",
    "\n",
    "# Print \"MAE\" of train dataset of grid search for random forest classifier\n",
    "print(GS_RF_train_mae)"
   ]
  },
  {
   "cell_type": "code",
   "execution_count": 353,
   "id": "12fd41bf",
   "metadata": {},
   "outputs": [
    {
     "name": "stdout",
     "output_type": "stream",
     "text": [
      "0.1721556886227545\n"
     ]
    }
   ],
   "source": [
    "# Calculate mean absolute error for testing dataset of grid search for random forest classifier\n",
    "GS_RF_test_mae = mean_absolute_error(y_test, GS_RF_y_test_pred)\n",
    "\n",
    "# Print \"MAE\" of test dataset of grid search for random forest classifier\n",
    "print(GS_RF_test_mae)"
   ]
  },
  {
   "cell_type": "markdown",
   "id": "d312af63",
   "metadata": {},
   "source": [
    "##### 3.7.2.3 Calculation of confusion matrix for train and test dataset "
   ]
  },
  {
   "cell_type": "code",
   "execution_count": 354,
   "id": "6d3bd891",
   "metadata": {},
   "outputs": [
    {
     "name": "stdout",
     "output_type": "stream",
     "text": [
      "[[1949   13]\n",
      " [ 100  607]]\n"
     ]
    }
   ],
   "source": [
    "# Confusion matrix calculation for train dataset by grid search of random forest classifier\n",
    "GS_RF_train_conf_mat = confusion_matrix(y_train, GS_RF_y_train_pred)\n",
    "\n",
    "# Print confusion matrix of train dataset by grid search of random forest classifier\n",
    "print(GS_RF_train_conf_mat)"
   ]
  },
  {
   "cell_type": "code",
   "execution_count": 355,
   "id": "cf404d6f",
   "metadata": {},
   "outputs": [
    {
     "name": "stdout",
     "output_type": "stream",
     "text": [
      "[[474  36]\n",
      " [ 79  79]]\n"
     ]
    }
   ],
   "source": [
    "# Confusion matrix calculation for test dataset by grid search of random forest classifier\n",
    "GS_RF_test_conf_mat = confusion_matrix(y_test, GS_RF_y_test_pred)\n",
    "\n",
    "# Print confusion matrix of test dataset by grid search of random forest classifier\n",
    "print(GS_RF_test_conf_mat)"
   ]
  },
  {
   "cell_type": "markdown",
   "id": "093f085a",
   "metadata": {},
   "source": [
    "##### 3.7.2.4 Calculation of accuracy score for train and test dataset "
   ]
  },
  {
   "cell_type": "code",
   "execution_count": 356,
   "id": "3a698f0e",
   "metadata": {},
   "outputs": [
    {
     "name": "stdout",
     "output_type": "stream",
     "text": [
      "0.9576620457100038\n"
     ]
    }
   ],
   "source": [
    "# accuracy_score calculation for the train dataset's for actual values (y_train) and predicted values (GS_RF_y_train_pred)\n",
    "GS_RF_train_acc_score = accuracy_score(y_train, GS_RF_y_train_pred)\n",
    "\n",
    "## Print accuracy_score of train dataset by grid search of random forest classifier\n",
    "print(GS_RF_train_acc_score)"
   ]
  },
  {
   "cell_type": "code",
   "execution_count": 357,
   "id": "6e42b809",
   "metadata": {},
   "outputs": [
    {
     "name": "stdout",
     "output_type": "stream",
     "text": [
      "0.8278443113772455\n"
     ]
    }
   ],
   "source": [
    "# accuracy_score calculation for the test dataset's for actual values (y_test) and predicted values (GS_RF_y_test_pred)\n",
    "GS_RF_test_acc_score = accuracy_score(y_test, GS_RF_y_test_pred)\n",
    "\n",
    "## Print accuracy_score of test dataset by grid search of random forest classifier\n",
    "print(GS_RF_test_acc_score)"
   ]
  },
  {
   "cell_type": "markdown",
   "id": "90400104",
   "metadata": {},
   "source": [
    "##### 3.4.2.4 Checking for overfitting and underfitting "
   ]
  },
  {
   "cell_type": "code",
   "execution_count": 358,
   "id": "9e112f9f",
   "metadata": {},
   "outputs": [
    {
     "name": "stdout",
     "output_type": "stream",
     "text": [
      "The 'Grid search of Random Forest Regression' trained model is Well-fitted.\n"
     ]
    }
   ],
   "source": [
    "# Check for overfitting\n",
    "if GS_RF_train_acc_score > GS_RF_test_acc_score + 0.15:  # Example threshold for overfitting\n",
    "    print(\"The 'Grid search of Random Forest Regression' trained model is overfitting.\")\n",
    "elif GS_RF_train_acc_score < GS_RF_test_acc_score - 0.15:  # Example threshold for underfitting\n",
    "    print(\"The 'Grid search of Random Forest Regression' trained model is underfitting.\")\n",
    "else:\n",
    "    print(\"The 'Grid search of Random Forest Regression' trained model is Well-fitted.\")    "
   ]
  },
  {
   "cell_type": "markdown",
   "id": "2cd751b2",
   "metadata": {},
   "source": [
    "### 3.8 Gradient Boosting\n",
    "#### https://scikit-learn.org/stable/modules/generated/sklearn.ensemble.GradientBoostingClassifier.html\n",
    "##### 3.8.1 Performing Gradient boosting by using sklearn model on \"y_train\" and \"x_train\" varaibles "
   ]
  },
  {
   "cell_type": "code",
   "execution_count": 359,
   "id": "35b11a74",
   "metadata": {},
   "outputs": [
    {
     "data": {
      "text/html": [
       "<style>#sk-container-id-20 {color: black;background-color: white;}#sk-container-id-20 pre{padding: 0;}#sk-container-id-20 div.sk-toggleable {background-color: white;}#sk-container-id-20 label.sk-toggleable__label {cursor: pointer;display: block;width: 100%;margin-bottom: 0;padding: 0.3em;box-sizing: border-box;text-align: center;}#sk-container-id-20 label.sk-toggleable__label-arrow:before {content: \"▸\";float: left;margin-right: 0.25em;color: #696969;}#sk-container-id-20 label.sk-toggleable__label-arrow:hover:before {color: black;}#sk-container-id-20 div.sk-estimator:hover label.sk-toggleable__label-arrow:before {color: black;}#sk-container-id-20 div.sk-toggleable__content {max-height: 0;max-width: 0;overflow: hidden;text-align: left;background-color: #f0f8ff;}#sk-container-id-20 div.sk-toggleable__content pre {margin: 0.2em;color: black;border-radius: 0.25em;background-color: #f0f8ff;}#sk-container-id-20 input.sk-toggleable__control:checked~div.sk-toggleable__content {max-height: 200px;max-width: 100%;overflow: auto;}#sk-container-id-20 input.sk-toggleable__control:checked~label.sk-toggleable__label-arrow:before {content: \"▾\";}#sk-container-id-20 div.sk-estimator input.sk-toggleable__control:checked~label.sk-toggleable__label {background-color: #d4ebff;}#sk-container-id-20 div.sk-label input.sk-toggleable__control:checked~label.sk-toggleable__label {background-color: #d4ebff;}#sk-container-id-20 input.sk-hidden--visually {border: 0;clip: rect(1px 1px 1px 1px);clip: rect(1px, 1px, 1px, 1px);height: 1px;margin: -1px;overflow: hidden;padding: 0;position: absolute;width: 1px;}#sk-container-id-20 div.sk-estimator {font-family: monospace;background-color: #f0f8ff;border: 1px dotted black;border-radius: 0.25em;box-sizing: border-box;margin-bottom: 0.5em;}#sk-container-id-20 div.sk-estimator:hover {background-color: #d4ebff;}#sk-container-id-20 div.sk-parallel-item::after {content: \"\";width: 100%;border-bottom: 1px solid gray;flex-grow: 1;}#sk-container-id-20 div.sk-label:hover label.sk-toggleable__label {background-color: #d4ebff;}#sk-container-id-20 div.sk-serial::before {content: \"\";position: absolute;border-left: 1px solid gray;box-sizing: border-box;top: 0;bottom: 0;left: 50%;z-index: 0;}#sk-container-id-20 div.sk-serial {display: flex;flex-direction: column;align-items: center;background-color: white;padding-right: 0.2em;padding-left: 0.2em;position: relative;}#sk-container-id-20 div.sk-item {position: relative;z-index: 1;}#sk-container-id-20 div.sk-parallel {display: flex;align-items: stretch;justify-content: center;background-color: white;position: relative;}#sk-container-id-20 div.sk-item::before, #sk-container-id-20 div.sk-parallel-item::before {content: \"\";position: absolute;border-left: 1px solid gray;box-sizing: border-box;top: 0;bottom: 0;left: 50%;z-index: -1;}#sk-container-id-20 div.sk-parallel-item {display: flex;flex-direction: column;z-index: 1;position: relative;background-color: white;}#sk-container-id-20 div.sk-parallel-item:first-child::after {align-self: flex-end;width: 50%;}#sk-container-id-20 div.sk-parallel-item:last-child::after {align-self: flex-start;width: 50%;}#sk-container-id-20 div.sk-parallel-item:only-child::after {width: 0;}#sk-container-id-20 div.sk-dashed-wrapped {border: 1px dashed gray;margin: 0 0.4em 0.5em 0.4em;box-sizing: border-box;padding-bottom: 0.4em;background-color: white;}#sk-container-id-20 div.sk-label label {font-family: monospace;font-weight: bold;display: inline-block;line-height: 1.2em;}#sk-container-id-20 div.sk-label-container {text-align: center;}#sk-container-id-20 div.sk-container {/* jupyter's `normalize.less` sets `[hidden] { display: none; }` but bootstrap.min.css set `[hidden] { display: none !important; }` so we also need the `!important` here to be able to override the default hidden behavior on the sphinx rendered scikit-learn.org. See: https://github.com/scikit-learn/scikit-learn/issues/21755 */display: inline-block !important;position: relative;}#sk-container-id-20 div.sk-text-repr-fallback {display: none;}</style><div id=\"sk-container-id-20\" class=\"sk-top-container\"><div class=\"sk-text-repr-fallback\"><pre>GradientBoostingClassifier()</pre><b>In a Jupyter environment, please rerun this cell to show the HTML representation or trust the notebook. <br />On GitHub, the HTML representation is unable to render, please try loading this page with nbviewer.org.</b></div><div class=\"sk-container\" hidden><div class=\"sk-item\"><div class=\"sk-estimator sk-toggleable\"><input class=\"sk-toggleable__control sk-hidden--visually\" id=\"sk-estimator-id-34\" type=\"checkbox\" checked><label for=\"sk-estimator-id-34\" class=\"sk-toggleable__label sk-toggleable__label-arrow\">GradientBoostingClassifier</label><div class=\"sk-toggleable__content\"><pre>GradientBoostingClassifier()</pre></div></div></div></div></div>"
      ],
      "text/plain": [
       "GradientBoostingClassifier()"
      ]
     },
     "execution_count": 359,
     "metadata": {},
     "output_type": "execute_result"
    }
   ],
   "source": [
    "# import GradientBoostingClassifier from sklearn.ensemble model\n",
    "from sklearn.ensemble import GradientBoostingClassifier\n",
    "\n",
    "# Create an instance of GradientBoostingClassifier\n",
    "GB_clf = GradientBoostingClassifier()\n",
    "\n",
    "# Fit the GradientBoostingClassifier model to the training data\n",
    "GB_clf.fit(x_train_scaler, y_train)"
   ]
  },
  {
   "cell_type": "code",
   "execution_count": 360,
   "id": "22cb07f9",
   "metadata": {},
   "outputs": [
    {
     "name": "stdout",
     "output_type": "stream",
     "text": [
      "\u001b[1m GB_y_train_pred \u001b[0m \n",
      " [1. 0. 0. ... 1. 0. 0.] \n",
      "\n",
      "\u001b[1m GB_y_test_pred \u001b[0m \n",
      " [0. 0. 0. 0. 0. 0. 0. 0. 0. 0. 0. 0. 0. 0. 0. 0. 0. 0. 0. 0. 0. 0. 0. 0.\n",
      " 0. 0. 0. 0. 0. 0. 0. 1. 0. 0. 0. 1. 1. 1. 1. 0. 0. 0. 0. 0. 0. 0. 0. 0.\n",
      " 0. 0. 0. 0. 1. 0. 0. 0. 0. 0. 1. 0. 1. 0. 0. 0. 0. 0. 0. 0. 0. 0. 0. 0.\n",
      " 0. 0. 0. 0. 0. 0. 0. 0. 0. 0. 0. 1. 0. 0. 0. 1. 1. 0. 0. 0. 1. 0. 0. 0.\n",
      " 0. 0. 0. 0. 0. 0. 0. 0. 0. 0. 1. 0. 0. 1. 0. 1. 0. 0. 1. 0. 0. 0. 0. 0.\n",
      " 0. 0. 1. 0. 0. 1. 0. 1. 0. 0. 0. 0. 0. 1. 1. 0. 0. 0. 0. 0. 0. 1. 0. 0.\n",
      " 0. 0. 0. 0. 0. 0. 0. 0. 1. 0. 0. 0. 1. 0. 0. 0. 0. 1. 0. 0. 0. 1. 0. 0.\n",
      " 0. 0. 1. 0. 0. 0. 0. 0. 0. 0. 0. 0. 0. 1. 1. 0. 0. 0. 0. 0. 0. 1. 0. 0.\n",
      " 0. 1. 0. 0. 0. 0. 1. 0. 0. 0. 0. 1. 1. 0. 1. 0. 0. 0. 0. 0. 0. 0. 0. 0.\n",
      " 0. 0. 0. 1. 0. 0. 0. 0. 0. 0. 0. 0. 1. 0. 1. 0. 0. 0. 0. 0. 0. 0. 0. 1.\n",
      " 0. 1. 0. 0. 0. 0. 0. 0. 0. 0. 0. 1. 0. 0. 0. 0. 0. 0. 0. 0. 0. 0. 0. 0.\n",
      " 0. 0. 0. 0. 0. 0. 0. 0. 0. 0. 0. 1. 0. 1. 1. 0. 0. 1. 0. 0. 0. 0. 0. 0.\n",
      " 1. 0. 0. 0. 0. 0. 0. 1. 0. 0. 0. 1. 0. 0. 0. 0. 0. 0. 0. 0. 0. 0. 0. 0.\n",
      " 0. 0. 0. 0. 1. 0. 0. 0. 1. 1. 0. 0. 0. 0. 0. 0. 0. 0. 0. 0. 0. 0. 0. 0.\n",
      " 1. 1. 0. 0. 0. 0. 0. 0. 0. 0. 0. 0. 0. 0. 0. 0. 0. 0. 0. 0. 0. 0. 0. 0.\n",
      " 0. 1. 0. 0. 0. 1. 0. 0. 0. 0. 0. 0. 0. 0. 0. 0. 0. 0. 0. 0. 0. 0. 0. 0.\n",
      " 1. 0. 0. 0. 0. 1. 0. 0. 0. 0. 1. 1. 0. 0. 0. 0. 0. 0. 0. 0. 1. 1. 0. 1.\n",
      " 0. 0. 1. 0. 0. 0. 1. 0. 0. 0. 0. 0. 0. 0. 1. 0. 0. 0. 1. 0. 1. 0. 0. 0.\n",
      " 0. 0. 0. 0. 1. 0. 0. 0. 0. 0. 0. 0. 1. 1. 1. 0. 1. 0. 0. 0. 0. 0. 0. 1.\n",
      " 0. 0. 0. 0. 0. 0. 0. 0. 0. 1. 0. 0. 0. 0. 0. 0. 0. 0. 0. 0. 0. 0. 0. 0.\n",
      " 1. 0. 0. 1. 0. 0. 0. 0. 0. 0. 0. 1. 1. 0. 0. 0. 0. 0. 0. 0. 0. 0. 0. 0.\n",
      " 1. 0. 0. 0. 0. 1. 0. 0. 1. 1. 1. 0. 0. 0. 0. 0. 0. 0. 0. 0. 0. 1. 0. 0.\n",
      " 0. 1. 0. 0. 1. 0. 0. 0. 0. 0. 0. 0. 0. 0. 0. 1. 0. 0. 0. 0. 0. 1. 0. 0.\n",
      " 0. 0. 1. 0. 0. 0. 0. 0. 0. 0. 0. 0. 0. 0. 0. 0. 1. 0. 0. 0. 0. 0. 0. 0.\n",
      " 0. 1. 0. 0. 1. 1. 1. 0. 0. 0. 0. 1. 0. 0. 0. 0. 0. 0. 0. 0. 0. 0. 0. 0.\n",
      " 0. 0. 0. 0. 0. 0. 1. 0. 0. 1. 0. 0. 0. 0. 0. 0. 1. 0. 0. 0. 0. 1. 0. 0.\n",
      " 0. 0. 0. 0. 0. 0. 0. 0. 0. 1. 0. 1. 0. 1. 0. 1. 0. 0. 0. 0. 0. 0. 0. 1.\n",
      " 0. 0. 0. 0. 1. 0. 1. 0. 0. 0. 0. 0. 1. 0. 0. 0. 0. 0. 0. 0.] \n",
      "\n"
     ]
    }
   ],
   "source": [
    "# Predict the target variable for the train and test dataset using the trained Gradient boosting model\n",
    "GB_y_train_pred = GB_clf.predict(x_train_scaler)\n",
    "GB_y_test_pred = GB_clf.predict(x_test_scaler)\n",
    "\n",
    "# Print the predicted values for the train and test dataset\n",
    "print((\"\\033[1m GB_y_train_pred \\033[0m\"), \"\\n\", GB_y_train_pred, \"\\n\")\n",
    "print((\"\\033[1m GB_y_test_pred \\033[0m\"), \"\\n\", GB_y_test_pred, \"\\n\")"
   ]
  },
  {
   "cell_type": "markdown",
   "id": "f56bd01b",
   "metadata": {},
   "source": [
    "##### 3.8.2 Performance evaluation for Gradient boosting\n",
    "##### 3.8.2.1 Calculation of MSE for train and test dataset "
   ]
  },
  {
   "cell_type": "code",
   "execution_count": 361,
   "id": "bf133815",
   "metadata": {},
   "outputs": [
    {
     "name": "stdout",
     "output_type": "stream",
     "text": [
      "0.11764705882352941\n"
     ]
    }
   ],
   "source": [
    "# Calculate mean squared error for training dataset of gradient boosting\n",
    "GB_train_mse = mean_squared_error(y_train, GB_y_train_pred)\n",
    "\n",
    "# Print \"MSE\" of train dataset for gradient boosting\n",
    "print(GB_train_mse) "
   ]
  },
  {
   "cell_type": "code",
   "execution_count": 362,
   "id": "94b875c0",
   "metadata": {},
   "outputs": [
    {
     "name": "stdout",
     "output_type": "stream",
     "text": [
      "0.1601796407185629\n"
     ]
    }
   ],
   "source": [
    "# Calculate mean squared error for testing dataset of gradient boosting\n",
    "GB_test_mse = mean_squared_error(y_test, GB_y_test_pred)\n",
    "\n",
    "# Print \"MSE\" of test dataset for gradient boosting\n",
    "print(GB_test_mse) "
   ]
  },
  {
   "cell_type": "markdown",
   "id": "febc52b2",
   "metadata": {},
   "source": [
    "##### 3.8.2.2 Calculation of MAE for train and test dataset "
   ]
  },
  {
   "cell_type": "code",
   "execution_count": 363,
   "id": "a773cdeb",
   "metadata": {},
   "outputs": [
    {
     "name": "stdout",
     "output_type": "stream",
     "text": [
      "0.11764705882352941\n"
     ]
    }
   ],
   "source": [
    "# Calculate mean absolute error for training dataset of gradient boosting\n",
    "GB_train_mae = mean_absolute_error(y_train, GB_y_train_pred)\n",
    "\n",
    "# Print \"MAE\" of train dataset for gradient boosting\n",
    "print(GB_train_mae)"
   ]
  },
  {
   "cell_type": "code",
   "execution_count": 364,
   "id": "140445c9",
   "metadata": {},
   "outputs": [
    {
     "name": "stdout",
     "output_type": "stream",
     "text": [
      "0.1601796407185629\n"
     ]
    }
   ],
   "source": [
    "# Calculate mean absolute error for testing dataset of gradient boosting\n",
    "GB_test_mae = mean_absolute_error(y_test, GB_y_test_pred)\n",
    "\n",
    "# Print \"MAE\" of test dataset for gradient boosting\n",
    "print(GB_test_mae)"
   ]
  },
  {
   "cell_type": "markdown",
   "id": "a1f302f3",
   "metadata": {},
   "source": [
    "##### 3.8.2.3 Calculation of confusion matrix for train and test dataset "
   ]
  },
  {
   "cell_type": "code",
   "execution_count": 365,
   "id": "8999981e",
   "metadata": {},
   "outputs": [
    {
     "name": "stdout",
     "output_type": "stream",
     "text": [
      "[[1900   62]\n",
      " [ 252  455]]\n"
     ]
    }
   ],
   "source": [
    "# Confusion matrix calculation for train dataset by grid search of gradient boosting\n",
    "GB_train_conf_mat = confusion_matrix(y_train, GB_y_train_pred)\n",
    "\n",
    "# Print confusion matrix of train dataset by grid search of Gradient boosting\n",
    "print(GB_train_conf_mat)"
   ]
  },
  {
   "cell_type": "code",
   "execution_count": 366,
   "id": "92c3ad42",
   "metadata": {},
   "outputs": [
    {
     "name": "stdout",
     "output_type": "stream",
     "text": [
      "[[482  28]\n",
      " [ 79  79]]\n"
     ]
    }
   ],
   "source": [
    "# Confusion matrix calculation for test dataset by grid search of gradient boosting\n",
    "GB_test_conf_mat = confusion_matrix(y_test, GB_y_test_pred)\n",
    "\n",
    "# Print confusion matrix of test dataset by grid search of Gradient boosting\n",
    "print(GB_test_conf_mat)"
   ]
  },
  {
   "cell_type": "markdown",
   "id": "8050b141",
   "metadata": {},
   "source": [
    "##### 3.8.2.3 Calculation of accuracy score for train and test dataset "
   ]
  },
  {
   "cell_type": "code",
   "execution_count": 367,
   "id": "4d298b51",
   "metadata": {},
   "outputs": [
    {
     "name": "stdout",
     "output_type": "stream",
     "text": [
      "0.8823529411764706\n"
     ]
    }
   ],
   "source": [
    "# accuracy_score calculation for the train dataset's for actual values (y_train) and predicted values (GB_y_train_pred)\n",
    "GB_train_acc_score = accuracy_score(y_train, GB_y_train_pred)\n",
    "\n",
    "## Print accuracy_score of train dataset by grid search of gradient boosting\n",
    "print(GB_train_acc_score)"
   ]
  },
  {
   "cell_type": "code",
   "execution_count": 368,
   "id": "17a46c74",
   "metadata": {},
   "outputs": [
    {
     "name": "stdout",
     "output_type": "stream",
     "text": [
      "0.8398203592814372\n"
     ]
    }
   ],
   "source": [
    "# accuracy_score calculation for the train dataset's for actual values (y_test) and predicted values (GB_y_test_pred)\n",
    "GB_test_acc_score = accuracy_score(y_test, GB_y_test_pred)\n",
    "\n",
    "## Print accuracy_score of test dataset by grid search of gradient boosting\n",
    "print(GB_test_acc_score)"
   ]
  },
  {
   "cell_type": "markdown",
   "id": "fb139a17",
   "metadata": {},
   "source": [
    "##### 3.8.2.4 Checking for overfitting and underfitting "
   ]
  },
  {
   "cell_type": "code",
   "execution_count": 369,
   "id": "60b34378",
   "metadata": {},
   "outputs": [
    {
     "name": "stdout",
     "output_type": "stream",
     "text": [
      "The 'Gradient boosting' trained model is Well-fitted.\n"
     ]
    }
   ],
   "source": [
    "# Check for overfitting\n",
    "if GB_train_acc_score > GB_test_acc_score + 0.15:  # Example threshold for overfitting\n",
    "    print(\"The 'Gradient boosting' trained model is overfitting.\")\n",
    "elif GB_train_acc_score < GB_test_acc_score - 0.15:  # Example threshold for underfitting\n",
    "    print(\"The 'Gradient boosting' trained model is underfitting.\")\n",
    "else:\n",
    "    print(\"The 'Gradient boosting' trained model is Well-fitted.\")"
   ]
  },
  {
   "cell_type": "markdown",
   "id": "e35c45cf",
   "metadata": {},
   "source": [
    "### 3.9 Ada boosting\n",
    "#### https://scikit-learn.org/stable/modules/generated/sklearn.ensemble.AdaBoostRegressor.html\n",
    "##### 3.9.1 Performing  Ada boosting by using sklearn model on \"y_train\" and \"x_train\" varaibles "
   ]
  },
  {
   "cell_type": "code",
   "execution_count": 370,
   "id": "ef98f6e5",
   "metadata": {},
   "outputs": [
    {
     "data": {
      "text/html": [
       "<style>#sk-container-id-21 {color: black;background-color: white;}#sk-container-id-21 pre{padding: 0;}#sk-container-id-21 div.sk-toggleable {background-color: white;}#sk-container-id-21 label.sk-toggleable__label {cursor: pointer;display: block;width: 100%;margin-bottom: 0;padding: 0.3em;box-sizing: border-box;text-align: center;}#sk-container-id-21 label.sk-toggleable__label-arrow:before {content: \"▸\";float: left;margin-right: 0.25em;color: #696969;}#sk-container-id-21 label.sk-toggleable__label-arrow:hover:before {color: black;}#sk-container-id-21 div.sk-estimator:hover label.sk-toggleable__label-arrow:before {color: black;}#sk-container-id-21 div.sk-toggleable__content {max-height: 0;max-width: 0;overflow: hidden;text-align: left;background-color: #f0f8ff;}#sk-container-id-21 div.sk-toggleable__content pre {margin: 0.2em;color: black;border-radius: 0.25em;background-color: #f0f8ff;}#sk-container-id-21 input.sk-toggleable__control:checked~div.sk-toggleable__content {max-height: 200px;max-width: 100%;overflow: auto;}#sk-container-id-21 input.sk-toggleable__control:checked~label.sk-toggleable__label-arrow:before {content: \"▾\";}#sk-container-id-21 div.sk-estimator input.sk-toggleable__control:checked~label.sk-toggleable__label {background-color: #d4ebff;}#sk-container-id-21 div.sk-label input.sk-toggleable__control:checked~label.sk-toggleable__label {background-color: #d4ebff;}#sk-container-id-21 input.sk-hidden--visually {border: 0;clip: rect(1px 1px 1px 1px);clip: rect(1px, 1px, 1px, 1px);height: 1px;margin: -1px;overflow: hidden;padding: 0;position: absolute;width: 1px;}#sk-container-id-21 div.sk-estimator {font-family: monospace;background-color: #f0f8ff;border: 1px dotted black;border-radius: 0.25em;box-sizing: border-box;margin-bottom: 0.5em;}#sk-container-id-21 div.sk-estimator:hover {background-color: #d4ebff;}#sk-container-id-21 div.sk-parallel-item::after {content: \"\";width: 100%;border-bottom: 1px solid gray;flex-grow: 1;}#sk-container-id-21 div.sk-label:hover label.sk-toggleable__label {background-color: #d4ebff;}#sk-container-id-21 div.sk-serial::before {content: \"\";position: absolute;border-left: 1px solid gray;box-sizing: border-box;top: 0;bottom: 0;left: 50%;z-index: 0;}#sk-container-id-21 div.sk-serial {display: flex;flex-direction: column;align-items: center;background-color: white;padding-right: 0.2em;padding-left: 0.2em;position: relative;}#sk-container-id-21 div.sk-item {position: relative;z-index: 1;}#sk-container-id-21 div.sk-parallel {display: flex;align-items: stretch;justify-content: center;background-color: white;position: relative;}#sk-container-id-21 div.sk-item::before, #sk-container-id-21 div.sk-parallel-item::before {content: \"\";position: absolute;border-left: 1px solid gray;box-sizing: border-box;top: 0;bottom: 0;left: 50%;z-index: -1;}#sk-container-id-21 div.sk-parallel-item {display: flex;flex-direction: column;z-index: 1;position: relative;background-color: white;}#sk-container-id-21 div.sk-parallel-item:first-child::after {align-self: flex-end;width: 50%;}#sk-container-id-21 div.sk-parallel-item:last-child::after {align-self: flex-start;width: 50%;}#sk-container-id-21 div.sk-parallel-item:only-child::after {width: 0;}#sk-container-id-21 div.sk-dashed-wrapped {border: 1px dashed gray;margin: 0 0.4em 0.5em 0.4em;box-sizing: border-box;padding-bottom: 0.4em;background-color: white;}#sk-container-id-21 div.sk-label label {font-family: monospace;font-weight: bold;display: inline-block;line-height: 1.2em;}#sk-container-id-21 div.sk-label-container {text-align: center;}#sk-container-id-21 div.sk-container {/* jupyter's `normalize.less` sets `[hidden] { display: none; }` but bootstrap.min.css set `[hidden] { display: none !important; }` so we also need the `!important` here to be able to override the default hidden behavior on the sphinx rendered scikit-learn.org. See: https://github.com/scikit-learn/scikit-learn/issues/21755 */display: inline-block !important;position: relative;}#sk-container-id-21 div.sk-text-repr-fallback {display: none;}</style><div id=\"sk-container-id-21\" class=\"sk-top-container\"><div class=\"sk-text-repr-fallback\"><pre>AdaBoostClassifier(learning_rate=0.02, n_estimators=1000)</pre><b>In a Jupyter environment, please rerun this cell to show the HTML representation or trust the notebook. <br />On GitHub, the HTML representation is unable to render, please try loading this page with nbviewer.org.</b></div><div class=\"sk-container\" hidden><div class=\"sk-item\"><div class=\"sk-estimator sk-toggleable\"><input class=\"sk-toggleable__control sk-hidden--visually\" id=\"sk-estimator-id-35\" type=\"checkbox\" checked><label for=\"sk-estimator-id-35\" class=\"sk-toggleable__label sk-toggleable__label-arrow\">AdaBoostClassifier</label><div class=\"sk-toggleable__content\"><pre>AdaBoostClassifier(learning_rate=0.02, n_estimators=1000)</pre></div></div></div></div></div>"
      ],
      "text/plain": [
       "AdaBoostClassifier(learning_rate=0.02, n_estimators=1000)"
      ]
     },
     "execution_count": 370,
     "metadata": {},
     "output_type": "execute_result"
    }
   ],
   "source": [
    "# import AdaBoostClassifierfrom sklearn.ensemble model\n",
    "from sklearn.ensemble import AdaBoostClassifier\n",
    "\n",
    "# Create an instance of AdaBoostClassifier with specified parameters at learning_rate=0.02 and n_estimators=1000\n",
    "Ada_clf = AdaBoostClassifier(learning_rate=0.02, n_estimators=1000)\n",
    "\n",
    "# Fit the AdaBoostClassifier model to the training data\n",
    "Ada_clf.fit(x_train_scaler, y_train)"
   ]
  },
  {
   "cell_type": "code",
   "execution_count": 371,
   "id": "24382eb5",
   "metadata": {},
   "outputs": [
    {
     "name": "stdout",
     "output_type": "stream",
     "text": [
      "\u001b[1m Ada_y_train_pred \u001b[0m \n",
      " [0. 0. 0. ... 1. 0. 0.] \n",
      "\n",
      "\u001b[1m Ada_y_test_pred \u001b[0m \n",
      " [0. 0. 0. 0. 0. 0. 0. 0. 0. 0. 0. 0. 0. 0. 0. 0. 0. 0. 0. 0. 0. 0. 0. 0.\n",
      " 0. 0. 0. 0. 0. 0. 0. 1. 0. 0. 0. 1. 1. 1. 1. 0. 0. 0. 0. 0. 0. 0. 0. 0.\n",
      " 0. 0. 0. 0. 1. 0. 0. 0. 0. 0. 1. 0. 1. 0. 0. 0. 0. 0. 0. 0. 0. 0. 0. 0.\n",
      " 0. 0. 0. 0. 0. 0. 0. 0. 0. 0. 0. 0. 0. 0. 0. 1. 1. 0. 0. 0. 1. 0. 0. 0.\n",
      " 0. 0. 0. 0. 0. 0. 0. 0. 0. 0. 0. 0. 0. 1. 0. 1. 0. 0. 1. 0. 0. 0. 0. 0.\n",
      " 0. 0. 1. 0. 0. 1. 0. 1. 0. 0. 0. 0. 0. 1. 1. 0. 0. 0. 0. 0. 0. 1. 0. 0.\n",
      " 0. 0. 0. 0. 0. 0. 0. 0. 1. 0. 0. 0. 1. 0. 0. 0. 0. 1. 0. 0. 0. 1. 0. 0.\n",
      " 0. 0. 0. 0. 0. 0. 0. 0. 0. 0. 0. 0. 0. 1. 1. 0. 0. 0. 0. 0. 0. 1. 0. 0.\n",
      " 0. 1. 0. 0. 0. 0. 1. 0. 0. 0. 0. 1. 1. 0. 1. 0. 0. 0. 0. 0. 0. 0. 0. 0.\n",
      " 1. 0. 0. 1. 0. 0. 0. 0. 0. 0. 0. 0. 1. 0. 1. 0. 0. 0. 0. 0. 0. 0. 0. 1.\n",
      " 0. 1. 0. 0. 0. 0. 0. 0. 0. 0. 0. 1. 0. 0. 0. 0. 0. 0. 0. 0. 0. 0. 0. 0.\n",
      " 0. 0. 0. 0. 0. 0. 0. 0. 0. 0. 0. 1. 0. 1. 0. 0. 0. 1. 0. 0. 0. 1. 0. 0.\n",
      " 1. 0. 0. 0. 0. 0. 0. 1. 0. 0. 0. 1. 0. 0. 0. 0. 0. 0. 0. 0. 0. 0. 0. 0.\n",
      " 0. 0. 0. 0. 1. 0. 0. 0. 1. 1. 0. 0. 0. 0. 0. 0. 0. 0. 0. 0. 0. 0. 0. 0.\n",
      " 1. 1. 0. 0. 0. 0. 0. 0. 1. 0. 0. 0. 0. 0. 0. 0. 0. 0. 0. 0. 0. 0. 0. 0.\n",
      " 0. 0. 0. 0. 0. 1. 0. 0. 0. 0. 0. 0. 0. 0. 0. 0. 0. 0. 0. 0. 0. 0. 0. 0.\n",
      " 1. 0. 0. 0. 0. 1. 0. 0. 0. 0. 1. 1. 0. 0. 0. 0. 0. 0. 0. 0. 1. 1. 0. 1.\n",
      " 0. 0. 1. 0. 0. 0. 1. 0. 0. 0. 0. 0. 0. 0. 1. 0. 0. 0. 1. 0. 1. 0. 0. 0.\n",
      " 0. 0. 0. 0. 1. 0. 0. 0. 0. 0. 0. 0. 0. 1. 1. 0. 1. 0. 0. 0. 0. 0. 0. 1.\n",
      " 0. 0. 0. 0. 0. 0. 0. 0. 0. 0. 0. 1. 0. 0. 0. 0. 0. 0. 0. 0. 0. 0. 0. 0.\n",
      " 1. 0. 0. 1. 0. 0. 0. 0. 0. 0. 0. 1. 1. 0. 0. 0. 0. 0. 0. 0. 0. 0. 0. 0.\n",
      " 1. 0. 0. 0. 0. 0. 0. 0. 0. 1. 1. 0. 0. 0. 0. 0. 0. 0. 1. 0. 0. 1. 0. 0.\n",
      " 0. 0. 0. 0. 0. 0. 0. 0. 0. 1. 0. 0. 1. 0. 0. 1. 0. 0. 0. 0. 0. 1. 0. 0.\n",
      " 0. 0. 1. 0. 0. 0. 0. 0. 0. 0. 0. 0. 0. 0. 0. 0. 1. 0. 0. 0. 0. 0. 0. 0.\n",
      " 0. 1. 0. 0. 1. 1. 1. 0. 0. 0. 0. 1. 0. 0. 0. 0. 0. 0. 0. 0. 0. 0. 0. 0.\n",
      " 0. 0. 0. 0. 0. 0. 0. 0. 0. 1. 0. 0. 0. 0. 0. 0. 1. 0. 0. 0. 0. 1. 0. 0.\n",
      " 0. 0. 0. 0. 0. 0. 0. 0. 0. 1. 0. 1. 0. 0. 0. 1. 0. 0. 0. 0. 0. 0. 0. 1.\n",
      " 0. 0. 0. 0. 1. 0. 1. 0. 0. 0. 0. 0. 1. 0. 0. 0. 0. 0. 0. 0.] \n",
      "\n"
     ]
    }
   ],
   "source": [
    "# Predict the target variable for the train and test dataset using the trained Ada boosting model\n",
    "Ada_y_train_pred = Ada_clf.predict(x_train_scaler)\n",
    "Ada_y_test_pred = Ada_clf.predict(x_test_scaler)\n",
    "\n",
    "# Print the predicted values for the train and test dataset\n",
    "print((\"\\033[1m Ada_y_train_pred \\033[0m\"), \"\\n\", Ada_y_train_pred, \"\\n\")\n",
    "print((\"\\033[1m Ada_y_test_pred \\033[0m\"), \"\\n\", Ada_y_test_pred, \"\\n\")"
   ]
  },
  {
   "cell_type": "markdown",
   "id": "74a3c777",
   "metadata": {},
   "source": [
    "##### 3.9.2 Performance evaluation for Ada boosting\n",
    "##### 3.9.2.1 Calculation of MSE for train and test dataset "
   ]
  },
  {
   "cell_type": "code",
   "execution_count": 372,
   "id": "61e68f08",
   "metadata": {},
   "outputs": [
    {
     "name": "stdout",
     "output_type": "stream",
     "text": [
      "0.15361558636193332\n"
     ]
    }
   ],
   "source": [
    "# Calculate mean squared error for training dataset of ada boosting\n",
    "Ada_train_mse = mean_squared_error(y_train, Ada_y_train_pred)\n",
    "\n",
    "# Print \"MSE\" of train dataset for ada boosting\n",
    "print(Ada_train_mse) "
   ]
  },
  {
   "cell_type": "code",
   "execution_count": 373,
   "id": "873529e9",
   "metadata": {},
   "outputs": [
    {
     "name": "stdout",
     "output_type": "stream",
     "text": [
      "0.15718562874251496\n"
     ]
    }
   ],
   "source": [
    "# Calculate mean squared error for testing dataset of ada boosting\n",
    "Ada_test_mse = mean_squared_error(y_test, Ada_y_test_pred)\n",
    "\n",
    "# Print \"MSE\" of test dataset for ada boosting\n",
    "print(Ada_test_mse) "
   ]
  },
  {
   "cell_type": "markdown",
   "id": "10a6f03d",
   "metadata": {},
   "source": [
    "##### 3.9.2.2 Calculation of MAE for train and test dataset "
   ]
  },
  {
   "cell_type": "code",
   "execution_count": 374,
   "id": "14d9a25b",
   "metadata": {},
   "outputs": [
    {
     "name": "stdout",
     "output_type": "stream",
     "text": [
      "0.15361558636193332\n"
     ]
    }
   ],
   "source": [
    "# Calculate mean absolute error for training dataset of ada boosting\n",
    "Ada_train_mae = mean_absolute_error(y_train, Ada_y_train_pred)\n",
    "\n",
    "# Print \"MAE\" of train dataset for ada boosting\n",
    "print(Ada_train_mae)"
   ]
  },
  {
   "cell_type": "code",
   "execution_count": 375,
   "id": "96c4a212",
   "metadata": {},
   "outputs": [
    {
     "name": "stdout",
     "output_type": "stream",
     "text": [
      "0.15718562874251496\n"
     ]
    }
   ],
   "source": [
    "# Calculate mean absolute error for testing dataset of ada boosting\n",
    "Ada_test_mae = mean_absolute_error(y_test, Ada_y_test_pred)\n",
    "\n",
    "# Print \"MAE\" of test dataset for ada boosting\n",
    "print(Ada_test_mae)"
   ]
  },
  {
   "cell_type": "markdown",
   "id": "1c29ba2f",
   "metadata": {},
   "source": [
    "##### 3.9.2.3 Calculation of confusion matrix for train and test dataset "
   ]
  },
  {
   "cell_type": "code",
   "execution_count": 376,
   "id": "83734f2c",
   "metadata": {},
   "outputs": [
    {
     "name": "stdout",
     "output_type": "stream",
     "text": [
      "[[1878   84]\n",
      " [ 326  381]]\n"
     ]
    }
   ],
   "source": [
    "# Confusion matrix calculation for train dataset of ada boosting\n",
    "Ada_train_conf_mat = confusion_matrix(y_train, Ada_y_train_pred)\n",
    "\n",
    "# Print confusion matrix of train dataset of ada boosting\n",
    "print(Ada_train_conf_mat)"
   ]
  },
  {
   "cell_type": "code",
   "execution_count": 377,
   "id": "b2748f45",
   "metadata": {},
   "outputs": [
    {
     "name": "stdout",
     "output_type": "stream",
     "text": [
      "[[486  24]\n",
      " [ 81  77]]\n"
     ]
    }
   ],
   "source": [
    "# Confusion matrix calculation for test dataset of ada boosting\n",
    "Ada_test_conf_mat = confusion_matrix(y_test, Ada_y_test_pred)\n",
    "\n",
    "# Print confusion matrix of test dataset of ada boosting\n",
    "print(Ada_test_conf_mat)"
   ]
  },
  {
   "cell_type": "markdown",
   "id": "614de0f9",
   "metadata": {},
   "source": [
    "##### 3.9.2.4 Calculation of accuracy score for train and test dataset "
   ]
  },
  {
   "cell_type": "code",
   "execution_count": 378,
   "id": "ef94f42e",
   "metadata": {},
   "outputs": [
    {
     "name": "stdout",
     "output_type": "stream",
     "text": [
      "0.8463844136380667\n"
     ]
    }
   ],
   "source": [
    "# accuracy_score calculation for the train dataset's for actual values (y_train) and predicted values (Ada_y_train_pred)\n",
    "Ada_train_acc_score = accuracy_score(y_train, Ada_y_train_pred)\n",
    "\n",
    "## Print accuracy_score of train dataset of ada boosting\n",
    "print(Ada_train_acc_score)"
   ]
  },
  {
   "cell_type": "code",
   "execution_count": 379,
   "id": "13250dbe",
   "metadata": {},
   "outputs": [
    {
     "name": "stdout",
     "output_type": "stream",
     "text": [
      "0.842814371257485\n"
     ]
    }
   ],
   "source": [
    "# accuracy_score calculation for the test dataset's for actual values (y_test) and predicted values (Ada_y_test_pred)\n",
    "Ada_test_acc_score = accuracy_score(y_test, Ada_y_test_pred)\n",
    "\n",
    "# Print R-square of test dataset for ada boosting\n",
    "print(Ada_test_acc_score)"
   ]
  },
  {
   "cell_type": "markdown",
   "id": "b7371c79",
   "metadata": {},
   "source": [
    "##### 3.9.2.5 Checking for overfitting and underfitting "
   ]
  },
  {
   "cell_type": "code",
   "execution_count": 380,
   "id": "154e5371",
   "metadata": {},
   "outputs": [
    {
     "name": "stdout",
     "output_type": "stream",
     "text": [
      "The 'ADA boosting' trained model is Well-fitted.\n"
     ]
    }
   ],
   "source": [
    "# Check for overfitting\n",
    "if Ada_train_acc_score > Ada_test_acc_score + 0.15:  # Example threshold for overfitting\n",
    "    print(\"The 'ADA boosting' trained model is overfitting.\")\n",
    "elif Ada_train_acc_score < Ada_test_acc_score - 0.15:  # Example threshold for underfitting\n",
    "    print(\"The 'ADA boosting' trained model is underfitting.\")\n",
    "else:\n",
    "    print(\"The 'ADA boosting' trained model is Well-fitted.\")"
   ]
  },
  {
   "cell_type": "markdown",
   "id": "355872ca",
   "metadata": {},
   "source": [
    "### 3.10 XG Boost\n",
    "#### https://xgboost.readthedocs.io/en/stable/get_started.html\n",
    "##### 3.10.1 Performing  Ada boosting by using sklearn model on \"y_train\" and \"x_train\" varaibles "
   ]
  },
  {
   "cell_type": "code",
   "execution_count": 381,
   "id": "1ffad839",
   "metadata": {},
   "outputs": [
    {
     "name": "stdout",
     "output_type": "stream",
     "text": [
      "Defaulting to user installation because normal site-packages is not writeable\n",
      "Requirement already satisfied: xgboost in c:\\users\\zoom\\appdata\\roaming\\python\\python311\\site-packages (2.0.3)\n",
      "Requirement already satisfied: numpy in c:\\programdata\\anaconda3\\lib\\site-packages (from xgboost) (1.26.4)\n",
      "Requirement already satisfied: scipy in c:\\programdata\\anaconda3\\lib\\site-packages (from xgboost) (1.11.4)\n",
      "Note: you may need to restart the kernel to use updated packages.\n"
     ]
    }
   ],
   "source": [
    "pip install xgboost"
   ]
  },
  {
   "cell_type": "code",
   "execution_count": 382,
   "id": "34824bc7",
   "metadata": {},
   "outputs": [
    {
     "data": {
      "text/html": [
       "<style>#sk-container-id-22 {color: black;background-color: white;}#sk-container-id-22 pre{padding: 0;}#sk-container-id-22 div.sk-toggleable {background-color: white;}#sk-container-id-22 label.sk-toggleable__label {cursor: pointer;display: block;width: 100%;margin-bottom: 0;padding: 0.3em;box-sizing: border-box;text-align: center;}#sk-container-id-22 label.sk-toggleable__label-arrow:before {content: \"▸\";float: left;margin-right: 0.25em;color: #696969;}#sk-container-id-22 label.sk-toggleable__label-arrow:hover:before {color: black;}#sk-container-id-22 div.sk-estimator:hover label.sk-toggleable__label-arrow:before {color: black;}#sk-container-id-22 div.sk-toggleable__content {max-height: 0;max-width: 0;overflow: hidden;text-align: left;background-color: #f0f8ff;}#sk-container-id-22 div.sk-toggleable__content pre {margin: 0.2em;color: black;border-radius: 0.25em;background-color: #f0f8ff;}#sk-container-id-22 input.sk-toggleable__control:checked~div.sk-toggleable__content {max-height: 200px;max-width: 100%;overflow: auto;}#sk-container-id-22 input.sk-toggleable__control:checked~label.sk-toggleable__label-arrow:before {content: \"▾\";}#sk-container-id-22 div.sk-estimator input.sk-toggleable__control:checked~label.sk-toggleable__label {background-color: #d4ebff;}#sk-container-id-22 div.sk-label input.sk-toggleable__control:checked~label.sk-toggleable__label {background-color: #d4ebff;}#sk-container-id-22 input.sk-hidden--visually {border: 0;clip: rect(1px 1px 1px 1px);clip: rect(1px, 1px, 1px, 1px);height: 1px;margin: -1px;overflow: hidden;padding: 0;position: absolute;width: 1px;}#sk-container-id-22 div.sk-estimator {font-family: monospace;background-color: #f0f8ff;border: 1px dotted black;border-radius: 0.25em;box-sizing: border-box;margin-bottom: 0.5em;}#sk-container-id-22 div.sk-estimator:hover {background-color: #d4ebff;}#sk-container-id-22 div.sk-parallel-item::after {content: \"\";width: 100%;border-bottom: 1px solid gray;flex-grow: 1;}#sk-container-id-22 div.sk-label:hover label.sk-toggleable__label {background-color: #d4ebff;}#sk-container-id-22 div.sk-serial::before {content: \"\";position: absolute;border-left: 1px solid gray;box-sizing: border-box;top: 0;bottom: 0;left: 50%;z-index: 0;}#sk-container-id-22 div.sk-serial {display: flex;flex-direction: column;align-items: center;background-color: white;padding-right: 0.2em;padding-left: 0.2em;position: relative;}#sk-container-id-22 div.sk-item {position: relative;z-index: 1;}#sk-container-id-22 div.sk-parallel {display: flex;align-items: stretch;justify-content: center;background-color: white;position: relative;}#sk-container-id-22 div.sk-item::before, #sk-container-id-22 div.sk-parallel-item::before {content: \"\";position: absolute;border-left: 1px solid gray;box-sizing: border-box;top: 0;bottom: 0;left: 50%;z-index: -1;}#sk-container-id-22 div.sk-parallel-item {display: flex;flex-direction: column;z-index: 1;position: relative;background-color: white;}#sk-container-id-22 div.sk-parallel-item:first-child::after {align-self: flex-end;width: 50%;}#sk-container-id-22 div.sk-parallel-item:last-child::after {align-self: flex-start;width: 50%;}#sk-container-id-22 div.sk-parallel-item:only-child::after {width: 0;}#sk-container-id-22 div.sk-dashed-wrapped {border: 1px dashed gray;margin: 0 0.4em 0.5em 0.4em;box-sizing: border-box;padding-bottom: 0.4em;background-color: white;}#sk-container-id-22 div.sk-label label {font-family: monospace;font-weight: bold;display: inline-block;line-height: 1.2em;}#sk-container-id-22 div.sk-label-container {text-align: center;}#sk-container-id-22 div.sk-container {/* jupyter's `normalize.less` sets `[hidden] { display: none; }` but bootstrap.min.css set `[hidden] { display: none !important; }` so we also need the `!important` here to be able to override the default hidden behavior on the sphinx rendered scikit-learn.org. See: https://github.com/scikit-learn/scikit-learn/issues/21755 */display: inline-block !important;position: relative;}#sk-container-id-22 div.sk-text-repr-fallback {display: none;}</style><div id=\"sk-container-id-22\" class=\"sk-top-container\"><div class=\"sk-text-repr-fallback\"><pre>XGBClassifier(base_score=None, booster=None, callbacks=None,\n",
       "              colsample_bylevel=None, colsample_bynode=None,\n",
       "              colsample_bytree=None, device=None, early_stopping_rounds=None,\n",
       "              enable_categorical=False, eval_metric=None, feature_types=None,\n",
       "              gamma=None, grow_policy=None, importance_type=None,\n",
       "              interaction_constraints=None, learning_rate=0.3, max_bin=None,\n",
       "              max_cat_threshold=None, max_cat_to_onehot=None,\n",
       "              max_delta_step=None, max_depth=5, max_leaves=None,\n",
       "              min_child_weight=None, missing=nan, monotone_constraints=None,\n",
       "              multi_strategy=None, n_estimators=5000, n_jobs=-1,\n",
       "              num_parallel_tree=None, random_state=None, ...)</pre><b>In a Jupyter environment, please rerun this cell to show the HTML representation or trust the notebook. <br />On GitHub, the HTML representation is unable to render, please try loading this page with nbviewer.org.</b></div><div class=\"sk-container\" hidden><div class=\"sk-item\"><div class=\"sk-estimator sk-toggleable\"><input class=\"sk-toggleable__control sk-hidden--visually\" id=\"sk-estimator-id-36\" type=\"checkbox\" checked><label for=\"sk-estimator-id-36\" class=\"sk-toggleable__label sk-toggleable__label-arrow\">XGBClassifier</label><div class=\"sk-toggleable__content\"><pre>XGBClassifier(base_score=None, booster=None, callbacks=None,\n",
       "              colsample_bylevel=None, colsample_bynode=None,\n",
       "              colsample_bytree=None, device=None, early_stopping_rounds=None,\n",
       "              enable_categorical=False, eval_metric=None, feature_types=None,\n",
       "              gamma=None, grow_policy=None, importance_type=None,\n",
       "              interaction_constraints=None, learning_rate=0.3, max_bin=None,\n",
       "              max_cat_threshold=None, max_cat_to_onehot=None,\n",
       "              max_delta_step=None, max_depth=5, max_leaves=None,\n",
       "              min_child_weight=None, missing=nan, monotone_constraints=None,\n",
       "              multi_strategy=None, n_estimators=5000, n_jobs=-1,\n",
       "              num_parallel_tree=None, random_state=None, ...)</pre></div></div></div></div></div>"
      ],
      "text/plain": [
       "XGBClassifier(base_score=None, booster=None, callbacks=None,\n",
       "              colsample_bylevel=None, colsample_bynode=None,\n",
       "              colsample_bytree=None, device=None, early_stopping_rounds=None,\n",
       "              enable_categorical=False, eval_metric=None, feature_types=None,\n",
       "              gamma=None, grow_policy=None, importance_type=None,\n",
       "              interaction_constraints=None, learning_rate=0.3, max_bin=None,\n",
       "              max_cat_threshold=None, max_cat_to_onehot=None,\n",
       "              max_delta_step=None, max_depth=5, max_leaves=None,\n",
       "              min_child_weight=None, missing=nan, monotone_constraints=None,\n",
       "              multi_strategy=None, n_estimators=5000, n_jobs=-1,\n",
       "              num_parallel_tree=None, random_state=None, ...)"
      ]
     },
     "execution_count": 382,
     "metadata": {},
     "output_type": "execute_result"
    }
   ],
   "source": [
    "import xgboost as xgb  # import Xgboost\n",
    "\n",
    "# Create an XGBoost Classifier with specified hyperparameters\n",
    "Xgb_clf = xgb.XGBClassifier(max_depth=5, n_estimators=5000, learning_rate=0.3, n_jobs=-1)\n",
    "\n",
    "# Fit the XGBoost model with x_train_scaler and y_train for int data type\n",
    "Xgb_clf.fit(x_train_scaler, y_train)"
   ]
  },
  {
   "cell_type": "code",
   "execution_count": 383,
   "id": "119bd504",
   "metadata": {},
   "outputs": [
    {
     "name": "stdout",
     "output_type": "stream",
     "text": [
      "\u001b[1m Xgb_y_train_pred \u001b[0m \n",
      " [1 0 0 ... 1 0 0] \n",
      "\n",
      "\u001b[1m Xgb_y_test_pred \u001b[0m \n",
      " [0 0 0 0 0 0 0 0 0 0 1 0 0 0 0 0 0 0 0 0 0 0 0 0 0 0 0 0 0 0 0 1 0 0 0 1 1\n",
      " 0 1 0 0 0 0 0 0 0 0 0 0 0 0 0 0 0 0 0 0 0 1 0 1 0 0 0 0 0 0 0 0 0 0 0 0 0\n",
      " 0 0 0 0 0 0 0 0 0 0 0 0 0 1 1 0 0 0 1 0 0 0 0 0 0 0 0 0 0 0 0 0 1 0 0 1 0\n",
      " 1 1 0 1 0 0 0 0 0 0 0 1 0 0 1 0 1 0 0 0 0 0 1 0 0 0 0 0 0 0 1 0 1 0 0 0 0\n",
      " 0 0 0 0 1 0 0 0 1 0 0 0 0 1 0 0 0 1 0 0 0 0 0 0 0 0 0 0 0 0 0 0 0 1 1 1 0\n",
      " 1 0 0 0 1 0 0 0 0 0 0 0 0 1 1 0 0 0 1 1 0 1 0 0 0 0 0 0 0 0 0 0 0 0 1 0 0\n",
      " 0 0 0 0 0 0 0 0 1 0 0 0 0 0 0 0 0 1 0 1 0 1 0 0 1 0 0 0 0 1 1 1 0 0 0 0 0\n",
      " 0 0 0 0 0 0 0 0 0 0 0 0 0 0 0 0 1 0 1 0 0 0 0 0 0 0 0 0 0 1 0 0 0 0 0 0 1\n",
      " 0 0 0 0 0 0 0 0 0 1 0 0 0 0 0 0 0 0 0 0 1 0 0 0 0 1 0 0 0 1 0 1 0 0 0 0 0\n",
      " 0 0 0 1 1 0 0 0 1 0 0 1 0 1 0 0 0 0 0 0 0 0 0 0 0 0 0 0 1 1 0 0 1 0 0 0 0\n",
      " 0 0 0 0 0 0 0 0 0 0 0 0 1 0 1 0 0 0 0 1 0 1 0 0 1 1 0 0 0 0 0 0 0 1 1 1 0\n",
      " 1 1 0 1 0 0 0 1 0 0 0 0 1 0 1 1 0 0 1 1 0 1 0 0 0 0 0 0 0 1 0 0 0 0 0 0 0\n",
      " 0 1 1 0 1 0 0 0 0 0 1 1 0 0 0 0 0 0 0 0 0 0 0 0 1 0 0 0 0 0 0 0 0 0 0 0 1\n",
      " 0 0 1 0 0 0 0 0 0 0 1 0 0 0 0 0 0 0 0 0 0 0 0 1 0 0 0 0 0 0 0 1 1 1 0 0 0\n",
      " 0 0 0 0 0 0 0 1 0 0 1 1 0 0 0 0 0 0 0 0 0 0 1 0 0 1 0 0 0 0 0 1 0 0 0 0 1\n",
      " 0 0 0 0 0 0 0 0 0 0 0 0 0 1 0 0 0 0 0 0 0 0 0 0 1 1 1 1 0 0 0 0 1 0 0 0 0\n",
      " 0 0 0 0 0 1 0 0 0 0 0 0 0 0 1 0 0 1 0 0 0 0 0 0 1 0 0 0 0 1 0 0 0 0 0 0 0\n",
      " 0 0 0 0 1 0 1 0 0 0 1 1 0 0 0 0 0 0 1 1 0 0 0 1 0 1 0 0 0 0 0 1 0 0 1 0 0\n",
      " 0 0] \n",
      "\n"
     ]
    }
   ],
   "source": [
    "# Predict the target variable for the train and test dataset using the trained XG boosting model\n",
    "Xgb_y_train_pred = Xgb_clf.predict(x_train_scaler)\n",
    "Xgb_y_test_pred = Xgb_clf.predict(x_test_scaler)\n",
    "\n",
    "# Print the predicted values for the train and test dataset\n",
    "print((\"\\033[1m Xgb_y_train_pred \\033[0m\"), \"\\n\", Xgb_y_train_pred, \"\\n\")\n",
    "print((\"\\033[1m Xgb_y_test_pred \\033[0m\"), \"\\n\", Xgb_y_test_pred, \"\\n\")"
   ]
  },
  {
   "cell_type": "markdown",
   "id": "dfe4b8c6",
   "metadata": {},
   "source": [
    "##### 3.10.2 Performance evaluation for Xgb boosting\n",
    "##### 3.10.2.1 Calculation of MSE for train and test dataset "
   ]
  },
  {
   "cell_type": "code",
   "execution_count": 384,
   "id": "d18bfc27",
   "metadata": {},
   "outputs": [
    {
     "name": "stdout",
     "output_type": "stream",
     "text": [
      "0.0\n"
     ]
    }
   ],
   "source": [
    "# Calculate mean squared error for training dataset of xgb boosting\n",
    "Xgb_train_mse = mean_squared_error(y_train, Xgb_y_train_pred)\n",
    "\n",
    "# Print \"MSE\" of train dataset for xgb boosting\n",
    "print(Xgb_train_mse) "
   ]
  },
  {
   "cell_type": "code",
   "execution_count": 385,
   "id": "ebc2b90c",
   "metadata": {},
   "outputs": [
    {
     "name": "stdout",
     "output_type": "stream",
     "text": [
      "0.16167664670658682\n"
     ]
    }
   ],
   "source": [
    "# Calculate mean squared error for testing dataset of xgb boosting\n",
    "Xgb_test_mse = mean_squared_error(y_test, Xgb_y_test_pred)\n",
    "\n",
    "# Print \"MSE\" of test dataset for xgb boosting\n",
    "print(Xgb_test_mse) "
   ]
  },
  {
   "cell_type": "markdown",
   "id": "5ab80abc",
   "metadata": {},
   "source": [
    "##### 3.10.2.2 Calculation of MAE for train and test dataset "
   ]
  },
  {
   "cell_type": "code",
   "execution_count": 386,
   "id": "817ca745",
   "metadata": {},
   "outputs": [
    {
     "name": "stdout",
     "output_type": "stream",
     "text": [
      "0.0\n"
     ]
    }
   ],
   "source": [
    "# Calculate mean absolute error for training dataset of XGb boosting\n",
    "Xgb_train_mae = mean_absolute_error(y_train, Xgb_y_train_pred)\n",
    "\n",
    "# Print \"MAE\" of train dataset for Xgb boosting\n",
    "print(Xgb_train_mae)"
   ]
  },
  {
   "cell_type": "code",
   "execution_count": 387,
   "id": "47fabe0c",
   "metadata": {},
   "outputs": [
    {
     "name": "stdout",
     "output_type": "stream",
     "text": [
      "0.16167664670658682\n"
     ]
    }
   ],
   "source": [
    "# Calculate mean absolute error for testing dataset of XGb boosting\n",
    "Xgb_test_mae = mean_absolute_error(y_test, Xgb_y_test_pred)\n",
    "\n",
    "# Print \"MAE\" of test dataset for Xgb boosting\n",
    "print(Xgb_test_mae)"
   ]
  },
  {
   "cell_type": "markdown",
   "id": "3da57a53",
   "metadata": {},
   "source": [
    "##### 3.10.2.3 Calculation of confusion matrix for train and test dataset "
   ]
  },
  {
   "cell_type": "code",
   "execution_count": 388,
   "id": "a3c9c72b",
   "metadata": {},
   "outputs": [
    {
     "name": "stdout",
     "output_type": "stream",
     "text": [
      "[[1962    0]\n",
      " [   0  707]]\n"
     ]
    }
   ],
   "source": [
    "# Confusion matrix calculation for train dataset of Xgb boosting\n",
    "Xgb_train_conf_mat = confusion_matrix(y_train, Xgb_y_train_pred)\n",
    "\n",
    "# Print confusion matrix of train dataset of Xgb boosting\n",
    "print(Xgb_train_conf_mat)"
   ]
  },
  {
   "cell_type": "code",
   "execution_count": 389,
   "id": "a374cfd1",
   "metadata": {},
   "outputs": [
    {
     "name": "stdout",
     "output_type": "stream",
     "text": [
      "[[474  36]\n",
      " [ 72  86]]\n"
     ]
    }
   ],
   "source": [
    "# Confusion matrix calculation for test dataset of Xgb boosting\n",
    "Xgb_test_conf_mat = confusion_matrix(y_test, Xgb_y_test_pred)\n",
    "\n",
    "# Print confusion matrix of test dataset of Xgb boosting\n",
    "print(Xgb_test_conf_mat)"
   ]
  },
  {
   "cell_type": "markdown",
   "id": "5d07ca40",
   "metadata": {},
   "source": [
    "##### 3.10.2.4 Calculation of accuracy score for train and test dataset "
   ]
  },
  {
   "cell_type": "code",
   "execution_count": 390,
   "id": "cadaea4f",
   "metadata": {},
   "outputs": [
    {
     "name": "stdout",
     "output_type": "stream",
     "text": [
      "1.0\n"
     ]
    }
   ],
   "source": [
    "# accuracy score calculation for the train dataset's for actual values (y_train) and predicted values (XGb_y_train_pred)\n",
    "Xgb_train_acc_score = accuracy_score(y_train, Xgb_y_train_pred)\n",
    "\n",
    "# Print accuracy score of train dataset for XGb boosting\n",
    "print(Xgb_train_acc_score)"
   ]
  },
  {
   "cell_type": "code",
   "execution_count": 391,
   "id": "9bac8df5",
   "metadata": {},
   "outputs": [
    {
     "name": "stdout",
     "output_type": "stream",
     "text": [
      "0.8383233532934131\n"
     ]
    }
   ],
   "source": [
    "# accuracy score calculation for the test dataset's for actual values (y_test) and predicted values (XGb_y_test_pred)\n",
    "Xgb_test_acc_score = accuracy_score(y_test, Xgb_y_test_pred)\n",
    "\n",
    "# Print accuracy score of test dataset for XGb boosting\n",
    "print(Xgb_test_acc_score)"
   ]
  },
  {
   "cell_type": "markdown",
   "id": "c68a2191",
   "metadata": {},
   "source": [
    "##### 3.10.2.5 Checking for overfitting and underfitting "
   ]
  },
  {
   "cell_type": "code",
   "execution_count": 392,
   "id": "08f820fa",
   "metadata": {},
   "outputs": [
    {
     "name": "stdout",
     "output_type": "stream",
     "text": [
      "The 'Xgb boosting' trained model is overfitting.\n"
     ]
    }
   ],
   "source": [
    "# Check for overfitting\n",
    "if Xgb_train_acc_score > Xgb_test_acc_score + 0.15:  # Example threshold for overfitting\n",
    "    print(\"The 'Xgb boosting' trained model is overfitting.\")\n",
    "elif Xgb_train_acc_score < Xgb_test_acc_score - 0.15:  # Example threshold for underfitting\n",
    "    print(\"The 'Xgb boosting' trained model is underfitting.\")\n",
    "else:\n",
    "    print(\"The 'Xgb boosting' trained model is Well-fitted.\")"
   ]
  },
  {
   "cell_type": "code",
   "execution_count": 393,
   "id": "6f8a1171",
   "metadata": {},
   "outputs": [
    {
     "data": {
      "image/png": "[encoded data removed]",
      "text/plain": [
       "<Figure size 640x480 with 1 Axes>"
      ]
     },
     "metadata": {},
     "output_type": "display_data"
    }
   ],
   "source": [
    "# Import matplot from matplotlib.pyplot\n",
    "import matplotlib.pyplot as plt\n",
    "\n",
    "# Plot feature importance\n",
    "xgb.plot_importance(Xgb_clf)\n",
    "plt.show()"
   ]
  },
  {
   "cell_type": "markdown",
   "id": "add72430",
   "metadata": {},
   "source": [
    "### 3.11 Grid Search technique for Xgb Boosting\n",
    "#### https://scikit-learn.org/stable/modules/generated/sklearn.model_selection.GridSearchCV.html\n",
    "##### 3.11.1 Performing  Grid Search technique for Xgb Boosting by using sklearn model on \"y_train\" and \"x_train\" varaibles "
   ]
  },
  {
   "cell_type": "code",
   "execution_count": 394,
   "id": "fb9777a4",
   "metadata": {},
   "outputs": [],
   "source": [
    "# Define a dictionary to hold the hyperparameters and their respective ranges/values for testing\n",
    "param_test = {\n",
    "    \"max_depth\": range(3, 11, 2),      # The range of maximum tree depth to consider (3, 11, 2)\n",
    "    \"gamma\": [0.1, 0.2, 0.3],          # The list of gamma values to test (used to control regularization)\n",
    "    \"subsample\": [0.8, 0.9],           # The list of subsample ratios to test \n",
    "    \"colsample_bytree\": [0.8, 0.9],    # The list of column sample ratios to test\n",
    "    \"reg_alpha\": [1e-2, 0.1, 1]}       # The list of L1 regularization terms on weights to test (to control overfitting)"
   ]
  },
  {
   "cell_type": "markdown",
   "id": "2cff2794",
   "metadata": {},
   "source": [
    "##### Grid search for Xgb boosting is taking little time for execution"
   ]
  },
  {
   "cell_type": "code",
   "execution_count": 395,
   "id": "1c903a9b",
   "metadata": {},
   "outputs": [
    {
     "data": {
      "text/html": [
       "<style>#sk-container-id-23 {color: black;background-color: white;}#sk-container-id-23 pre{padding: 0;}#sk-container-id-23 div.sk-toggleable {background-color: white;}#sk-container-id-23 label.sk-toggleable__label {cursor: pointer;display: block;width: 100%;margin-bottom: 0;padding: 0.3em;box-sizing: border-box;text-align: center;}#sk-container-id-23 label.sk-toggleable__label-arrow:before {content: \"▸\";float: left;margin-right: 0.25em;color: #696969;}#sk-container-id-23 label.sk-toggleable__label-arrow:hover:before {color: black;}#sk-container-id-23 div.sk-estimator:hover label.sk-toggleable__label-arrow:before {color: black;}#sk-container-id-23 div.sk-toggleable__content {max-height: 0;max-width: 0;overflow: hidden;text-align: left;background-color: #f0f8ff;}#sk-container-id-23 div.sk-toggleable__content pre {margin: 0.2em;color: black;border-radius: 0.25em;background-color: #f0f8ff;}#sk-container-id-23 input.sk-toggleable__control:checked~div.sk-toggleable__content {max-height: 200px;max-width: 100%;overflow: auto;}#sk-container-id-23 input.sk-toggleable__control:checked~label.sk-toggleable__label-arrow:before {content: \"▾\";}#sk-container-id-23 div.sk-estimator input.sk-toggleable__control:checked~label.sk-toggleable__label {background-color: #d4ebff;}#sk-container-id-23 div.sk-label input.sk-toggleable__control:checked~label.sk-toggleable__label {background-color: #d4ebff;}#sk-container-id-23 input.sk-hidden--visually {border: 0;clip: rect(1px 1px 1px 1px);clip: rect(1px, 1px, 1px, 1px);height: 1px;margin: -1px;overflow: hidden;padding: 0;position: absolute;width: 1px;}#sk-container-id-23 div.sk-estimator {font-family: monospace;background-color: #f0f8ff;border: 1px dotted black;border-radius: 0.25em;box-sizing: border-box;margin-bottom: 0.5em;}#sk-container-id-23 div.sk-estimator:hover {background-color: #d4ebff;}#sk-container-id-23 div.sk-parallel-item::after {content: \"\";width: 100%;border-bottom: 1px solid gray;flex-grow: 1;}#sk-container-id-23 div.sk-label:hover label.sk-toggleable__label {background-color: #d4ebff;}#sk-container-id-23 div.sk-serial::before {content: \"\";position: absolute;border-left: 1px solid gray;box-sizing: border-box;top: 0;bottom: 0;left: 50%;z-index: 0;}#sk-container-id-23 div.sk-serial {display: flex;flex-direction: column;align-items: center;background-color: white;padding-right: 0.2em;padding-left: 0.2em;position: relative;}#sk-container-id-23 div.sk-item {position: relative;z-index: 1;}#sk-container-id-23 div.sk-parallel {display: flex;align-items: stretch;justify-content: center;background-color: white;position: relative;}#sk-container-id-23 div.sk-item::before, #sk-container-id-23 div.sk-parallel-item::before {content: \"\";position: absolute;border-left: 1px solid gray;box-sizing: border-box;top: 0;bottom: 0;left: 50%;z-index: -1;}#sk-container-id-23 div.sk-parallel-item {display: flex;flex-direction: column;z-index: 1;position: relative;background-color: white;}#sk-container-id-23 div.sk-parallel-item:first-child::after {align-self: flex-end;width: 50%;}#sk-container-id-23 div.sk-parallel-item:last-child::after {align-self: flex-start;width: 50%;}#sk-container-id-23 div.sk-parallel-item:only-child::after {width: 0;}#sk-container-id-23 div.sk-dashed-wrapped {border: 1px dashed gray;margin: 0 0.4em 0.5em 0.4em;box-sizing: border-box;padding-bottom: 0.4em;background-color: white;}#sk-container-id-23 div.sk-label label {font-family: monospace;font-weight: bold;display: inline-block;line-height: 1.2em;}#sk-container-id-23 div.sk-label-container {text-align: center;}#sk-container-id-23 div.sk-container {/* jupyter's `normalize.less` sets `[hidden] { display: none; }` but bootstrap.min.css set `[hidden] { display: none !important; }` so we also need the `!important` here to be able to override the default hidden behavior on the sphinx rendered scikit-learn.org. See: https://github.com/scikit-learn/scikit-learn/issues/21755 */display: inline-block !important;position: relative;}#sk-container-id-23 div.sk-text-repr-fallback {display: none;}</style><div id=\"sk-container-id-23\" class=\"sk-top-container\"><div class=\"sk-text-repr-fallback\"><pre>GridSearchCV(cv=3,\n",
       "             estimator=XGBClassifier(base_score=None, booster=None,\n",
       "                                     callbacks=None, colsample_bylevel=None,\n",
       "                                     colsample_bynode=None,\n",
       "                                     colsample_bytree=None, device=None,\n",
       "                                     early_stopping_rounds=None,\n",
       "                                     enable_categorical=False, eval_metric=None,\n",
       "                                     feature_types=None, gamma=None,\n",
       "                                     grow_policy=None, importance_type=None,\n",
       "                                     interaction_constraints=None,\n",
       "                                     learning_rate=0.3, m...\n",
       "                                     max_delta_step=None, max_depth=5,\n",
       "                                     max_leaves=None, min_child_weight=None,\n",
       "                                     missing=nan, monotone_constraints=None,\n",
       "                                     multi_strategy=None, n_estimators=5000,\n",
       "                                     n_jobs=-1, num_parallel_tree=None,\n",
       "                                     random_state=None, ...),\n",
       "             n_jobs=-1,\n",
       "             param_grid={&#x27;colsample_bytree&#x27;: [0.8, 0.9],\n",
       "                         &#x27;gamma&#x27;: [0.1, 0.2, 0.3], &#x27;max_depth&#x27;: range(3, 11, 2),\n",
       "                         &#x27;reg_alpha&#x27;: [0.01, 0.1, 1], &#x27;subsample&#x27;: [0.8, 0.9]},\n",
       "             scoring=&#x27;accuracy&#x27;)</pre><b>In a Jupyter environment, please rerun this cell to show the HTML representation or trust the notebook. <br />On GitHub, the HTML representation is unable to render, please try loading this page with nbviewer.org.</b></div><div class=\"sk-container\" hidden><div class=\"sk-item sk-dashed-wrapped\"><div class=\"sk-label-container\"><div class=\"sk-label sk-toggleable\"><input class=\"sk-toggleable__control sk-hidden--visually\" id=\"sk-estimator-id-37\" type=\"checkbox\" ><label for=\"sk-estimator-id-37\" class=\"sk-toggleable__label sk-toggleable__label-arrow\">GridSearchCV</label><div class=\"sk-toggleable__content\"><pre>GridSearchCV(cv=3,\n",
       "             estimator=XGBClassifier(base_score=None, booster=None,\n",
       "                                     callbacks=None, colsample_bylevel=None,\n",
       "                                     colsample_bynode=None,\n",
       "                                     colsample_bytree=None, device=None,\n",
       "                                     early_stopping_rounds=None,\n",
       "                                     enable_categorical=False, eval_metric=None,\n",
       "                                     feature_types=None, gamma=None,\n",
       "                                     grow_policy=None, importance_type=None,\n",
       "                                     interaction_constraints=None,\n",
       "                                     learning_rate=0.3, m...\n",
       "                                     max_delta_step=None, max_depth=5,\n",
       "                                     max_leaves=None, min_child_weight=None,\n",
       "                                     missing=nan, monotone_constraints=None,\n",
       "                                     multi_strategy=None, n_estimators=5000,\n",
       "                                     n_jobs=-1, num_parallel_tree=None,\n",
       "                                     random_state=None, ...),\n",
       "             n_jobs=-1,\n",
       "             param_grid={&#x27;colsample_bytree&#x27;: [0.8, 0.9],\n",
       "                         &#x27;gamma&#x27;: [0.1, 0.2, 0.3], &#x27;max_depth&#x27;: range(3, 11, 2),\n",
       "                         &#x27;reg_alpha&#x27;: [0.01, 0.1, 1], &#x27;subsample&#x27;: [0.8, 0.9]},\n",
       "             scoring=&#x27;accuracy&#x27;)</pre></div></div></div><div class=\"sk-parallel\"><div class=\"sk-parallel-item\"><div class=\"sk-item\"><div class=\"sk-label-container\"><div class=\"sk-label sk-toggleable\"><input class=\"sk-toggleable__control sk-hidden--visually\" id=\"sk-estimator-id-38\" type=\"checkbox\" ><label for=\"sk-estimator-id-38\" class=\"sk-toggleable__label sk-toggleable__label-arrow\">estimator: XGBClassifier</label><div class=\"sk-toggleable__content\"><pre>XGBClassifier(base_score=None, booster=None, callbacks=None,\n",
       "              colsample_bylevel=None, colsample_bynode=None,\n",
       "              colsample_bytree=None, device=None, early_stopping_rounds=None,\n",
       "              enable_categorical=False, eval_metric=None, feature_types=None,\n",
       "              gamma=None, grow_policy=None, importance_type=None,\n",
       "              interaction_constraints=None, learning_rate=0.3, max_bin=None,\n",
       "              max_cat_threshold=None, max_cat_to_onehot=None,\n",
       "              max_delta_step=None, max_depth=5, max_leaves=None,\n",
       "              min_child_weight=None, missing=nan, monotone_constraints=None,\n",
       "              multi_strategy=None, n_estimators=5000, n_jobs=-1,\n",
       "              num_parallel_tree=None, random_state=None, ...)</pre></div></div></div><div class=\"sk-serial\"><div class=\"sk-item\"><div class=\"sk-estimator sk-toggleable\"><input class=\"sk-toggleable__control sk-hidden--visually\" id=\"sk-estimator-id-39\" type=\"checkbox\" ><label for=\"sk-estimator-id-39\" class=\"sk-toggleable__label sk-toggleable__label-arrow\">XGBClassifier</label><div class=\"sk-toggleable__content\"><pre>XGBClassifier(base_score=None, booster=None, callbacks=None,\n",
       "              colsample_bylevel=None, colsample_bynode=None,\n",
       "              colsample_bytree=None, device=None, early_stopping_rounds=None,\n",
       "              enable_categorical=False, eval_metric=None, feature_types=None,\n",
       "              gamma=None, grow_policy=None, importance_type=None,\n",
       "              interaction_constraints=None, learning_rate=0.3, max_bin=None,\n",
       "              max_cat_threshold=None, max_cat_to_onehot=None,\n",
       "              max_delta_step=None, max_depth=5, max_leaves=None,\n",
       "              min_child_weight=None, missing=nan, monotone_constraints=None,\n",
       "              multi_strategy=None, n_estimators=5000, n_jobs=-1,\n",
       "              num_parallel_tree=None, random_state=None, ...)</pre></div></div></div></div></div></div></div></div></div></div>"
      ],
      "text/plain": [
       "GridSearchCV(cv=3,\n",
       "             estimator=XGBClassifier(base_score=None, booster=None,\n",
       "                                     callbacks=None, colsample_bylevel=None,\n",
       "                                     colsample_bynode=None,\n",
       "                                     colsample_bytree=None, device=None,\n",
       "                                     early_stopping_rounds=None,\n",
       "                                     enable_categorical=False, eval_metric=None,\n",
       "                                     feature_types=None, gamma=None,\n",
       "                                     grow_policy=None, importance_type=None,\n",
       "                                     interaction_constraints=None,\n",
       "                                     learning_rate=0.3, m...\n",
       "                                     max_delta_step=None, max_depth=5,\n",
       "                                     max_leaves=None, min_child_weight=None,\n",
       "                                     missing=nan, monotone_constraints=None,\n",
       "                                     multi_strategy=None, n_estimators=5000,\n",
       "                                     n_jobs=-1, num_parallel_tree=None,\n",
       "                                     random_state=None, ...),\n",
       "             n_jobs=-1,\n",
       "             param_grid={'colsample_bytree': [0.8, 0.9],\n",
       "                         'gamma': [0.1, 0.2, 0.3], 'max_depth': range(3, 11, 2),\n",
       "                         'reg_alpha': [0.01, 0.1, 1], 'subsample': [0.8, 0.9]},\n",
       "             scoring='accuracy')"
      ]
     },
     "execution_count": 395,
     "metadata": {},
     "output_type": "execute_result"
    }
   ],
   "source": [
    "# Perform Grid Search with Cross-Validation using the specified parameter grid fro Xgb boosting\n",
    "Xgb_grid_search = GridSearchCV(Xgb_clf, param_test, n_jobs=-1, cv=3, scoring=\"accuracy\")\n",
    "\n",
    "# Fit the Grid Search model to the training data for Xgb boosting\n",
    "Xgb_grid_search.fit(x_train_scaler, y_train)"
   ]
  },
  {
   "cell_type": "code",
   "execution_count": 396,
   "id": "07230b03",
   "metadata": {},
   "outputs": [
    {
     "name": "stdout",
     "output_type": "stream",
     "text": [
      "Best parameters found for XGb Boosting:  {'colsample_bytree': 0.8, 'gamma': 0.3, 'max_depth': 9, 'reg_alpha': 1, 'subsample': 0.9}\n"
     ]
    }
   ],
   "source": [
    "# calculate the parameters found in grid search for Xgb boosting\n",
    "Xgb_best_param = Xgb_grid_search.best_params_\n",
    "\n",
    "# Print the best parameters\n",
    "print(\"Best parameters found for XGb Boosting: \", Xgb_best_param)"
   ]
  },
  {
   "cell_type": "code",
   "execution_count": 397,
   "id": "7e6d909d",
   "metadata": {},
   "outputs": [
    {
     "name": "stdout",
     "output_type": "stream",
     "text": [
      "\u001b[1m GS_Xgb_y_train_pred \u001b[0m \n",
      " [1 0 0 ... 1 0 0] \n",
      "\n",
      "\u001b[1m GS_Xgb_y_test_pred \u001b[0m \n",
      " [0 0 0 0 0 0 0 0 0 0 1 0 0 0 0 0 0 0 0 0 0 0 0 0 0 0 0 0 0 0 0 1 0 0 0 1 1\n",
      " 0 1 0 0 0 0 0 0 0 0 0 0 0 0 0 1 0 0 0 0 0 1 0 1 0 0 0 0 0 0 0 0 0 0 0 0 0\n",
      " 0 0 0 0 0 0 0 0 0 1 0 0 0 1 1 0 0 0 1 0 0 0 0 0 0 0 0 0 0 0 0 0 1 0 0 1 0\n",
      " 1 1 0 1 0 0 0 0 0 0 0 1 0 0 1 0 1 0 0 0 0 0 1 0 0 0 0 0 0 0 0 0 1 0 0 0 0\n",
      " 0 0 0 0 1 0 0 0 1 0 0 0 0 1 0 0 0 1 0 0 0 0 0 0 0 0 0 0 0 0 0 0 0 1 1 0 0\n",
      " 0 0 0 0 1 0 0 0 1 0 0 0 0 1 0 0 0 0 1 1 0 1 0 0 0 0 0 0 0 0 0 0 0 0 1 0 0\n",
      " 0 0 0 0 0 0 0 0 1 0 0 0 0 0 0 0 0 1 0 0 0 0 0 0 1 0 1 0 0 1 1 0 0 0 0 0 0\n",
      " 0 0 0 0 0 0 0 0 0 0 0 0 0 0 0 0 1 0 1 0 0 0 0 1 0 0 0 0 0 1 0 0 0 0 0 0 1\n",
      " 0 0 0 1 0 0 0 0 0 1 0 0 0 0 0 0 0 0 0 0 1 0 0 0 0 1 0 0 0 0 0 1 1 0 0 0 0\n",
      " 0 0 0 1 1 0 1 0 0 0 0 0 0 0 0 0 0 0 0 0 0 0 0 0 0 0 0 0 1 1 0 0 1 0 0 0 0\n",
      " 0 0 0 0 0 0 0 0 0 0 0 0 1 0 1 0 0 0 0 1 0 1 0 0 1 1 0 0 0 0 0 1 0 1 1 1 0\n",
      " 1 1 0 1 0 0 0 1 0 0 0 0 0 0 0 1 0 0 0 1 0 1 0 0 0 0 0 0 0 1 0 0 0 0 0 0 0\n",
      " 0 1 1 0 1 0 0 0 0 0 0 1 0 0 0 0 0 0 0 0 0 0 0 0 0 0 0 0 0 0 0 0 0 0 0 0 1\n",
      " 0 0 1 0 0 0 0 0 0 0 1 0 0 0 0 0 0 0 0 0 0 0 0 1 0 0 0 0 0 0 0 0 1 0 0 0 0\n",
      " 0 0 0 0 0 0 0 1 0 0 1 1 0 0 0 0 0 0 1 0 1 0 0 0 0 1 0 0 0 0 0 1 0 0 0 0 1\n",
      " 0 0 0 1 0 0 0 0 0 0 0 0 0 1 0 0 0 0 0 0 0 0 1 0 0 1 1 1 0 0 0 0 1 0 0 0 1\n",
      " 0 0 0 0 0 0 0 0 0 0 0 0 0 0 1 0 0 1 0 0 0 0 0 0 1 0 0 0 0 1 0 0 0 0 0 0 0\n",
      " 0 0 0 0 1 0 1 0 0 0 1 0 0 0 0 0 0 0 1 1 0 0 0 1 0 1 0 0 0 0 0 1 0 0 1 0 0\n",
      " 0 0] \n",
      "\n"
     ]
    }
   ],
   "source": [
    "# Predict the target variable for the train and test dataset using the grid search for Xgb boosting model\n",
    "GS_Xgb_y_train_pred = Xgb_grid_search.predict(x_train_scaler)\n",
    "GS_Xgb_y_test_pred = Xgb_grid_search.predict(x_test_scaler)\n",
    "\n",
    "# Print the predicted values for the train and test dataset\n",
    "print((\"\\033[1m GS_Xgb_y_train_pred \\033[0m\"), \"\\n\", GS_Xgb_y_train_pred, \"\\n\")\n",
    "print((\"\\033[1m GS_Xgb_y_test_pred \\033[0m\"), \"\\n\", GS_Xgb_y_test_pred, \"\\n\")"
   ]
  },
  {
   "cell_type": "markdown",
   "id": "9fcaff2f",
   "metadata": {},
   "source": [
    "##### 3.11.2 Performance evaluation for grid search technique for Xgb boosting\n",
    "##### 3.11.2.1 Calculation of MSE for train and test dataset "
   ]
  },
  {
   "cell_type": "code",
   "execution_count": 398,
   "id": "a412d617",
   "metadata": {},
   "outputs": [
    {
     "name": "stdout",
     "output_type": "stream",
     "text": [
      "0.0014986886474334957\n"
     ]
    }
   ],
   "source": [
    "# Calculate mean squared error for training dataset of grid search for Xgb boosting\n",
    "GS_Xgb_train_mse = mean_squared_error(y_train, GS_Xgb_y_train_pred)\n",
    "\n",
    "# Print \"MSE\" of train dataset of grid search for Xgb boosting\n",
    "print(GS_Xgb_train_mse) "
   ]
  },
  {
   "cell_type": "code",
   "execution_count": 399,
   "id": "310ae6ba",
   "metadata": {},
   "outputs": [
    {
     "name": "stdout",
     "output_type": "stream",
     "text": [
      "0.16766467065868262\n"
     ]
    }
   ],
   "source": [
    "# Calculate mean squared error for testing dataset of grid search for Xgb boosting\n",
    "GS_Xgb_test_mse = mean_squared_error(y_test, GS_Xgb_y_test_pred)\n",
    "\n",
    "# Print \"MSE\" of test dataset of grid search for Xgb boosting\n",
    "print(GS_Xgb_test_mse)"
   ]
  },
  {
   "cell_type": "markdown",
   "id": "e2140e9c",
   "metadata": {},
   "source": [
    "##### 3.11.2.2 Calculation of MAE for train and test dataset "
   ]
  },
  {
   "cell_type": "code",
   "execution_count": 400,
   "id": "887d6071",
   "metadata": {},
   "outputs": [
    {
     "name": "stdout",
     "output_type": "stream",
     "text": [
      "0.0014986886474334957\n"
     ]
    }
   ],
   "source": [
    "# Calculate mean absolute error for training dataset of grid search for Xgb boosting\n",
    "GS_Xgb_train_mae = mean_absolute_error(y_train, GS_Xgb_y_train_pred)\n",
    "\n",
    "# Print \"MAE\" of train dataset of grid search for Xgb boosting\n",
    "print(GS_Xgb_train_mae)"
   ]
  },
  {
   "cell_type": "code",
   "execution_count": 401,
   "id": "1a38efa4",
   "metadata": {},
   "outputs": [
    {
     "name": "stdout",
     "output_type": "stream",
     "text": [
      "0.16766467065868262\n"
     ]
    }
   ],
   "source": [
    "# Calculate mean absolute error for testing dataset of grid search for Xgb boosting\n",
    "GS_Xgb_test_mae = mean_absolute_error(y_test, GS_Xgb_y_test_pred)\n",
    "\n",
    "# Print \"MAE\" of test dataset of grid search for Xgb boosting\n",
    "print(GS_Xgb_test_mae)"
   ]
  },
  {
   "cell_type": "markdown",
   "id": "65c5588e",
   "metadata": {},
   "source": [
    "##### 3.11.2.3 Calculation of confusion matrix for train and test dataset "
   ]
  },
  {
   "cell_type": "code",
   "execution_count": 402,
   "id": "a1e323f4",
   "metadata": {},
   "outputs": [
    {
     "name": "stdout",
     "output_type": "stream",
     "text": [
      "[[1961    1]\n",
      " [   3  704]]\n"
     ]
    }
   ],
   "source": [
    "# Confusion matrix calculation for train dataset of grid search for Xgb boosting\n",
    "GS_Xgb_train_conf_mat = confusion_matrix(y_train, GS_Xgb_y_train_pred)\n",
    "\n",
    "# Print confusion matrix of train dataset of grid search for Xgb boosting\n",
    "print(GS_Xgb_train_conf_mat)"
   ]
  },
  {
   "cell_type": "code",
   "execution_count": 403,
   "id": "25162489",
   "metadata": {},
   "outputs": [
    {
     "name": "stdout",
     "output_type": "stream",
     "text": [
      "[[476  34]\n",
      " [ 78  80]]\n"
     ]
    }
   ],
   "source": [
    "# Confusion matrix calculation for test dataset of grid search for Xgb boosting\n",
    "GS_Xgb_test_conf_mat = confusion_matrix(y_test, GS_Xgb_y_test_pred)\n",
    "\n",
    "# Print confusion matrix of test dataset of grid search for Xgb boosting\n",
    "print(GS_Xgb_test_conf_mat)"
   ]
  },
  {
   "cell_type": "markdown",
   "id": "3ec1bdea",
   "metadata": {},
   "source": [
    "##### 3.11.2.4 Calculation of accuracy score for train and test dataset "
   ]
  },
  {
   "cell_type": "code",
   "execution_count": 404,
   "id": "49dd5eb8",
   "metadata": {},
   "outputs": [
    {
     "name": "stdout",
     "output_type": "stream",
     "text": [
      "0.9985013113525665\n"
     ]
    }
   ],
   "source": [
    "# accuracy score calculation for the train dataset's for actual values (y_train) and predicted values (GS_Xgb_y_train_pred)\n",
    "GS_Xgb_train_acc_score = accuracy_score(y_train, GS_Xgb_y_train_pred)\n",
    "\n",
    "# Print accuracy score of train dataset of grid search for Xgb boosting\n",
    "print(GS_Xgb_train_acc_score)"
   ]
  },
  {
   "cell_type": "code",
   "execution_count": 405,
   "id": "eb942300",
   "metadata": {},
   "outputs": [
    {
     "name": "stdout",
     "output_type": "stream",
     "text": [
      "0.8323353293413174\n"
     ]
    }
   ],
   "source": [
    "# accuracy score calculation for the test dataset's for actual values (y_train) and predicted values (GS_Xgb_y_test_pred)\n",
    "GS_Xgb_test_acc_score = accuracy_score(y_test, GS_Xgb_y_test_pred)\n",
    "\n",
    "# Print accuracy score of test dataset of grid search for Xgb boosting\n",
    "print(GS_Xgb_test_acc_score)"
   ]
  },
  {
   "cell_type": "markdown",
   "id": "0aafbc88",
   "metadata": {},
   "source": [
    "##### 3.11.2.5 Checking for overfitting and underfitting "
   ]
  },
  {
   "cell_type": "code",
   "execution_count": 406,
   "id": "02c4130f",
   "metadata": {},
   "outputs": [
    {
     "name": "stdout",
     "output_type": "stream",
     "text": [
      "The 'Grid search of Xgb Boosting' trained model is overfitting.\n"
     ]
    }
   ],
   "source": [
    "# Check for overfitting\n",
    "if GS_Xgb_train_acc_score > GS_Xgb_test_acc_score + 0.15:  # Example threshold for overfitting\n",
    "    print(\"The 'Grid search of Xgb Boosting' trained model is overfitting.\")\n",
    "elif GS_Xgb_train_acc_score < GS_Xgb_test_acc_score - 0.15:  # Example threshold for underfitting\n",
    "    print(\"The 'Grid search of Xgb Boosting' trained model is underfitting.\")\n",
    "else:\n",
    "    print(\"The 'Grid search of Xgb Boosting' trained model is Well-fitted.\")"
   ]
  },
  {
   "cell_type": "markdown",
   "id": "d5210fd4",
   "metadata": {},
   "source": [
    "### 3.12 Classification Decision Tree\n",
    "##### 3.12.1 Performing Regression Decision Tree technique by using sklearn model on \"y_train\" and \"x_train\" varaibles "
   ]
  },
  {
   "cell_type": "code",
   "execution_count": 407,
   "id": "df482437",
   "metadata": {},
   "outputs": [
    {
     "data": {
      "text/html": [
       "<style>#sk-container-id-24 {color: black;background-color: white;}#sk-container-id-24 pre{padding: 0;}#sk-container-id-24 div.sk-toggleable {background-color: white;}#sk-container-id-24 label.sk-toggleable__label {cursor: pointer;display: block;width: 100%;margin-bottom: 0;padding: 0.3em;box-sizing: border-box;text-align: center;}#sk-container-id-24 label.sk-toggleable__label-arrow:before {content: \"▸\";float: left;margin-right: 0.25em;color: #696969;}#sk-container-id-24 label.sk-toggleable__label-arrow:hover:before {color: black;}#sk-container-id-24 div.sk-estimator:hover label.sk-toggleable__label-arrow:before {color: black;}#sk-container-id-24 div.sk-toggleable__content {max-height: 0;max-width: 0;overflow: hidden;text-align: left;background-color: #f0f8ff;}#sk-container-id-24 div.sk-toggleable__content pre {margin: 0.2em;color: black;border-radius: 0.25em;background-color: #f0f8ff;}#sk-container-id-24 input.sk-toggleable__control:checked~div.sk-toggleable__content {max-height: 200px;max-width: 100%;overflow: auto;}#sk-container-id-24 input.sk-toggleable__control:checked~label.sk-toggleable__label-arrow:before {content: \"▾\";}#sk-container-id-24 div.sk-estimator input.sk-toggleable__control:checked~label.sk-toggleable__label {background-color: #d4ebff;}#sk-container-id-24 div.sk-label input.sk-toggleable__control:checked~label.sk-toggleable__label {background-color: #d4ebff;}#sk-container-id-24 input.sk-hidden--visually {border: 0;clip: rect(1px 1px 1px 1px);clip: rect(1px, 1px, 1px, 1px);height: 1px;margin: -1px;overflow: hidden;padding: 0;position: absolute;width: 1px;}#sk-container-id-24 div.sk-estimator {font-family: monospace;background-color: #f0f8ff;border: 1px dotted black;border-radius: 0.25em;box-sizing: border-box;margin-bottom: 0.5em;}#sk-container-id-24 div.sk-estimator:hover {background-color: #d4ebff;}#sk-container-id-24 div.sk-parallel-item::after {content: \"\";width: 100%;border-bottom: 1px solid gray;flex-grow: 1;}#sk-container-id-24 div.sk-label:hover label.sk-toggleable__label {background-color: #d4ebff;}#sk-container-id-24 div.sk-serial::before {content: \"\";position: absolute;border-left: 1px solid gray;box-sizing: border-box;top: 0;bottom: 0;left: 50%;z-index: 0;}#sk-container-id-24 div.sk-serial {display: flex;flex-direction: column;align-items: center;background-color: white;padding-right: 0.2em;padding-left: 0.2em;position: relative;}#sk-container-id-24 div.sk-item {position: relative;z-index: 1;}#sk-container-id-24 div.sk-parallel {display: flex;align-items: stretch;justify-content: center;background-color: white;position: relative;}#sk-container-id-24 div.sk-item::before, #sk-container-id-24 div.sk-parallel-item::before {content: \"\";position: absolute;border-left: 1px solid gray;box-sizing: border-box;top: 0;bottom: 0;left: 50%;z-index: -1;}#sk-container-id-24 div.sk-parallel-item {display: flex;flex-direction: column;z-index: 1;position: relative;background-color: white;}#sk-container-id-24 div.sk-parallel-item:first-child::after {align-self: flex-end;width: 50%;}#sk-container-id-24 div.sk-parallel-item:last-child::after {align-self: flex-start;width: 50%;}#sk-container-id-24 div.sk-parallel-item:only-child::after {width: 0;}#sk-container-id-24 div.sk-dashed-wrapped {border: 1px dashed gray;margin: 0 0.4em 0.5em 0.4em;box-sizing: border-box;padding-bottom: 0.4em;background-color: white;}#sk-container-id-24 div.sk-label label {font-family: monospace;font-weight: bold;display: inline-block;line-height: 1.2em;}#sk-container-id-24 div.sk-label-container {text-align: center;}#sk-container-id-24 div.sk-container {/* jupyter's `normalize.less` sets `[hidden] { display: none; }` but bootstrap.min.css set `[hidden] { display: none !important; }` so we also need the `!important` here to be able to override the default hidden behavior on the sphinx rendered scikit-learn.org. See: https://github.com/scikit-learn/scikit-learn/issues/21755 */display: inline-block !important;position: relative;}#sk-container-id-24 div.sk-text-repr-fallback {display: none;}</style><div id=\"sk-container-id-24\" class=\"sk-top-container\"><div class=\"sk-text-repr-fallback\"><pre>DecisionTreeClassifier(max_depth=3)</pre><b>In a Jupyter environment, please rerun this cell to show the HTML representation or trust the notebook. <br />On GitHub, the HTML representation is unable to render, please try loading this page with nbviewer.org.</b></div><div class=\"sk-container\" hidden><div class=\"sk-item\"><div class=\"sk-estimator sk-toggleable\"><input class=\"sk-toggleable__control sk-hidden--visually\" id=\"sk-estimator-id-40\" type=\"checkbox\" checked><label for=\"sk-estimator-id-40\" class=\"sk-toggleable__label sk-toggleable__label-arrow\">DecisionTreeClassifier</label><div class=\"sk-toggleable__content\"><pre>DecisionTreeClassifier(max_depth=3)</pre></div></div></div></div></div>"
      ],
      "text/plain": [
       "DecisionTreeClassifier(max_depth=3)"
      ]
     },
     "execution_count": 407,
     "metadata": {},
     "output_type": "execute_result"
    }
   ],
   "source": [
    "# Import tree from sklearn model\n",
    "from sklearn import tree\n",
    "\n",
    "# Train tree for the classifier at max_depth=3\n",
    "clftree = tree.DecisionTreeClassifier(max_depth = 3)\n",
    "\n",
    "# Fit classifier tree with train datasets\n",
    "clftree.fit(x_train_scaler, y_train)"
   ]
  },
  {
   "cell_type": "code",
   "execution_count": 408,
   "id": "9baf784b",
   "metadata": {},
   "outputs": [],
   "source": [
    "# Import Image from IPython.display model\n",
    "from IPython.display import Image  \n",
    "\n",
    "# Import pydotplus\n",
    "import pydotplus "
   ]
  },
  {
   "cell_type": "code",
   "execution_count": 409,
   "id": "27c89277",
   "metadata": {},
   "outputs": [],
   "source": [
    "# export graphviz for tree with some defined parameters\n",
    "dot_data = tree.export_graphviz(clftree, out_file=None, feature_names=x_train.columns, filled = True)"
   ]
  },
  {
   "cell_type": "code",
   "execution_count": 410,
   "id": "fc052ba6",
   "metadata": {},
   "outputs": [
    {
     "data": {
      "image/png": "[encoded data removed]",
      "text/plain": [
       "<IPython.core.display.Image object>"
      ]
     },
     "execution_count": 410,
     "metadata": {},
     "output_type": "execute_result"
    }
   ],
   "source": [
    "# Generate the graph from the dot data using pydotplus\n",
    "clf_graph = pydotplus.graph_from_dot_data(dot_data)\n",
    "\n",
    "# Display the graph as a PNG image using IPython's Image class\n",
    "Image(clf_graph.create_png())"
   ]
  },
  {
   "cell_type": "code",
   "execution_count": 411,
   "id": "682b3480",
   "metadata": {},
   "outputs": [
    {
     "name": "stdout",
     "output_type": "stream",
     "text": [
      "\u001b[1m clftree_y_train_pred \u001b[0m \n",
      " [0. 0. 0. ... 1. 0. 0.] \n",
      "\n",
      "\u001b[1m clftree_y_test_pred \u001b[0m \n",
      " [0. 0. 0. 0. 0. 0. 0. 0. 0. 0. 0. 0. 0. 0. 0. 0. 0. 0. 0. 0. 0. 0. 0. 0.\n",
      " 0. 0. 0. 0. 0. 0. 0. 1. 0. 0. 0. 1. 1. 1. 1. 0. 0. 0. 0. 0. 0. 0. 0. 1.\n",
      " 1. 0. 0. 0. 1. 0. 0. 0. 0. 0. 1. 0. 1. 0. 0. 0. 0. 1. 0. 0. 0. 0. 0. 0.\n",
      " 0. 0. 0. 0. 0. 0. 1. 0. 0. 0. 0. 1. 0. 1. 0. 1. 1. 0. 0. 0. 1. 0. 0. 0.\n",
      " 0. 0. 0. 0. 0. 1. 0. 0. 1. 0. 0. 0. 0. 1. 0. 1. 1. 0. 1. 0. 0. 0. 0. 0.\n",
      " 0. 0. 1. 0. 0. 1. 0. 1. 0. 0. 0. 0. 0. 1. 1. 0. 0. 0. 0. 0. 0. 1. 0. 0.\n",
      " 0. 0. 0. 0. 0. 0. 0. 1. 1. 0. 0. 0. 1. 0. 0. 0. 0. 1. 0. 0. 0. 1. 0. 1.\n",
      " 0. 0. 1. 0. 0. 0. 0. 0. 0. 0. 0. 0. 0. 1. 1. 0. 0. 0. 1. 0. 0. 1. 0. 0.\n",
      " 1. 1. 0. 0. 0. 0. 1. 0. 0. 0. 0. 1. 1. 0. 1. 0. 0. 0. 0. 0. 0. 0. 0. 0.\n",
      " 1. 0. 0. 1. 0. 0. 0. 0. 0. 0. 0. 1. 1. 0. 1. 0. 0. 0. 0. 0. 0. 0. 0. 1.\n",
      " 0. 1. 0. 0. 0. 0. 1. 0. 0. 0. 0. 1. 1. 0. 0. 1. 0. 0. 0. 0. 0. 0. 0. 1.\n",
      " 0. 0. 1. 0. 0. 1. 0. 0. 0. 0. 1. 1. 0. 1. 1. 0. 0. 1. 0. 0. 0. 1. 0. 0.\n",
      " 1. 0. 0. 0. 0. 0. 0. 1. 0. 0. 0. 1. 0. 0. 0. 0. 0. 1. 0. 0. 0. 0. 0. 0.\n",
      " 0. 0. 0. 0. 1. 0. 0. 0. 1. 1. 0. 0. 0. 1. 0. 0. 1. 0. 0. 0. 0. 0. 0. 0.\n",
      " 1. 0. 0. 0. 0. 1. 0. 0. 0. 0. 0. 0. 0. 0. 0. 0. 0. 0. 0. 0. 0. 0. 0. 0.\n",
      " 0. 1. 0. 0. 0. 1. 0. 0. 0. 0. 0. 0. 0. 0. 0. 1. 0. 0. 0. 0. 0. 1. 0. 0.\n",
      " 1. 0. 0. 0. 1. 1. 0. 0. 0. 0. 1. 1. 1. 0. 0. 0. 0. 0. 0. 0. 0. 1. 0. 1.\n",
      " 0. 0. 1. 0. 0. 1. 1. 0. 0. 0. 0. 0. 0. 0. 1. 0. 0. 0. 1. 0. 1. 0. 1. 0.\n",
      " 0. 0. 0. 0. 0. 0. 0. 0. 0. 0. 0. 0. 1. 1. 1. 0. 1. 0. 0. 0. 0. 0. 0. 1.\n",
      " 0. 0. 0. 0. 0. 0. 0. 0. 0. 1. 0. 0. 0. 0. 1. 0. 0. 0. 0. 0. 0. 0. 0. 0.\n",
      " 1. 0. 0. 0. 0. 0. 0. 0. 0. 0. 0. 1. 0. 0. 0. 0. 0. 0. 0. 0. 0. 0. 0. 0.\n",
      " 1. 0. 0. 0. 0. 1. 0. 0. 0. 1. 1. 0. 0. 0. 0. 0. 0. 0. 0. 0. 0. 1. 1. 0.\n",
      " 0. 1. 0. 0. 1. 0. 0. 0. 0. 1. 0. 0. 0. 0. 0. 1. 0. 0. 0. 0. 0. 1. 0. 0.\n",
      " 0. 0. 1. 0. 0. 0. 1. 0. 0. 0. 0. 0. 0. 0. 0. 0. 1. 0. 0. 0. 0. 0. 0. 0.\n",
      " 0. 0. 0. 0. 1. 1. 1. 0. 0. 0. 1. 1. 0. 0. 0. 0. 0. 1. 0. 0. 0. 0. 0. 0.\n",
      " 0. 1. 0. 0. 0. 0. 0. 0. 0. 1. 0. 0. 0. 0. 1. 0. 1. 0. 0. 0. 0. 1. 0. 0.\n",
      " 0. 0. 0. 0. 0. 0. 0. 0. 0. 1. 0. 1. 0. 0. 0. 1. 0. 0. 0. 0. 0. 0. 0. 1.\n",
      " 0. 0. 0. 0. 1. 0. 1. 0. 0. 0. 0. 0. 1. 0. 0. 1. 0. 0. 0. 0.] \n",
      "\n"
     ]
    }
   ],
   "source": [
    "# Predict the target variable for the train and test dataset for classification dicison tree\n",
    "clftree_y_train_pred = clftree.predict(x_train_scaler)\n",
    "clftree_y_test_pred = clftree.predict(x_test_scaler)\n",
    "\n",
    "# Print the predicted values for the train and test dataset\n",
    "print((\"\\033[1m clftree_y_train_pred \\033[0m\"), \"\\n\", clftree_y_train_pred, \"\\n\")\n",
    "print((\"\\033[1m clftree_y_test_pred \\033[0m\"), \"\\n\", clftree_y_test_pred, \"\\n\")"
   ]
  },
  {
   "cell_type": "markdown",
   "id": "bb9406f4",
   "metadata": {},
   "source": [
    "##### 3.12.2 Performance evaluation for Classification Decision Tree\n",
    "##### 3.12.2.1 Calculation of MSE for train and test dataset "
   ]
  },
  {
   "cell_type": "code",
   "execution_count": 412,
   "id": "c748d20e",
   "metadata": {},
   "outputs": [
    {
     "name": "stdout",
     "output_type": "stream",
     "text": [
      "0.1738478831022855\n"
     ]
    }
   ],
   "source": [
    "# Calculate mean squared error for training dataset of classification dicision tree\n",
    "clftree_train_mse = mean_squared_error(y_train, clftree_y_train_pred)\n",
    "\n",
    "# Print \"MSE\" of train dataset of classification dicision tree\n",
    "print(clftree_train_mse) "
   ]
  },
  {
   "cell_type": "code",
   "execution_count": 413,
   "id": "ff38414d",
   "metadata": {},
   "outputs": [
    {
     "name": "stdout",
     "output_type": "stream",
     "text": [
      "0.18862275449101795\n"
     ]
    }
   ],
   "source": [
    "# Calculate mean squared error for testing dataset of classification dicision tree\n",
    "clftree_test_mse = mean_squared_error(y_test, clftree_y_test_pred)\n",
    "\n",
    "# Print \"MSE\" of test dataset of classification dicision tree\n",
    "print(clftree_test_mse) "
   ]
  },
  {
   "cell_type": "markdown",
   "id": "61b5f300",
   "metadata": {},
   "source": [
    "##### 3.12.2.2 Calculation of MAE for train and test dataset "
   ]
  },
  {
   "cell_type": "code",
   "execution_count": 414,
   "id": "70711567",
   "metadata": {},
   "outputs": [
    {
     "name": "stdout",
     "output_type": "stream",
     "text": [
      "0.1738478831022855\n"
     ]
    }
   ],
   "source": [
    "# Calculate mean absolute error for training dataset of classification dicision tree\n",
    "clftree_train_mae = mean_absolute_error(y_train, clftree_y_train_pred)\n",
    "\n",
    "# Print \"MAE\" of train dataset of classification dicision tree\n",
    "print(clftree_train_mae)"
   ]
  },
  {
   "cell_type": "code",
   "execution_count": 415,
   "id": "21c60cd8",
   "metadata": {},
   "outputs": [
    {
     "name": "stdout",
     "output_type": "stream",
     "text": [
      "0.18862275449101795\n"
     ]
    }
   ],
   "source": [
    "# Calculate mean absolute error for testing dataset of classification dicision tree\n",
    "clftree_test_mae = mean_absolute_error(y_test, clftree_y_test_pred)\n",
    "\n",
    "# Print \"MAE\" of test dataset of classification dicision tree\n",
    "print(clftree_test_mae)"
   ]
  },
  {
   "cell_type": "markdown",
   "id": "df01c8d1",
   "metadata": {},
   "source": [
    "##### 3.12.2.4 Calculation of accuracy score for train and test dataset "
   ]
  },
  {
   "cell_type": "code",
   "execution_count": 416,
   "id": "0718e996",
   "metadata": {},
   "outputs": [
    {
     "name": "stdout",
     "output_type": "stream",
     "text": [
      "0.8261521168977145\n"
     ]
    }
   ],
   "source": [
    "# accuracy score calculation for the train dataset's for actual values (y_train) and predicted values (clftree_y_train_pred)\n",
    "clftree_train_acc_score = accuracy_score(y_train, clftree_y_train_pred)\n",
    "\n",
    "# Print accuracy score of train dataset of classification dicision tree\n",
    "print(clftree_train_acc_score)"
   ]
  },
  {
   "cell_type": "code",
   "execution_count": 417,
   "id": "5660281f",
   "metadata": {},
   "outputs": [
    {
     "name": "stdout",
     "output_type": "stream",
     "text": [
      "0.811377245508982\n"
     ]
    }
   ],
   "source": [
    "# accuracy score calculation for the test dataset's for actual values (y_test) and predicted values (clftree_y_test_pred)\n",
    "clftree_test_acc_score = accuracy_score(y_test, clftree_y_test_pred)\n",
    "\n",
    "# Print accuracy score of test dataset of classification dicision tree\n",
    "print(clftree_test_acc_score)"
   ]
  },
  {
   "cell_type": "markdown",
   "id": "35c583f1",
   "metadata": {},
   "source": [
    "##### 3.12.2.4 Checking for overfitting and underfitting "
   ]
  },
  {
   "cell_type": "code",
   "execution_count": 418,
   "id": "503d63d6",
   "metadata": {},
   "outputs": [
    {
     "name": "stdout",
     "output_type": "stream",
     "text": [
      "The 'Classification Decision Tree' trained model is Well-fitted.\n"
     ]
    }
   ],
   "source": [
    "# Check for overfitting\n",
    "if clftree_train_acc_score > clftree_test_acc_score + 0.15:  # Example threshold for overfitting\n",
    "    print(\"The 'Classification Decision Tree' trained model is overfitting.\")\n",
    "elif clftree_train_acc_score < clftree_test_acc_score - 0.15:  # Example threshold for underfitting\n",
    "    print(\"The 'Classification Decision Tree' trained model is underfitting.\")\n",
    "else:\n",
    "    print(\"The 'Classification Decision Tree' trained model is Well-fitted.\")"
   ]
  },
  {
   "cell_type": "markdown",
   "id": "93d3b5a3",
   "metadata": {},
   "source": [
    "### Comparision of machine learning models used to train model for predicting salary"
   ]
  },
  {
   "cell_type": "code",
   "execution_count": 419,
   "id": "46549f16",
   "metadata": {},
   "outputs": [
    {
     "name": "stdout",
     "output_type": "stream",
     "text": [
      "                           Model  MSE_of_training  MSE_of_testing  \\\n",
      "0            Logistic Regression         0.163357        0.170659   \n",
      "1   Linear Discriminant Analysis         0.168977        0.163174   \n",
      "2            K-Nearest Neighbors         0.153990        0.153990   \n",
      "3     GS for K-Nearest Neighbors         0.155489        0.155489   \n",
      "4                        Bagging         0.000000        0.179641   \n",
      "5                  Random Forest         0.000000        0.161677   \n",
      "6           GS for Random Forest         0.042338        0.172156   \n",
      "7              Gradient Boosting         0.117647        0.160180   \n",
      "8                      Ada boost         0.153616        0.157186   \n",
      "9                       XG Boost         0.000000        0.161677   \n",
      "10               GS for XG Boost         0.001499        0.167665   \n",
      "11  Classification Decision Tree         0.173848        0.188623   \n",
      "\n",
      "    MAE_of_training  MAE_of_testing  accuracy_score_training  \\\n",
      "0          0.163357        0.170659                 0.836643   \n",
      "1          0.168977        0.163174                 0.831023   \n",
      "2          0.153990        0.170659                 0.846010   \n",
      "3          0.155489        0.170659                 0.844511   \n",
      "4          0.000000        0.179641                 1.000000   \n",
      "5          0.000000        0.161677                 1.000000   \n",
      "6          0.042338        0.172156                 0.957662   \n",
      "7          0.117647        0.160180                 0.882353   \n",
      "8          0.153616        0.157186                 0.846384   \n",
      "9          0.000000        0.161677                 1.000000   \n",
      "10         0.001499        0.167665                 0.998501   \n",
      "11         0.173848        0.188623                 0.826152   \n",
      "\n",
      "    accuracy_score_testing  accuracy_score_difference Fitting_Status  \n",
      "0                 0.829341                   0.007302    Well-fitted  \n",
      "1                 0.836826                   0.005803    Well-fitted  \n",
      "2                 0.835329                   0.010680    Well-fitted  \n",
      "3                 0.829341                   0.015170    Well-fitted  \n",
      "4                 0.820359                   0.179641    Overfitting  \n",
      "5                 0.838323                   0.161677    Overfitting  \n",
      "6                 0.827844                   0.129818    Well-fitted  \n",
      "7                 0.839820                   0.042533    Well-fitted  \n",
      "8                 0.842814                   0.003570    Well-fitted  \n",
      "9                 0.838323                   0.161677    Overfitting  \n",
      "10                0.832335                   0.166166    Overfitting  \n",
      "11                0.811377                   0.014775    Well-fitted  \n"
     ]
    }
   ],
   "source": [
    "# Function to determine fitting status\n",
    "def determine_fitting_status(train_r2, test_r2, threshold=0.15):\n",
    "    if train_r2 > test_r2 + threshold:\n",
    "        return \"Overfitting\"\n",
    "    elif train_r2 < test_r2 - threshold:\n",
    "        return \"Underfitting\"\n",
    "    else:\n",
    "        return \"Well-fitted\"\n",
    "\n",
    "# Data for the table\n",
    "data = {\n",
    "    \"Model\": [\"Logistic Regression\", \"Linear Discriminant Analysis\", \"K-Nearest Neighbors\", \"GS for K-Nearest Neighbors\",\n",
    "              \"Bagging\", \"Random Forest\", \"GS for Random Forest\", \"Gradient Boosting\", \"Ada boost\", \"XG Boost\",\n",
    "              \"GS for XG Boost\", \"Classification Decision Tree\"],\n",
    "    \n",
    "    \"MSE_of_training\": [LR_train_mse, LDA_train_mse, KNN_train_mse, KNN_best_train_mse, Bagging_train_mse, \n",
    "                        RF_train_mse, GS_RF_train_mse, GB_train_mse, Ada_train_mse, Xgb_train_mse, GS_Xgb_train_mse,\n",
    "                        clftree_train_mse],\n",
    "    \n",
    "    \"MSE_of_testing\": [LR_test_mse, LDA_test_mse, KNN_test_mse, KNN_best_train_mse, Bagging_test_mse, \n",
    "                       RF_test_mse, GS_RF_test_mse, GB_test_mse, Ada_test_mse, Xgb_test_mse, GS_Xgb_test_mse,\n",
    "                       clftree_test_mse],\n",
    "    \n",
    "    \"MAE_of_training\": [LR_train_mae, LDA_train_mae, KNN_train_mae, KNN_best_train_mae, Bagging_train_mae, \n",
    "                        RF_train_mae, GS_RF_train_mae, GB_train_mae, Ada_train_mae, Xgb_train_mae, GS_Xgb_train_mae,\n",
    "                        clftree_train_mae],\n",
    "    \n",
    "    \"MAE_of_testing\": [LR_test_mae, LDA_test_mae, KNN_best_test_mae, KNN_best_test_mae, Bagging_test_mae, \n",
    "                       RF_test_mae, GS_RF_test_mae, GB_test_mae, Ada_test_mae, Xgb_test_mae, GS_Xgb_test_mae,\n",
    "                       clftree_test_mse],\n",
    "    \n",
    "    \"accuracy_score_training\": [LR_train_acc_score, LDA_train_acc_score, KNN_train_acc_score, KNN_best_train_acc_score,\n",
    "                                Bagging_train_acc_score, RF_train_acc_score, GS_RF_train_acc_score, GB_train_acc_score,\n",
    "                                Ada_train_acc_score, Xgb_train_acc_score, GS_Xgb_train_acc_score, clftree_train_acc_score],\n",
    "    \n",
    "    \"accuracy_score_testing\": [LR_test_acc_score, LDA_test_acc_score, KNN_test_acc_score, KNN_best_test_acc_score,\n",
    "                                Bagging_test_acc_score, RF_test_acc_score, GS_RF_test_acc_score, GB_test_acc_score, \n",
    "                               Ada_test_acc_score, Xgb_test_acc_score, GS_Xgb_test_acc_score, clftree_test_acc_score]}\n",
    "\n",
    "# Calculate accuracy_score differences\n",
    "data[\"accuracy_score_difference\"] = [abs(train-test) for train, test in zip(data[\"accuracy_score_training\"],\n",
    "                                                                            data[\"accuracy_score_testing\"])]\n",
    "\n",
    "# Determine fitting status for each model\n",
    "fitting_status = [determine_fitting_status(train_r2, test_r2) for train_r2, test_r2 in zip(data[\"accuracy_score_training\"], \n",
    "                                                                                           data[\"accuracy_score_testing\"])]\n",
    "\n",
    "# Add fitting status to data\n",
    "data[\"Fitting_Status\"] = fitting_status\n",
    "\n",
    "df = pd.DataFrame(data)  # Create DataFrame\n",
    "print(df) # Display the table"
   ]
  },
  {
   "cell_type": "markdown",
   "id": "b0f7785f",
   "metadata": {},
   "source": [
    "## 4. Which model’s performance is best and what could be the possible reason for that?"
   ]
  },
  {
   "cell_type": "code",
   "execution_count": 420,
   "id": "636dec2e",
   "metadata": {},
   "outputs": [
    {
     "name": "stdout",
     "output_type": "stream",
     "text": [
      "Model                          Ada boost\n",
      "MSE_of_training                 0.153616\n",
      "MSE_of_testing                  0.157186\n",
      "MAE_of_training                 0.153616\n",
      "MAE_of_testing                  0.157186\n",
      "accuracy_score_training         0.846384\n",
      "accuracy_score_testing          0.842814\n",
      "accuracy_score_difference        0.00357\n",
      "Fitting_Status               Well-fitted\n",
      "Name: 8, dtype: object\n"
     ]
    }
   ],
   "source": [
    "# Find the row with the minimum accuracy score difference\n",
    "min_r2_diff_index = df[\"accuracy_score_difference\"].idxmin()\n",
    "min_r2_diff_row = df.loc[min_r2_diff_index]\n",
    "\n",
    "# Display the entire row with minimum accuracy score difference\n",
    "print(min_r2_diff_row)"
   ]
  },
  {
   "cell_type": "markdown",
   "id": "53d8a7e9",
   "metadata": {},
   "source": [
    "After evaluating twelve possible classification models, the **Ada boost** showed the best performance as its accuracy score difference value is less in compare to other eleven possible classification models.\n",
    "\n",
    "- Ada Boost is an advanced ensemble techniques based on maximum liklihood model, which tends to perform well in categorical data type target variable.\n",
    "\n",
    "- Ada Boost method looks for the parameters according to the Raindata for sydney, at which it provide best fit and gives less accuracy score difference between train and test data.\n",
    "\n",
    "- By combining weak classifiers, AdaBoost significantly improves prediction accuracy compared to using a single classifier.\n",
    "\n",
    "- AdaBoost tends to be less prone to overfitting than other ensemble methods, especially when used with low-complexity weak classifiers."
   ]
  },
  {
   "cell_type": "markdown",
   "id": "34514f26",
   "metadata": {},
   "source": [
    "## 5. What steps can you take to improve this selected model’s performance even further?\n",
    "**5.1 Hyperparameter Tuning:-** Perform grid search or randomized search to fine-tune hyperparameters like the number of estimators, maximum depth, minimum samples split, etc., of the Random Forest Classifier.\n",
    "\n",
    "&rightarrow; Performed grid-search above for Random Forest classifier **(refer to 3.7)**\n",
    "\n",
    "**5.2 Ensemble Methods:-** Explore ensemble methods like Gradient Boosting classifier models to further improve performance.\n",
    "\n",
    "&rightarrow; Performed ensemble methods above like Gradient Boosting classifier **(refer to 3.8)**\n",
    "\n",
    "**5.3 Decision Tree:-** Analyse the prediction with the decision tree as it more closely mirrors human decision-making than other classifier **(refer to 3.12)**\n",
    "\n",
    "**5.4 Advanced Techniques:-** Analyse with advanced techniques like ADABoost, and XGBoost to see if they can achieve better performance.\n",
    "\n",
    "&rightarrow; Performed advanced techniques like ADABoost **(refer to 3.9)**, and XGBoost **(refer to 3.10)**\n",
    "\n",
    "**Data Augmentation:-** If applicable and required, augment the dataset with additional data or synthetically generated data to increase the model's training data and improve its performance."
   ]
  },
  {
   "cell_type": "code",
   "execution_count": 421,
   "id": "32031e09",
   "metadata": {},
   "outputs": [
    {
     "name": "stdout",
     "output_type": "stream",
     "text": [
      "Execution time: 686.4435641765594 seconds\n"
     ]
    }
   ],
   "source": [
    "# End time\n",
    "end_time = time.time()\n",
    "\n",
    "# Calculate and print execution time\n",
    "execution_time = end_time - start_time\n",
    "print(f\"Execution time: {execution_time} seconds\")  # ptint execution time in second"
   ]
  },
  {
   "cell_type": "code",
   "execution_count": null,
   "id": "8c0ddbb9",
   "metadata": {},
   "outputs": [],
   "source": []
  }
 ],
 "metadata": {
  "kernelspec": {
   "display_name": "Python 3 (ipykernel)",
   "language": "python",
   "name": "python3"
  },
  "language_info": {
   "codemirror_mode": {
    "name": "ipython",
    "version": 3
   },
   "file_extension": ".py",
   "mimetype": "text/x-python",
   "name": "python",
   "nbconvert_exporter": "python",
   "pygments_lexer": "ipython3",
   "version": "3.11.7"
  }
 },
 "nbformat": 4,
 "nbformat_minor": 5
}
